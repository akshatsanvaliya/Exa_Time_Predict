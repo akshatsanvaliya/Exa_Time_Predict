{
 "nbformat": 4,
 "nbformat_minor": 0,
 "metadata": {
  "colab": {
   "name": "demo-traffic-jam-prediction-output-removed",
   "version": "0.3.2",
   "provenance": [],
   "collapsed_sections": []
  },
  "kernelspec": {
   "name": "python3",
   "display_name": "Python 3"
  },
  "accelerator": "TPU"
 },
 "cells": [
  {
   "metadata": {
    "id": "VfLkYmlDRMp9",
    "colab_type": "code",
    "colab": {},
    "pycharm": {
     "name": "#%%\n"
    }
   },
   "cell_type": "code",
   "source": [
    "import pandas as pd"
   ],
   "execution_count": 1,
   "outputs": []
  },
  {
   "metadata": {
    "id": "EvYjSr1THMqW",
    "colab_type": "code",
    "colab": {},
    "pycharm": {
     "name": "#%%\n"
    }
   },
   "cell_type": "code",
   "source": [
    "import pickle"
   ],
   "execution_count": 2,
   "outputs": []
  },
  {
   "metadata": {
    "id": "zXOvATNkMw7n",
    "colab_type": "code",
    "colab": {},
    "pycharm": {
     "name": "#%%\n"
    }
   },
   "cell_type": "code",
   "source": [
    "!git clone https://github.com/wshuyi/demo_traffic_jam_prediction.git"
   ],
   "execution_count": 3,
   "outputs": [
    {
     "name": "stderr",
     "output_type": "stream",
     "text": [
      "fatal: destination path 'demo_traffic_jam_prediction' already exists and is not an empty directory.\n"
     ]
    }
   ]
  },
  {
   "metadata": {
    "id": "96aIaqhpM0b3",
    "colab_type": "code",
    "colab": {},
    "pycharm": {
     "name": "#%%\n"
    }
   },
   "cell_type": "code",
   "source": [
    "from pathlib import Path\n",
    "data_dir = Path('demo_traffic_jam_prediction')"
   ],
   "execution_count": 4,
   "outputs": []
  },
  {
   "metadata": {
    "id": "Y2XkvZrYHPnS",
    "colab_type": "code",
    "colab": {},
    "pycharm": {
     "name": "#%%\n"
    }
   },
   "cell_type": "code",
   "source": [
    "with open(data_dir / 'data.pickle', 'rb') as f:\n",
    "    [event_dict, df] = pickle.load(f)"
   ],
   "execution_count": 5,
   "outputs": []
  },
  {
   "metadata": {
    "id": "uIfsslVMHWNc",
    "colab_type": "code",
    "colab": {},
    "pycharm": {
     "name": "#%%\n"
    }
   },
   "cell_type": "code",
   "source": [
    "event_dict"
   ],
   "execution_count": 6,
   "outputs": [
    {
     "data": {
      "text/plain": "{1: 'road closed due to construction',\n 2: 'traffic jam',\n 3: 'stopped car on the shoulder',\n 4: 'road closed',\n 5: 'other',\n 6: 'object on roadway',\n 7: 'major event',\n 8: 'pothole',\n 9: 'traffic heavier than normal',\n 10: 'road construction',\n 11: 'fog',\n 12: 'accident',\n 13: 'slowdown',\n 14: 'stopped car',\n 15: 'small traffic jam',\n 16: 'stopped traffic',\n 17: 'heavy traffic',\n 18: 'minor accident',\n 19: 'medium traffic jam',\n 20: 'malfunctioning traffic light',\n 21: 'missing sign on the shoulder',\n 22: 'animal on the shoulder',\n 23: 'animal struck',\n 24: 'large traffic jam',\n 25: 'hazard on the shoulder',\n 26: 'hazard on road',\n 27: 'ice on roadway',\n 28: 'weather hazard',\n 29: 'flooding',\n 30: 'road closed due to hazard',\n 31: 'hail',\n 32: 'huge traffic jam'}"
     },
     "execution_count": 6,
     "metadata": {},
     "output_type": "execute_result"
    }
   ]
  },
  {
   "metadata": {
    "id": "1gkMaCEkRr-u",
    "colab_type": "code",
    "colab": {},
    "pycharm": {
     "name": "#%%\n"
    }
   },
   "cell_type": "code",
   "source": [
    "df.head(10)"
   ],
   "execution_count": 7,
   "outputs": [
    {
     "data": {
      "text/plain": "   label                                             events\n0      1  [traffic heavier than normal, heavy traffic, m...\n1      1  [traffic jam, road construction, stopped car o...\n2      1                                      [traffic jam]\n3      1                                      [traffic jam]\n4      1  [traffic jam, traffic jam, traffic jam, traffi...\n5      1  [stopped car on the shoulder, traffic jam, hea...\n6      1  [stopped car on the shoulder, traffic jam, hea...\n7      1  [traffic jam, small traffic jam, traffic jam, ...\n8      1  [heavy traffic, traffic jam, traffic jam, stop...\n9      1  [heavy traffic, traffic jam, traffic jam, stop...",
      "text/html": "<div>\n<style scoped>\n    .dataframe tbody tr th:only-of-type {\n        vertical-align: middle;\n    }\n\n    .dataframe tbody tr th {\n        vertical-align: top;\n    }\n\n    .dataframe thead th {\n        text-align: right;\n    }\n</style>\n<table border=\"1\" class=\"dataframe\">\n  <thead>\n    <tr style=\"text-align: right;\">\n      <th></th>\n      <th>label</th>\n      <th>events</th>\n    </tr>\n  </thead>\n  <tbody>\n    <tr>\n      <th>0</th>\n      <td>1</td>\n      <td>[traffic heavier than normal, heavy traffic, m...</td>\n    </tr>\n    <tr>\n      <th>1</th>\n      <td>1</td>\n      <td>[traffic jam, road construction, stopped car o...</td>\n    </tr>\n    <tr>\n      <th>2</th>\n      <td>1</td>\n      <td>[traffic jam]</td>\n    </tr>\n    <tr>\n      <th>3</th>\n      <td>1</td>\n      <td>[traffic jam]</td>\n    </tr>\n    <tr>\n      <th>4</th>\n      <td>1</td>\n      <td>[traffic jam, traffic jam, traffic jam, traffi...</td>\n    </tr>\n    <tr>\n      <th>5</th>\n      <td>1</td>\n      <td>[stopped car on the shoulder, traffic jam, hea...</td>\n    </tr>\n    <tr>\n      <th>6</th>\n      <td>1</td>\n      <td>[stopped car on the shoulder, traffic jam, hea...</td>\n    </tr>\n    <tr>\n      <th>7</th>\n      <td>1</td>\n      <td>[traffic jam, small traffic jam, traffic jam, ...</td>\n    </tr>\n    <tr>\n      <th>8</th>\n      <td>1</td>\n      <td>[heavy traffic, traffic jam, traffic jam, stop...</td>\n    </tr>\n    <tr>\n      <th>9</th>\n      <td>1</td>\n      <td>[heavy traffic, traffic jam, traffic jam, stop...</td>\n    </tr>\n  </tbody>\n</table>\n</div>"
     },
     "execution_count": 7,
     "metadata": {},
     "output_type": "execute_result"
    }
   ]
  },
  {
   "metadata": {
    "id": "cL1Ilf5r1DGs",
    "colab_type": "code",
    "colab": {},
    "pycharm": {
     "name": "#%%\n"
    }
   },
   "cell_type": "code",
   "source": [
    "df.tail(10)"
   ],
   "execution_count": 8,
   "outputs": [
    {
     "data": {
      "text/plain": "     label                                             events\n851      0            [traffic jam, traffic jam, traffic jam]\n852      0    [stopped traffic, traffic jam, stopped traffic]\n853      0  [stopped car on the shoulder, stopped traffic,...\n854      0                                  [stopped traffic]\n855      0  [stopped car on the shoulder, stopped car on t...\n856      0  [heavy traffic, heavy traffic, heavy traffic, ...\n857      0                         [traffic jam, traffic jam]\n858      0  [traffic jam, traffic jam, traffic heavier tha...\n859      0  [heavy traffic, stopped car on the shoulder, t...\n860      0  [heavy traffic, stopped car on the shoulder, s...",
      "text/html": "<div>\n<style scoped>\n    .dataframe tbody tr th:only-of-type {\n        vertical-align: middle;\n    }\n\n    .dataframe tbody tr th {\n        vertical-align: top;\n    }\n\n    .dataframe thead th {\n        text-align: right;\n    }\n</style>\n<table border=\"1\" class=\"dataframe\">\n  <thead>\n    <tr style=\"text-align: right;\">\n      <th></th>\n      <th>label</th>\n      <th>events</th>\n    </tr>\n  </thead>\n  <tbody>\n    <tr>\n      <th>851</th>\n      <td>0</td>\n      <td>[traffic jam, traffic jam, traffic jam]</td>\n    </tr>\n    <tr>\n      <th>852</th>\n      <td>0</td>\n      <td>[stopped traffic, traffic jam, stopped traffic]</td>\n    </tr>\n    <tr>\n      <th>853</th>\n      <td>0</td>\n      <td>[stopped car on the shoulder, stopped traffic,...</td>\n    </tr>\n    <tr>\n      <th>854</th>\n      <td>0</td>\n      <td>[stopped traffic]</td>\n    </tr>\n    <tr>\n      <th>855</th>\n      <td>0</td>\n      <td>[stopped car on the shoulder, stopped car on t...</td>\n    </tr>\n    <tr>\n      <th>856</th>\n      <td>0</td>\n      <td>[heavy traffic, heavy traffic, heavy traffic, ...</td>\n    </tr>\n    <tr>\n      <th>857</th>\n      <td>0</td>\n      <td>[traffic jam, traffic jam]</td>\n    </tr>\n    <tr>\n      <th>858</th>\n      <td>0</td>\n      <td>[traffic jam, traffic jam, traffic heavier tha...</td>\n    </tr>\n    <tr>\n      <th>859</th>\n      <td>0</td>\n      <td>[heavy traffic, stopped car on the shoulder, t...</td>\n    </tr>\n    <tr>\n      <th>860</th>\n      <td>0</td>\n      <td>[heavy traffic, stopped car on the shoulder, s...</td>\n    </tr>\n  </tbody>\n</table>\n</div>"
     },
     "execution_count": 8,
     "metadata": {},
     "output_type": "execute_result"
    }
   ]
  },
  {
   "metadata": {
    "id": "gYGxx2EwyShi",
    "colab_type": "code",
    "colab": {},
    "pycharm": {
     "name": "#%%\n"
    }
   },
   "cell_type": "code",
   "source": [
    "max_len_event_id = df.events.apply(len).idxmax()\n",
    "max_len_event_id"
   ],
   "execution_count": 9,
   "outputs": [
    {
     "data": {
      "text/plain": "105"
     },
     "execution_count": 9,
     "metadata": {},
     "output_type": "execute_result"
    }
   ]
  },
  {
   "metadata": {
    "id": "fdtdsYxfHaIf",
    "colab_type": "code",
    "colab": {},
    "pycharm": {
     "name": "#%%\n"
    }
   },
   "cell_type": "code",
   "source": [
    "max_len_event = df.iloc[max_len_event_id]\n",
    "max_len_event.events"
   ],
   "execution_count": 10,
   "outputs": [
    {
     "data": {
      "text/plain": "['stopped car on the shoulder',\n 'heavy traffic',\n 'heavy traffic',\n 'heavy traffic',\n 'slowdown',\n 'stopped traffic',\n 'heavy traffic',\n 'heavy traffic',\n 'heavy traffic',\n 'heavy traffic',\n 'traffic heavier than normal',\n 'stopped car on the shoulder',\n 'traffic jam',\n 'heavy traffic',\n 'stopped traffic',\n 'stopped traffic',\n 'stopped traffic',\n 'heavy traffic',\n 'traffic jam',\n 'stopped car on the shoulder',\n 'stopped traffic',\n 'stopped traffic',\n 'stopped traffic',\n 'heavy traffic',\n 'traffic heavier than normal',\n 'traffic heavier than normal',\n 'traffic heavier than normal',\n 'traffic heavier than normal',\n 'heavy traffic',\n 'stopped traffic',\n 'traffic heavier than normal',\n 'pothole',\n 'stopped car on the shoulder',\n 'traffic jam',\n 'slowdown',\n 'stopped traffic',\n 'heavy traffic',\n 'traffic heavier than normal',\n 'traffic jam',\n 'traffic jam',\n 'stopped car on the shoulder',\n 'major event',\n 'traffic jam',\n 'traffic jam',\n 'stopped traffic',\n 'heavy traffic',\n 'traffic heavier than normal',\n 'stopped car on the shoulder',\n 'slowdown',\n 'heavy traffic',\n 'heavy traffic',\n 'stopped car on the shoulder',\n 'traffic jam',\n 'slowdown',\n 'slowdown',\n 'heavy traffic',\n 'stopped car on the shoulder',\n 'heavy traffic',\n 'minor accident',\n 'stopped car on the shoulder',\n 'heavy traffic',\n 'stopped car on the shoulder',\n 'heavy traffic',\n 'stopped traffic',\n 'heavy traffic',\n 'traffic heavier than normal',\n 'heavy traffic',\n 'stopped car on the shoulder',\n 'traffic heavier than normal',\n 'stopped traffic',\n 'heavy traffic',\n 'heavy traffic',\n 'heavy traffic',\n 'stopped car on the shoulder',\n 'slowdown',\n 'stopped traffic',\n 'heavy traffic',\n 'stopped car on the shoulder',\n 'traffic heavier than normal',\n 'heavy traffic',\n 'minor accident',\n 'major event',\n 'stopped car on the shoulder',\n 'stopped car on the shoulder']"
     },
     "execution_count": 10,
     "metadata": {},
     "output_type": "execute_result"
    }
   ]
  },
  {
   "metadata": {
    "id": "RxJCwOZkIVN8",
    "colab_type": "code",
    "colab": {},
    "pycharm": {
     "name": "#%%\n"
    }
   },
   "cell_type": "code",
   "source": [
    "maxlen = len(max_len_event.events)\n",
    "maxlen"
   ],
   "execution_count": 11,
   "outputs": [
    {
     "data": {
      "text/plain": "84"
     },
     "execution_count": 11,
     "metadata": {},
     "output_type": "execute_result"
    }
   ]
  },
  {
   "metadata": {
    "id": "Ri-JNvFaJn07",
    "colab_type": "code",
    "colab": {},
    "pycharm": {
     "name": "#%%\n"
    }
   },
   "cell_type": "code",
   "source": [
    "reversed_dict = {}\n",
    "for k, v in event_dict.items():\n",
    "  reversed_dict[v] = k"
   ],
   "execution_count": 12,
   "outputs": []
  },
  {
   "metadata": {
    "id": "m6vkEi62KdRD",
    "colab_type": "code",
    "colab": {},
    "pycharm": {
     "name": "#%%\n"
    }
   },
   "cell_type": "code",
   "source": [
    "reversed_dict"
   ],
   "execution_count": 13,
   "outputs": [
    {
     "data": {
      "text/plain": "{'road closed due to construction': 1,\n 'traffic jam': 2,\n 'stopped car on the shoulder': 3,\n 'road closed': 4,\n 'other': 5,\n 'object on roadway': 6,\n 'major event': 7,\n 'pothole': 8,\n 'traffic heavier than normal': 9,\n 'road construction': 10,\n 'fog': 11,\n 'accident': 12,\n 'slowdown': 13,\n 'stopped car': 14,\n 'small traffic jam': 15,\n 'stopped traffic': 16,\n 'heavy traffic': 17,\n 'minor accident': 18,\n 'medium traffic jam': 19,\n 'malfunctioning traffic light': 20,\n 'missing sign on the shoulder': 21,\n 'animal on the shoulder': 22,\n 'animal struck': 23,\n 'large traffic jam': 24,\n 'hazard on the shoulder': 25,\n 'hazard on road': 26,\n 'ice on roadway': 27,\n 'weather hazard': 28,\n 'flooding': 29,\n 'road closed due to hazard': 30,\n 'hail': 31,\n 'huge traffic jam': 32}"
     },
     "execution_count": 13,
     "metadata": {},
     "output_type": "execute_result"
    }
   ]
  },
  {
   "metadata": {
    "id": "3GfoOc-tID2N",
    "colab_type": "code",
    "colab": {},
    "pycharm": {
     "name": "#%%\n"
    }
   },
   "cell_type": "code",
   "source": [
    "def map_event_list_to_idxs(event_list):\n",
    "  list_idxs = []\n",
    "  for event in (event_list):\n",
    "    idx = reversed_dict[event]\n",
    "    list_idxs.append(idx)\n",
    "  return list_idxs"
   ],
   "execution_count": 14,
   "outputs": []
  },
  {
   "metadata": {
    "id": "F6pr4SnBKzmC",
    "colab_type": "code",
    "colab": {},
    "pycharm": {
     "name": "#%%\n"
    }
   },
   "cell_type": "code",
   "source": [
    "map_event_list_to_idxs(max_len_event.events)"
   ],
   "execution_count": 15,
   "outputs": [
    {
     "data": {
      "text/plain": "[3,\n 17,\n 17,\n 17,\n 13,\n 16,\n 17,\n 17,\n 17,\n 17,\n 9,\n 3,\n 2,\n 17,\n 16,\n 16,\n 16,\n 17,\n 2,\n 3,\n 16,\n 16,\n 16,\n 17,\n 9,\n 9,\n 9,\n 9,\n 17,\n 16,\n 9,\n 8,\n 3,\n 2,\n 13,\n 16,\n 17,\n 9,\n 2,\n 2,\n 3,\n 7,\n 2,\n 2,\n 16,\n 17,\n 9,\n 3,\n 13,\n 17,\n 17,\n 3,\n 2,\n 13,\n 13,\n 17,\n 3,\n 17,\n 18,\n 3,\n 17,\n 3,\n 17,\n 16,\n 17,\n 9,\n 17,\n 3,\n 9,\n 16,\n 17,\n 17,\n 17,\n 3,\n 13,\n 16,\n 17,\n 3,\n 9,\n 17,\n 18,\n 7,\n 3,\n 3]"
     },
     "execution_count": 15,
     "metadata": {},
     "output_type": "execute_result"
    }
   ]
  },
  {
   "cell_type": "code",
   "execution_count": 15,
   "outputs": [],
   "source": [],
   "metadata": {
    "collapsed": false,
    "pycharm": {
     "name": "#%%\n"
    }
   }
  },
  {
   "cell_type": "code",
   "execution_count": 16,
   "outputs": [
    {
     "name": "stdout",
     "output_type": "stream",
     "text": [
      "Requirement already satisfied: tensorflow==2.7 in c:\\users\\asanv\\pycharmprojects\\volumegesture\\venv\\lib\\site-packages (2.7.0)\n",
      "Requirement already satisfied: opt-einsum>=2.3.2 in c:\\users\\asanv\\pycharmprojects\\volumegesture\\venv\\lib\\site-packages (from tensorflow==2.7) (3.3.0)\n",
      "Requirement already satisfied: tensorflow-io-gcs-filesystem>=0.21.0 in c:\\users\\asanv\\pycharmprojects\\volumegesture\\venv\\lib\\site-packages (from tensorflow==2.7) (0.25.0)\n",
      "Requirement already satisfied: wheel<1.0,>=0.32.0 in c:\\users\\asanv\\pycharmprojects\\volumegesture\\venv\\lib\\site-packages (from tensorflow==2.7) (0.36.2)\n",
      "Requirement already satisfied: tensorboard~=2.6 in c:\\users\\asanv\\pycharmprojects\\volumegesture\\venv\\lib\\site-packages (from tensorflow==2.7) (2.8.0)\n",
      "Requirement already satisfied: gast<0.5.0,>=0.2.1 in c:\\users\\asanv\\pycharmprojects\\volumegesture\\venv\\lib\\site-packages (from tensorflow==2.7) (0.4.0)\n",
      "Requirement already satisfied: libclang>=9.0.1 in c:\\users\\asanv\\pycharmprojects\\volumegesture\\venv\\lib\\site-packages (from tensorflow==2.7) (14.0.1)\n",
      "Requirement already satisfied: protobuf>=3.9.2 in c:\\users\\asanv\\pycharmprojects\\volumegesture\\venv\\lib\\site-packages (from tensorflow==2.7) (3.18.0)\n",
      "Requirement already satisfied: absl-py>=0.4.0 in c:\\users\\asanv\\pycharmprojects\\volumegesture\\venv\\lib\\site-packages (from tensorflow==2.7) (0.13.0)\n",
      "Requirement already satisfied: grpcio<2.0,>=1.24.3 in c:\\users\\asanv\\pycharmprojects\\volumegesture\\venv\\lib\\site-packages (from tensorflow==2.7) (1.44.0)\n",
      "Requirement already satisfied: keras<2.8,>=2.7.0rc0 in c:\\users\\asanv\\pycharmprojects\\volumegesture\\venv\\lib\\site-packages (from tensorflow==2.7) (2.7.0)\n",
      "Requirement already satisfied: termcolor>=1.1.0 in c:\\users\\asanv\\pycharmprojects\\volumegesture\\venv\\lib\\site-packages (from tensorflow==2.7) (1.1.0)\n",
      "Requirement already satisfied: keras-preprocessing>=1.1.1 in c:\\users\\asanv\\pycharmprojects\\volumegesture\\venv\\lib\\site-packages (from tensorflow==2.7) (1.1.2)\n",
      "Requirement already satisfied: h5py>=2.9.0 in c:\\users\\asanv\\pycharmprojects\\volumegesture\\venv\\lib\\site-packages (from tensorflow==2.7) (3.6.0)\n",
      "Requirement already satisfied: google-pasta>=0.1.1 in c:\\users\\asanv\\pycharmprojects\\volumegesture\\venv\\lib\\site-packages (from tensorflow==2.7) (0.2.0)\n",
      "Requirement already satisfied: typing-extensions>=3.6.6 in c:\\users\\asanv\\pycharmprojects\\volumegesture\\venv\\lib\\site-packages (from tensorflow==2.7) (4.1.1)\n",
      "Requirement already satisfied: wrapt>=1.11.0 in c:\\users\\asanv\\pycharmprojects\\volumegesture\\venv\\lib\\site-packages (from tensorflow==2.7) (1.13.3)\n",
      "Requirement already satisfied: six>=1.12.0 in c:\\users\\asanv\\pycharmprojects\\volumegesture\\venv\\lib\\site-packages (from tensorflow==2.7) (1.16.0)\n",
      "Requirement already satisfied: astunparse>=1.6.0 in c:\\users\\asanv\\pycharmprojects\\volumegesture\\venv\\lib\\site-packages (from tensorflow==2.7) (1.6.3)\n",
      "Requirement already satisfied: flatbuffers<3.0,>=1.12 in c:\\users\\asanv\\pycharmprojects\\volumegesture\\venv\\lib\\site-packages (from tensorflow==2.7) (2.0)\n",
      "Requirement already satisfied: tensorflow-estimator<2.8,~=2.7.0rc0 in c:\\users\\asanv\\pycharmprojects\\volumegesture\\venv\\lib\\site-packages (from tensorflow==2.7) (2.7.0)\n",
      "Requirement already satisfied: numpy>=1.14.5 in c:\\users\\asanv\\pycharmprojects\\volumegesture\\venv\\lib\\site-packages (from tensorflow==2.7) (1.21.2)\n",
      "Requirement already satisfied: setuptools>=41.0.0 in c:\\users\\asanv\\pycharmprojects\\volumegesture\\venv\\lib\\site-packages (from tensorboard~=2.6->tensorflow==2.7) (59.6.0)\n",
      "Requirement already satisfied: werkzeug>=0.11.15 in c:\\users\\asanv\\pycharmprojects\\volumegesture\\venv\\lib\\site-packages (from tensorboard~=2.6->tensorflow==2.7) (2.1.1)\n",
      "Requirement already satisfied: tensorboard-data-server<0.7.0,>=0.6.0 in c:\\users\\asanv\\pycharmprojects\\volumegesture\\venv\\lib\\site-packages (from tensorboard~=2.6->tensorflow==2.7) (0.6.1)\n",
      "Requirement already satisfied: markdown>=2.6.8 in c:\\users\\asanv\\pycharmprojects\\volumegesture\\venv\\lib\\site-packages (from tensorboard~=2.6->tensorflow==2.7) (3.3.6)\n",
      "Requirement already satisfied: tensorboard-plugin-wit>=1.6.0 in c:\\users\\asanv\\pycharmprojects\\volumegesture\\venv\\lib\\site-packages (from tensorboard~=2.6->tensorflow==2.7) (1.8.1)\n",
      "Requirement already satisfied: requests<3,>=2.21.0 in c:\\users\\asanv\\pycharmprojects\\volumegesture\\venv\\lib\\site-packages (from tensorboard~=2.6->tensorflow==2.7) (2.27.1)\n",
      "Requirement already satisfied: google-auth-oauthlib<0.5,>=0.4.1 in c:\\users\\asanv\\pycharmprojects\\volumegesture\\venv\\lib\\site-packages (from tensorboard~=2.6->tensorflow==2.7) (0.4.6)\n",
      "Requirement already satisfied: google-auth<3,>=1.6.3 in c:\\users\\asanv\\pycharmprojects\\volumegesture\\venv\\lib\\site-packages (from tensorboard~=2.6->tensorflow==2.7) (2.6.6)\n",
      "Requirement already satisfied: pyasn1-modules>=0.2.1 in c:\\users\\asanv\\pycharmprojects\\volumegesture\\venv\\lib\\site-packages (from google-auth<3,>=1.6.3->tensorboard~=2.6->tensorflow==2.7) (0.2.8)\n",
      "Requirement already satisfied: rsa<5,>=3.1.4 in c:\\users\\asanv\\pycharmprojects\\volumegesture\\venv\\lib\\site-packages (from google-auth<3,>=1.6.3->tensorboard~=2.6->tensorflow==2.7) (4.8)\n",
      "Requirement already satisfied: cachetools<6.0,>=2.0.0 in c:\\users\\asanv\\pycharmprojects\\volumegesture\\venv\\lib\\site-packages (from google-auth<3,>=1.6.3->tensorboard~=2.6->tensorflow==2.7) (5.0.0)\n",
      "Requirement already satisfied: requests-oauthlib>=0.7.0 in c:\\users\\asanv\\pycharmprojects\\volumegesture\\venv\\lib\\site-packages (from google-auth-oauthlib<0.5,>=0.4.1->tensorboard~=2.6->tensorflow==2.7) (1.3.1)\n",
      "Requirement already satisfied: importlib-metadata>=4.4 in c:\\users\\asanv\\pycharmprojects\\volumegesture\\venv\\lib\\site-packages (from markdown>=2.6.8->tensorboard~=2.6->tensorflow==2.7) (4.11.3)\n",
      "Requirement already satisfied: certifi>=2017.4.17 in c:\\users\\asanv\\pycharmprojects\\volumegesture\\venv\\lib\\site-packages (from requests<3,>=2.21.0->tensorboard~=2.6->tensorflow==2.7) (2021.10.8)\n",
      "Requirement already satisfied: charset-normalizer~=2.0.0 in c:\\users\\asanv\\pycharmprojects\\volumegesture\\venv\\lib\\site-packages (from requests<3,>=2.21.0->tensorboard~=2.6->tensorflow==2.7) (2.0.12)\n",
      "Requirement already satisfied: idna<4,>=2.5 in c:\\users\\asanv\\pycharmprojects\\volumegesture\\venv\\lib\\site-packages (from requests<3,>=2.21.0->tensorboard~=2.6->tensorflow==2.7) (3.3)\n",
      "Requirement already satisfied: urllib3<1.27,>=1.21.1 in c:\\users\\asanv\\pycharmprojects\\volumegesture\\venv\\lib\\site-packages (from requests<3,>=2.21.0->tensorboard~=2.6->tensorflow==2.7) (1.26.8)\n",
      "Requirement already satisfied: zipp>=0.5 in c:\\users\\asanv\\pycharmprojects\\volumegesture\\venv\\lib\\site-packages (from importlib-metadata>=4.4->markdown>=2.6.8->tensorboard~=2.6->tensorflow==2.7) (3.8.0)\n",
      "Requirement already satisfied: pyasn1<0.5.0,>=0.4.6 in c:\\users\\asanv\\pycharmprojects\\volumegesture\\venv\\lib\\site-packages (from pyasn1-modules>=0.2.1->google-auth<3,>=1.6.3->tensorboard~=2.6->tensorflow==2.7) (0.4.8)\n",
      "Requirement already satisfied: oauthlib>=3.0.0 in c:\\users\\asanv\\pycharmprojects\\volumegesture\\venv\\lib\\site-packages (from requests-oauthlib>=0.7.0->google-auth-oauthlib<0.5,>=0.4.1->tensorboard~=2.6->tensorflow==2.7) (3.2.0)\n"
     ]
    }
   ],
   "source": [
    "!pip install tensorflow==2.7"
   ],
   "metadata": {
    "collapsed": false,
    "pycharm": {
     "name": "#%%\n"
    }
   }
  },
  {
   "metadata": {
    "id": "OfVh-gCCRtAp",
    "colab_type": "code",
    "colab": {},
    "pycharm": {
     "name": "#%%\n"
    }
   },
   "cell_type": "code",
   "source": [
    "import numpy as np\n",
    "from tensorflow import keras\n",
    "from tensorflow.keras.utils import to_categorical"
   ],
   "execution_count": 17,
   "outputs": []
  },
  {
   "metadata": {
    "id": "6ngg5bGUTl2n",
    "colab_type": "code",
    "colab": {},
    "pycharm": {
     "name": "#%%\n"
    }
   },
   "cell_type": "code",
   "source": [
    "from tensorflow.keras.preprocessing.sequence import pad_sequences"
   ],
   "execution_count": 18,
   "outputs": []
  },
  {
   "metadata": {
    "id": "ajB5HN24LFVp",
    "colab_type": "code",
    "colab": {},
    "pycharm": {
     "name": "#%%\n"
    }
   },
   "cell_type": "code",
   "source": [
    "len(event_dict)"
   ],
   "execution_count": 19,
   "outputs": [
    {
     "data": {
      "text/plain": "32"
     },
     "execution_count": 19,
     "metadata": {},
     "output_type": "execute_result"
    }
   ]
  },
  {
   "metadata": {
    "id": "F7Lpii1pMVCe",
    "colab_type": "code",
    "colab": {},
    "pycharm": {
     "name": "#%%\n"
    }
   },
   "cell_type": "code",
   "source": [
    "df.events.apply(map_event_list_to_idxs)"
   ],
   "execution_count": 20,
   "outputs": [
    {
     "data": {
      "text/plain": "0      [9, 17, 18, 14, 13, 17, 3, 13, 16, 3, 17, 17, ...\n1                                             [2, 10, 3]\n2                                                    [2]\n3                                                    [2]\n4                               [2, 2, 2, 2, 2, 2, 2, 9]\n                             ...                        \n856                    [17, 17, 17, 2, 3, 2, 2, 2, 2, 2]\n857                                               [2, 2]\n858                                  [2, 2, 9, 17, 2, 2]\n859                            [17, 3, 2, 2, 2, 2, 2, 2]\n860    [17, 3, 3, 17, 3, 17, 2, 3, 18, 14, 3, 3, 16, ...\nName: events, Length: 1722, dtype: object"
     },
     "execution_count": 20,
     "metadata": {},
     "output_type": "execute_result"
    }
   ]
  },
  {
   "metadata": {
    "id": "XCZzSnwDLGs3",
    "colab_type": "code",
    "colab": {},
    "pycharm": {
     "name": "#%%\n"
    }
   },
   "cell_type": "code",
   "source": [
    "sequences = df.events.apply(map_event_list_to_idxs).tolist()\n",
    "sequences[:5]"
   ],
   "execution_count": 21,
   "outputs": [
    {
     "data": {
      "text/plain": "[[9,\n  17,\n  18,\n  14,\n  13,\n  17,\n  3,\n  13,\n  16,\n  3,\n  17,\n  17,\n  16,\n  3,\n  16,\n  17,\n  9,\n  17,\n  2,\n  17,\n  2,\n  7,\n  16,\n  17,\n  17,\n  17,\n  17,\n  13,\n  5,\n  17,\n  9,\n  9,\n  16,\n  16,\n  3],\n [2, 10, 3],\n [2],\n [2],\n [2, 2, 2, 2, 2, 2, 2, 9]]"
     },
     "execution_count": 21,
     "metadata": {},
     "output_type": "execute_result"
    }
   ]
  },
  {
   "metadata": {
    "id": "GJOkHvJgvCqE",
    "colab_type": "code",
    "colab": {},
    "pycharm": {
     "name": "#%%\n"
    }
   },
   "cell_type": "code",
   "source": [
    "len(sequences)"
   ],
   "execution_count": 22,
   "outputs": [
    {
     "data": {
      "text/plain": "1722"
     },
     "execution_count": 22,
     "metadata": {},
     "output_type": "execute_result"
    }
   ]
  },
  {
   "metadata": {
    "id": "3_VIVUvBUYnn",
    "colab_type": "code",
    "colab": {},
    "pycharm": {
     "name": "#%%\n"
    }
   },
   "cell_type": "code",
   "source": [
    "data = pad_sequences(sequences, maxlen=maxlen)\n",
    "data"
   ],
   "execution_count": 23,
   "outputs": [
    {
     "data": {
      "text/plain": "array([[ 0,  0,  0, ..., 16, 16,  3],\n       [ 0,  0,  0, ...,  2, 10,  3],\n       [ 0,  0,  0, ...,  0,  0,  2],\n       ...,\n       [ 0,  0,  0, ..., 17,  2,  2],\n       [ 0,  0,  0, ...,  2,  2,  2],\n       [ 0,  0,  0, ...,  3,  3,  2]])"
     },
     "execution_count": 23,
     "metadata": {},
     "output_type": "execute_result"
    }
   ]
  },
  {
   "metadata": {
    "id": "jOSHPWRnUt0V",
    "colab_type": "code",
    "colab": {},
    "pycharm": {
     "name": "#%%\n"
    }
   },
   "cell_type": "code",
   "source": [
    "labels = np.array(df.label)"
   ],
   "execution_count": 24,
   "outputs": []
  },
  {
   "metadata": {
    "id": "PSD_-UG1B9G0",
    "colab_type": "code",
    "colab": {},
    "pycharm": {
     "name": "#%%\n"
    }
   },
   "cell_type": "code",
   "source": [
    "np.random.seed(12)"
   ],
   "execution_count": 25,
   "outputs": []
  },
  {
   "metadata": {
    "id": "gxA3cElTUzrZ",
    "colab_type": "code",
    "colab": {},
    "pycharm": {
     "name": "#%%\n"
    }
   },
   "cell_type": "code",
   "source": [
    "indices = np.arange(data.shape[0])\n",
    "np.random.shuffle(indices)\n",
    "data = data[indices]\n",
    "labels = labels[indices]"
   ],
   "execution_count": 26,
   "outputs": []
  },
  {
   "metadata": {
    "id": "ay_11WJ-U2r0",
    "colab_type": "code",
    "colab": {},
    "pycharm": {
     "name": "#%%\n"
    }
   },
   "cell_type": "code",
   "source": [
    "training_samples = int(len(indices) * .8)\n",
    "validation_samples = len(indices) - training_samples"
   ],
   "execution_count": 27,
   "outputs": []
  },
  {
   "metadata": {
    "id": "8PvKfu7OU4Tu",
    "colab_type": "code",
    "colab": {},
    "pycharm": {
     "name": "#%%\n"
    }
   },
   "cell_type": "code",
   "source": [
    "X_train = data[:training_samples]\n",
    "y_train = labels[:training_samples]\n",
    "X_valid = data[training_samples: training_samples + validation_samples]\n",
    "y_valid = labels[training_samples: training_samples + validation_samples]"
   ],
   "execution_count": 28,
   "outputs": []
  },
  {
   "metadata": {
    "id": "d4ljsGj-WYrR",
    "colab_type": "code",
    "colab": {},
    "pycharm": {
     "name": "#%%\n"
    }
   },
   "cell_type": "code",
   "source": [
    "X_train"
   ],
   "execution_count": 29,
   "outputs": [
    {
     "data": {
      "text/plain": "array([[ 0,  0,  0, ..., 15, 15,  3],\n       [ 0,  0,  0, ...,  0,  2,  2],\n       [ 0,  0,  0, ...,  0,  0, 16],\n       ...,\n       [ 0,  0,  0, ...,  2, 15, 16],\n       [ 0,  0,  0, ...,  2,  2,  2],\n       [ 0,  0,  0, ...,  0,  0,  2]])"
     },
     "execution_count": 29,
     "metadata": {},
     "output_type": "execute_result"
    }
   ]
  },
  {
   "metadata": {
    "id": "MqifLVUc0Q3W",
    "colab_type": "code",
    "colab": {},
    "pycharm": {
     "name": "#%%\n"
    }
   },
   "cell_type": "code",
   "source": [
    "num_events = len(event_dict) + 1"
   ],
   "execution_count": 30,
   "outputs": []
  },
  {
   "metadata": {
    "id": "gYPqQ_SkWs4Z",
    "colab_type": "code",
    "colab": {},
    "pycharm": {
     "name": "#%%\n"
    }
   },
   "cell_type": "code",
   "source": [
    "embedding_dim = 20"
   ],
   "execution_count": 31,
   "outputs": []
  },
  {
   "metadata": {
    "id": "1LsFlDRdWr1Y",
    "colab_type": "code",
    "colab": {},
    "pycharm": {
     "name": "#%%\n"
    }
   },
   "cell_type": "code",
   "source": [
    "embedding_matrix = np.random.rand(num_events, embedding_dim)"
   ],
   "execution_count": 32,
   "outputs": []
  },
  {
   "metadata": {
    "id": "Y4UgZAIhU6IW",
    "colab_type": "code",
    "colab": {},
    "pycharm": {
     "name": "#%%\n"
    }
   },
   "cell_type": "code",
   "source": [
    "#Embedded Layer\n",
    "from keras.models import Sequential\n",
    "from keras.layers import Embedding, Flatten, Dense, LSTM\n",
    "\n",
    "units = 32\n",
    "\n",
    "model = Sequential()\n",
    "model.add(Embedding(num_events, embedding_dim))\n",
    "model.add(LSTM(units))\n",
    "model.add(Dense(1, activation='sigmoid'))"
   ],
   "execution_count": 33,
   "outputs": []
  },
  {
   "metadata": {
    "id": "vVX_sfo8W2wV",
    "colab_type": "code",
    "colab": {},
    "pycharm": {
     "name": "#%%\n"
    }
   },
   "cell_type": "code",
   "source": [
    "model.layers[0].set_weights([embedding_matrix])\n",
    "model.layers[0].trainable = False"
   ],
   "execution_count": 34,
   "outputs": []
  },
  {
   "metadata": {
    "id": "Vvk32LXtVEBC",
    "colab_type": "code",
    "colab": {},
    "pycharm": {
     "name": "#%%\n"
    }
   },
   "cell_type": "code",
   "source": [
    "model.compile(optimizer='rmsprop',\n",
    "              loss='binary_crossentropy',\n",
    "              metrics=['acc'])\n",
    "history = model.fit(X_train, y_train,\n",
    "                    epochs=50,\n",
    "                    batch_size=32,\n",
    "                    validation_data=(X_valid, y_valid))\n",
    "model.save(\"mymodel_embedding_untrainable.h5\")"
   ],
   "execution_count": 35,
   "outputs": [
    {
     "name": "stdout",
     "output_type": "stream",
     "text": [
      "Epoch 1/50\n",
      "44/44 [==============================] - 3s 30ms/step - loss: 0.6710 - acc: 0.5933 - val_loss: 0.6728 - val_acc: 0.6029\n",
      "Epoch 2/50\n",
      "44/44 [==============================] - 1s 23ms/step - loss: 0.6414 - acc: 0.6442 - val_loss: 0.6621 - val_acc: 0.5826\n",
      "Epoch 3/50\n",
      "44/44 [==============================] - 1s 23ms/step - loss: 0.6194 - acc: 0.6710 - val_loss: 0.7224 - val_acc: 0.5565\n",
      "Epoch 4/50\n",
      "44/44 [==============================] - 1s 24ms/step - loss: 0.6120 - acc: 0.6688 - val_loss: 0.6182 - val_acc: 0.6464\n",
      "Epoch 5/50\n",
      "44/44 [==============================] - 1s 23ms/step - loss: 0.5925 - acc: 0.7015 - val_loss: 0.6019 - val_acc: 0.6638\n",
      "Epoch 6/50\n",
      "44/44 [==============================] - 1s 23ms/step - loss: 0.5883 - acc: 0.6870 - val_loss: 0.6588 - val_acc: 0.5942\n",
      "Epoch 7/50\n",
      "44/44 [==============================] - 1s 25ms/step - loss: 0.5799 - acc: 0.6986 - val_loss: 0.5810 - val_acc: 0.6725\n",
      "Epoch 8/50\n",
      "44/44 [==============================] - 1s 23ms/step - loss: 0.5695 - acc: 0.7117 - val_loss: 0.5722 - val_acc: 0.6841\n",
      "Epoch 9/50\n",
      "44/44 [==============================] - 1s 23ms/step - loss: 0.5681 - acc: 0.7088 - val_loss: 0.5693 - val_acc: 0.6899\n",
      "Epoch 10/50\n",
      "44/44 [==============================] - 1s 22ms/step - loss: 0.5668 - acc: 0.7066 - val_loss: 0.5571 - val_acc: 0.7159\n",
      "Epoch 11/50\n",
      "44/44 [==============================] - 1s 21ms/step - loss: 0.5525 - acc: 0.7219 - val_loss: 0.5928 - val_acc: 0.6406\n",
      "Epoch 12/50\n",
      "44/44 [==============================] - 1s 16ms/step - loss: 0.5472 - acc: 0.7226 - val_loss: 2.0243 - val_acc: 0.5130\n",
      "Epoch 13/50\n",
      "44/44 [==============================] - 1s 17ms/step - loss: 0.5957 - acc: 0.7102 - val_loss: 0.5394 - val_acc: 0.7246\n",
      "Epoch 14/50\n",
      "44/44 [==============================] - 1s 17ms/step - loss: 0.5392 - acc: 0.7371 - val_loss: 0.9164 - val_acc: 0.5159\n",
      "Epoch 15/50\n",
      "44/44 [==============================] - 1s 16ms/step - loss: 0.5397 - acc: 0.7349 - val_loss: 1.3144 - val_acc: 0.5130\n",
      "Epoch 16/50\n",
      "44/44 [==============================] - 1s 16ms/step - loss: 0.5576 - acc: 0.7291 - val_loss: 0.5531 - val_acc: 0.7101\n",
      "Epoch 17/50\n",
      "44/44 [==============================] - 1s 17ms/step - loss: 0.5385 - acc: 0.7393 - val_loss: 0.5839 - val_acc: 0.6754\n",
      "Epoch 18/50\n",
      "44/44 [==============================] - 1s 17ms/step - loss: 0.5298 - acc: 0.7342 - val_loss: 0.5310 - val_acc: 0.7159\n",
      "Epoch 19/50\n",
      "44/44 [==============================] - 1s 16ms/step - loss: 0.5329 - acc: 0.7320 - val_loss: 0.5762 - val_acc: 0.6406\n",
      "Epoch 20/50\n",
      "44/44 [==============================] - 1s 20ms/step - loss: 0.5219 - acc: 0.7444 - val_loss: 0.5823 - val_acc: 0.6986\n",
      "Epoch 21/50\n",
      "44/44 [==============================] - 1s 18ms/step - loss: 0.5244 - acc: 0.7451 - val_loss: 0.5684 - val_acc: 0.7101\n",
      "Epoch 22/50\n",
      "44/44 [==============================] - 1s 18ms/step - loss: 0.5247 - acc: 0.7400 - val_loss: 0.7657 - val_acc: 0.6493\n",
      "Epoch 23/50\n",
      "44/44 [==============================] - 1s 17ms/step - loss: 0.5324 - acc: 0.7393 - val_loss: 0.5397 - val_acc: 0.7391\n",
      "Epoch 24/50\n",
      "44/44 [==============================] - 1s 17ms/step - loss: 0.5167 - acc: 0.7436 - val_loss: 0.5858 - val_acc: 0.7043\n",
      "Epoch 25/50\n",
      "44/44 [==============================] - 1s 16ms/step - loss: 0.5210 - acc: 0.7466 - val_loss: 0.5605 - val_acc: 0.6899\n",
      "Epoch 26/50\n",
      "44/44 [==============================] - 1s 17ms/step - loss: 0.5191 - acc: 0.7386 - val_loss: 0.5107 - val_acc: 0.7507\n",
      "Epoch 27/50\n",
      "44/44 [==============================] - 1s 17ms/step - loss: 0.5118 - acc: 0.7509 - val_loss: 0.5584 - val_acc: 0.7246\n",
      "Epoch 28/50\n",
      "44/44 [==============================] - 1s 17ms/step - loss: 0.5129 - acc: 0.7364 - val_loss: 0.6053 - val_acc: 0.7014\n",
      "Epoch 29/50\n",
      "44/44 [==============================] - 1s 17ms/step - loss: 0.5123 - acc: 0.7487 - val_loss: 0.5292 - val_acc: 0.7478\n",
      "Epoch 30/50\n",
      "44/44 [==============================] - 1s 16ms/step - loss: 0.5047 - acc: 0.7524 - val_loss: 0.5308 - val_acc: 0.7449\n",
      "Epoch 31/50\n",
      "44/44 [==============================] - 1s 16ms/step - loss: 0.5034 - acc: 0.7509 - val_loss: 0.5362 - val_acc: 0.7391\n",
      "Epoch 32/50\n",
      "44/44 [==============================] - 1s 16ms/step - loss: 0.5060 - acc: 0.7487 - val_loss: 0.7669 - val_acc: 0.6580\n",
      "Epoch 33/50\n",
      "44/44 [==============================] - 1s 15ms/step - loss: 0.5017 - acc: 0.7545 - val_loss: 0.5464 - val_acc: 0.7362\n",
      "Epoch 34/50\n",
      "44/44 [==============================] - 1s 17ms/step - loss: 0.5038 - acc: 0.7444 - val_loss: 0.5404 - val_acc: 0.7362\n",
      "Epoch 35/50\n",
      "44/44 [==============================] - 1s 18ms/step - loss: 0.4975 - acc: 0.7589 - val_loss: 0.5208 - val_acc: 0.7565\n",
      "Epoch 36/50\n",
      "44/44 [==============================] - 1s 16ms/step - loss: 0.4956 - acc: 0.7640 - val_loss: 0.5800 - val_acc: 0.7217\n",
      "Epoch 37/50\n",
      "44/44 [==============================] - 1s 16ms/step - loss: 0.5061 - acc: 0.7473 - val_loss: 0.5530 - val_acc: 0.7130\n",
      "Epoch 38/50\n",
      "44/44 [==============================] - 1s 15ms/step - loss: 0.5009 - acc: 0.7567 - val_loss: 0.5160 - val_acc: 0.7362\n",
      "Epoch 39/50\n",
      "44/44 [==============================] - 1s 15ms/step - loss: 0.4945 - acc: 0.7603 - val_loss: 0.5083 - val_acc: 0.7594\n",
      "Epoch 40/50\n",
      "44/44 [==============================] - 1s 16ms/step - loss: 0.5005 - acc: 0.7611 - val_loss: 0.5343 - val_acc: 0.7362\n",
      "Epoch 41/50\n",
      "44/44 [==============================] - 1s 18ms/step - loss: 0.4869 - acc: 0.7647 - val_loss: 0.5579 - val_acc: 0.7159\n",
      "Epoch 42/50\n",
      "44/44 [==============================] - 1s 22ms/step - loss: 0.4903 - acc: 0.7633 - val_loss: 0.5151 - val_acc: 0.7507\n",
      "Epoch 43/50\n",
      "44/44 [==============================] - 1s 22ms/step - loss: 0.4885 - acc: 0.7669 - val_loss: 0.5481 - val_acc: 0.7362\n",
      "Epoch 44/50\n",
      "44/44 [==============================] - 1s 21ms/step - loss: 0.4898 - acc: 0.7625 - val_loss: 0.5220 - val_acc: 0.7507\n",
      "Epoch 45/50\n",
      "44/44 [==============================] - 1s 22ms/step - loss: 0.4838 - acc: 0.7669 - val_loss: 0.5248 - val_acc: 0.7304\n",
      "Epoch 46/50\n",
      "44/44 [==============================] - 1s 22ms/step - loss: 0.4840 - acc: 0.7676 - val_loss: 0.5410 - val_acc: 0.7536\n",
      "Epoch 47/50\n",
      "44/44 [==============================] - 1s 21ms/step - loss: 0.4856 - acc: 0.7691 - val_loss: 0.5012 - val_acc: 0.7594\n",
      "Epoch 48/50\n",
      "44/44 [==============================] - 1s 22ms/step - loss: 0.4796 - acc: 0.7778 - val_loss: 0.6901 - val_acc: 0.6667\n",
      "Epoch 49/50\n",
      "44/44 [==============================] - 1s 20ms/step - loss: 0.4866 - acc: 0.7676 - val_loss: 0.5027 - val_acc: 0.7594\n",
      "Epoch 50/50\n",
      "44/44 [==============================] - 1s 21ms/step - loss: 0.4732 - acc: 0.7771 - val_loss: 0.6030 - val_acc: 0.7159\n"
     ]
    }
   ]
  },
  {
   "metadata": {
    "id": "V0KUqeWqVMCi",
    "colab_type": "code",
    "colab": {},
    "pycharm": {
     "name": "#%%\n"
    }
   },
   "cell_type": "code",
   "source": [
    "import matplotlib.pyplot as plt\n",
    "\n",
    "acc = history.history['acc']\n",
    "val_acc = history.history['val_acc']\n",
    "loss = history.history['loss']\n",
    "val_loss = history.history['val_loss']\n",
    "\n",
    "epochs = range(1, len(acc) + 1)\n",
    "\n",
    "plt.plot(epochs, acc, 'bo', label='Training acc')\n",
    "plt.plot(epochs, val_acc, 'b', label='Validation acc')\n",
    "plt.title('Training and validation accuracy')\n",
    "plt.legend()\n",
    "\n",
    "plt.figure()\n",
    "\n",
    "plt.plot(epochs, loss, 'bo', label='Training loss')\n",
    "plt.plot(epochs, val_loss, 'b', label='Validation loss')\n",
    "plt.title('Training and validation loss')\n",
    "plt.legend()\n",
    "\n",
    "plt.show()"
   ],
   "execution_count": 36,
   "outputs": [
    {
     "data": {
      "text/plain": "<Figure size 432x288 with 1 Axes>",
      "image/png": "[encoded data removed]"
     },
     "metadata": {
      "needs_background": "light"
     },
     "output_type": "display_data"
    },
    {
     "data": {
      "text/plain": "<Figure size 432x288 with 1 Axes>",
      "image/png": "[encoded data removed]"
     },
     "metadata": {
      "needs_background": "light"
     },
     "output_type": "display_data"
    }
   ]
  },
  {
   "metadata": {
    "id": "U84sdc2wMKWk",
    "colab_type": "code",
    "colab": {},
    "pycharm": {
     "name": "#%%\n"
    }
   },
   "cell_type": "code",
   "source": [
    "#LSTM Layer\n",
    "from keras.models import Sequential\n",
    "from keras.layers import Embedding, Flatten, Dense, LSTM\n",
    "\n",
    "units = 32\n",
    "\n",
    "model = Sequential()\n",
    "model.add(Embedding(num_events, embedding_dim))\n",
    "model.add(LSTM(units))\n",
    "model.add(Dense(1, activation='sigmoid'))"
   ],
   "execution_count": 37,
   "outputs": []
  },
  {
   "metadata": {
    "id": "9V_vFEfVMO35",
    "colab_type": "code",
    "colab": {},
    "pycharm": {
     "name": "#%%\n"
    }
   },
   "cell_type": "code",
   "source": [
    "model.layers[0].set_weights([embedding_matrix])\n",
    "model.layers[0].trainable = True"
   ],
   "execution_count": 38,
   "outputs": []
  },
  {
   "metadata": {
    "id": "6Y2QnUr8MQ8Q",
    "colab_type": "code",
    "colab": {},
    "pycharm": {
     "name": "#%%\n"
    }
   },
   "cell_type": "code",
   "source": [
    "model.compile(optimizer='rmsprop',\n",
    "              loss='binary_crossentropy',\n",
    "              metrics=['acc'])\n",
    "history = model.fit(X_train, y_train,\n",
    "                    epochs=50,\n",
    "                    batch_size=32,\n",
    "                    validation_data=(X_valid, y_valid))\n",
    "model.save(\"mymodel_embedding_trainable.h5\")"
   ],
   "execution_count": 39,
   "outputs": [
    {
     "name": "stdout",
     "output_type": "stream",
     "text": [
      "Epoch 1/50\n",
      "44/44 [==============================] - 3s 32ms/step - loss: 0.6810 - acc: 0.5592 - val_loss: 0.7054 - val_acc: 0.5362\n",
      "Epoch 2/50\n",
      "44/44 [==============================] - 1s 24ms/step - loss: 0.6491 - acc: 0.6158 - val_loss: 0.6738 - val_acc: 0.5217\n",
      "Epoch 3/50\n",
      "44/44 [==============================] - 1s 23ms/step - loss: 0.6181 - acc: 0.6688 - val_loss: 0.6496 - val_acc: 0.6029\n",
      "Epoch 4/50\n",
      "44/44 [==============================] - 1s 23ms/step - loss: 0.5927 - acc: 0.6892 - val_loss: 0.6422 - val_acc: 0.5507\n",
      "Epoch 5/50\n",
      "44/44 [==============================] - 1s 24ms/step - loss: 0.5759 - acc: 0.7059 - val_loss: 0.7272 - val_acc: 0.5275\n",
      "Epoch 6/50\n",
      "44/44 [==============================] - 1s 20ms/step - loss: 0.5640 - acc: 0.7146 - val_loss: 0.6897 - val_acc: 0.6261\n",
      "Epoch 7/50\n",
      "44/44 [==============================] - 1s 20ms/step - loss: 0.5481 - acc: 0.7262 - val_loss: 0.5511 - val_acc: 0.7130\n",
      "Epoch 8/50\n",
      "44/44 [==============================] - 1s 20ms/step - loss: 0.5342 - acc: 0.7422 - val_loss: 0.6112 - val_acc: 0.5971\n",
      "Epoch 9/50\n",
      "44/44 [==============================] - 1s 21ms/step - loss: 0.5316 - acc: 0.7415 - val_loss: 0.5430 - val_acc: 0.7275\n",
      "Epoch 10/50\n",
      "44/44 [==============================] - 1s 21ms/step - loss: 0.5133 - acc: 0.7480 - val_loss: 0.6471 - val_acc: 0.5478\n",
      "Epoch 11/50\n",
      "44/44 [==============================] - 1s 21ms/step - loss: 0.5110 - acc: 0.7516 - val_loss: 0.5654 - val_acc: 0.6899\n",
      "Epoch 12/50\n",
      "44/44 [==============================] - 1s 21ms/step - loss: 0.5049 - acc: 0.7611 - val_loss: 0.5155 - val_acc: 0.7507\n",
      "Epoch 13/50\n",
      "44/44 [==============================] - 1s 22ms/step - loss: 0.5035 - acc: 0.7516 - val_loss: 0.5583 - val_acc: 0.6870\n",
      "Epoch 14/50\n",
      "44/44 [==============================] - 1s 22ms/step - loss: 0.5266 - acc: 0.7335 - val_loss: 0.5147 - val_acc: 0.7420\n",
      "Epoch 15/50\n",
      "44/44 [==============================] - 1s 24ms/step - loss: 0.4968 - acc: 0.7640 - val_loss: 0.5666 - val_acc: 0.7275\n",
      "Epoch 16/50\n",
      "44/44 [==============================] - 1s 21ms/step - loss: 0.5027 - acc: 0.7545 - val_loss: 0.5561 - val_acc: 0.7391\n",
      "Epoch 17/50\n",
      "44/44 [==============================] - 1s 20ms/step - loss: 0.4967 - acc: 0.7589 - val_loss: 0.5154 - val_acc: 0.7681\n",
      "Epoch 18/50\n",
      "44/44 [==============================] - 1s 23ms/step - loss: 0.4879 - acc: 0.7698 - val_loss: 0.5208 - val_acc: 0.7507\n",
      "Epoch 19/50\n",
      "44/44 [==============================] - 1s 23ms/step - loss: 0.4882 - acc: 0.7712 - val_loss: 0.5583 - val_acc: 0.6899\n",
      "Epoch 20/50\n",
      "44/44 [==============================] - 1s 21ms/step - loss: 0.4843 - acc: 0.7814 - val_loss: 0.5251 - val_acc: 0.7333\n",
      "Epoch 21/50\n",
      "44/44 [==============================] - 1s 23ms/step - loss: 0.4849 - acc: 0.7771 - val_loss: 0.5122 - val_acc: 0.7594\n",
      "Epoch 22/50\n",
      "44/44 [==============================] - 1s 22ms/step - loss: 0.4848 - acc: 0.7640 - val_loss: 0.5109 - val_acc: 0.7507\n",
      "Epoch 23/50\n",
      "44/44 [==============================] - 1s 22ms/step - loss: 0.4830 - acc: 0.7676 - val_loss: 0.5107 - val_acc: 0.7449\n",
      "Epoch 24/50\n",
      "44/44 [==============================] - 1s 22ms/step - loss: 0.4782 - acc: 0.7778 - val_loss: 0.5319 - val_acc: 0.7333\n",
      "Epoch 25/50\n",
      "44/44 [==============================] - 1s 22ms/step - loss: 0.4779 - acc: 0.7785 - val_loss: 0.5106 - val_acc: 0.7594\n",
      "Epoch 26/50\n",
      "44/44 [==============================] - 1s 22ms/step - loss: 0.4751 - acc: 0.7720 - val_loss: 0.5187 - val_acc: 0.7565\n",
      "Epoch 27/50\n",
      "44/44 [==============================] - 1s 23ms/step - loss: 0.4710 - acc: 0.7836 - val_loss: 0.4950 - val_acc: 0.7768\n",
      "Epoch 28/50\n",
      "44/44 [==============================] - 1s 22ms/step - loss: 0.4734 - acc: 0.7727 - val_loss: 0.5601 - val_acc: 0.7130\n",
      "Epoch 29/50\n",
      "44/44 [==============================] - 1s 22ms/step - loss: 0.4665 - acc: 0.7814 - val_loss: 0.4977 - val_acc: 0.7768\n",
      "Epoch 30/50\n",
      "44/44 [==============================] - 1s 21ms/step - loss: 0.4689 - acc: 0.7850 - val_loss: 0.5096 - val_acc: 0.7623\n",
      "Epoch 31/50\n",
      "44/44 [==============================] - 1s 24ms/step - loss: 0.4668 - acc: 0.7858 - val_loss: 0.5035 - val_acc: 0.7739\n",
      "Epoch 32/50\n",
      "44/44 [==============================] - 1s 23ms/step - loss: 0.4673 - acc: 0.7836 - val_loss: 0.4966 - val_acc: 0.7797\n",
      "Epoch 33/50\n",
      "44/44 [==============================] - 1s 21ms/step - loss: 0.4628 - acc: 0.7836 - val_loss: 0.5049 - val_acc: 0.7681\n",
      "Epoch 34/50\n",
      "44/44 [==============================] - 1s 22ms/step - loss: 0.4609 - acc: 0.7916 - val_loss: 0.5087 - val_acc: 0.7797\n",
      "Epoch 35/50\n",
      "44/44 [==============================] - 1s 23ms/step - loss: 0.4608 - acc: 0.7792 - val_loss: 0.5214 - val_acc: 0.7565\n",
      "Epoch 36/50\n",
      "44/44 [==============================] - 1s 22ms/step - loss: 0.4566 - acc: 0.7945 - val_loss: 0.4991 - val_acc: 0.7739\n",
      "Epoch 37/50\n",
      "44/44 [==============================] - 1s 22ms/step - loss: 0.4564 - acc: 0.7901 - val_loss: 0.4947 - val_acc: 0.7710\n",
      "Epoch 38/50\n",
      "44/44 [==============================] - 1s 22ms/step - loss: 0.4520 - acc: 0.7974 - val_loss: 0.5190 - val_acc: 0.7507\n",
      "Epoch 39/50\n",
      "44/44 [==============================] - 1s 23ms/step - loss: 0.4536 - acc: 0.7894 - val_loss: 0.4914 - val_acc: 0.7797\n",
      "Epoch 40/50\n",
      "44/44 [==============================] - 1s 21ms/step - loss: 0.4467 - acc: 0.7988 - val_loss: 0.5025 - val_acc: 0.7826\n",
      "Epoch 41/50\n",
      "44/44 [==============================] - 1s 21ms/step - loss: 0.4452 - acc: 0.8017 - val_loss: 0.5040 - val_acc: 0.7797\n",
      "Epoch 42/50\n",
      "44/44 [==============================] - 1s 21ms/step - loss: 0.4489 - acc: 0.8017 - val_loss: 0.5012 - val_acc: 0.7797\n",
      "Epoch 43/50\n",
      "44/44 [==============================] - 1s 21ms/step - loss: 0.4490 - acc: 0.7916 - val_loss: 0.5064 - val_acc: 0.7681\n",
      "Epoch 44/50\n",
      "44/44 [==============================] - 1s 17ms/step - loss: 0.4410 - acc: 0.8017 - val_loss: 0.5289 - val_acc: 0.7623\n",
      "Epoch 45/50\n",
      "44/44 [==============================] - 1s 16ms/step - loss: 0.4429 - acc: 0.8039 - val_loss: 0.5218 - val_acc: 0.7623\n",
      "Epoch 46/50\n",
      "44/44 [==============================] - 1s 17ms/step - loss: 0.4425 - acc: 0.8032 - val_loss: 0.5053 - val_acc: 0.7681\n",
      "Epoch 47/50\n",
      "44/44 [==============================] - 1s 16ms/step - loss: 0.4388 - acc: 0.8032 - val_loss: 0.5032 - val_acc: 0.7565\n",
      "Epoch 48/50\n",
      "44/44 [==============================] - 1s 16ms/step - loss: 0.4403 - acc: 0.8003 - val_loss: 0.5315 - val_acc: 0.7623\n",
      "Epoch 49/50\n",
      "44/44 [==============================] - 1s 16ms/step - loss: 0.4367 - acc: 0.8068 - val_loss: 0.5764 - val_acc: 0.7304\n",
      "Epoch 50/50\n",
      "44/44 [==============================] - 1s 16ms/step - loss: 0.4360 - acc: 0.7959 - val_loss: 0.5138 - val_acc: 0.7594\n"
     ]
    }
   ]
  },
  {
   "metadata": {
    "id": "H-eICgBtMTmN",
    "colab_type": "code",
    "colab": {},
    "pycharm": {
     "name": "#%%\n"
    }
   },
   "cell_type": "code",
   "source": [
    "import matplotlib.pyplot as plt\n",
    "\n",
    "acc = history.history['acc']\n",
    "val_acc = history.history['val_acc']\n",
    "loss = history.history['loss']\n",
    "val_loss = history.history['val_loss']\n",
    "\n",
    "epochs = range(1, len(acc) + 1)\n",
    "\n",
    "plt.plot(epochs, acc, 'bo', label='Training acc')\n",
    "plt.plot(epochs, val_acc, 'b', label='Validation acc')\n",
    "plt.title('Training and validation accuracy')\n",
    "plt.legend()\n",
    "\n",
    "plt.figure()\n",
    "\n",
    "plt.plot(epochs, loss, 'bo', label='Training loss')\n",
    "plt.plot(epochs, val_loss, 'b', label='Validation loss')\n",
    "plt.title('Training and validation loss')\n",
    "plt.legend()\n",
    "\n",
    "plt.show()"
   ],
   "execution_count": 40,
   "outputs": [
    {
     "data": {
      "text/plain": "<Figure size 432x288 with 1 Axes>",
      "image/png": "[encoded data removed]"
     },
     "metadata": {
      "needs_background": "light"
     },
     "output_type": "display_data"
    },
    {
     "data": {
      "text/plain": "<Figure size 432x288 with 1 Axes>",
      "image/png": "[encoded data removed]"
     },
     "metadata": {
      "needs_background": "light"
     },
     "output_type": "display_data"
    }
   ]
  },
  {
   "metadata": {
    "id": "KeOWIKXlXAns",
    "colab_type": "code",
    "colab": {},
    "pycharm": {
     "name": "#%%\n"
    }
   },
   "cell_type": "code",
   "source": [
    "#Dense Layer\n",
    "from keras.models import Sequential\n",
    "from keras.layers import Embedding, Flatten, Dense, LSTM\n",
    "\n",
    "units = 32\n",
    "\n",
    "model = Sequential()\n",
    "model.add(Embedding(num_events, embedding_dim))\n",
    "model.add(LSTM(units, dropout=0.2, recurrent_dropout=0.2))\n",
    "model.add(Dense(1, activation='sigmoid'))"
   ],
   "execution_count": 41,
   "outputs": []
  },
  {
   "metadata": {
    "id": "f4DkGAnpL5Y7",
    "colab_type": "code",
    "colab": {},
    "pycharm": {
     "name": "#%%\n"
    }
   },
   "cell_type": "code",
   "source": [
    "model.layers[0].set_weights([embedding_matrix])\n",
    "model.layers[0].trainable = True"
   ],
   "execution_count": 42,
   "outputs": []
  },
  {
   "metadata": {
    "id": "e5qtVwUrL6zN",
    "colab_type": "code",
    "colab": {},
    "pycharm": {
     "name": "#%%\n"
    }
   },
   "cell_type": "code",
   "source": [
    "model.compile(optimizer='rmsprop',\n",
    "              loss='binary_crossentropy',\n",
    "              metrics=['acc'])\n",
    "history = model.fit(X_train, y_train,\n",
    "                    epochs=50,\n",
    "                    batch_size=32,\n",
    "                    validation_data=(X_valid, y_valid))\n",
    "model.save(\"mymodel_embedding_trainable_with_dropout.h5\")"
   ],
   "execution_count": 43,
   "outputs": [
    {
     "name": "stdout",
     "output_type": "stream",
     "text": [
      "Epoch 1/50\n",
      "44/44 [==============================] - 4s 41ms/step - loss: 0.6652 - acc: 0.6013 - val_loss: 0.6610 - val_acc: 0.6203\n",
      "Epoch 2/50\n",
      "44/44 [==============================] - 2s 37ms/step - loss: 0.6344 - acc: 0.6391 - val_loss: 0.6474 - val_acc: 0.5884\n",
      "Epoch 3/50\n",
      "44/44 [==============================] - 2s 34ms/step - loss: 0.6110 - acc: 0.6761 - val_loss: 0.6894 - val_acc: 0.5797\n",
      "Epoch 4/50\n",
      "44/44 [==============================] - 2s 34ms/step - loss: 0.5981 - acc: 0.6790 - val_loss: 0.6617 - val_acc: 0.5304\n",
      "Epoch 5/50\n",
      "44/44 [==============================] - 2s 35ms/step - loss: 0.5885 - acc: 0.6812 - val_loss: 0.5900 - val_acc: 0.6754\n",
      "Epoch 6/50\n",
      "44/44 [==============================] - 2s 35ms/step - loss: 0.5697 - acc: 0.7081 - val_loss: 0.7259 - val_acc: 0.5217\n",
      "Epoch 7/50\n",
      "44/44 [==============================] - 2s 35ms/step - loss: 0.5665 - acc: 0.7030 - val_loss: 0.5717 - val_acc: 0.6928\n",
      "Epoch 8/50\n",
      "44/44 [==============================] - 2s 36ms/step - loss: 0.5572 - acc: 0.7139 - val_loss: 0.5490 - val_acc: 0.7159\n",
      "Epoch 9/50\n",
      "44/44 [==============================] - 2s 35ms/step - loss: 0.5443 - acc: 0.7313 - val_loss: 0.5555 - val_acc: 0.7246\n",
      "Epoch 10/50\n",
      "44/44 [==============================] - 2s 35ms/step - loss: 0.5426 - acc: 0.7219 - val_loss: 0.5354 - val_acc: 0.7246\n",
      "Epoch 11/50\n",
      "44/44 [==============================] - 2s 37ms/step - loss: 0.5301 - acc: 0.7378 - val_loss: 0.5760 - val_acc: 0.7101\n",
      "Epoch 12/50\n",
      "44/44 [==============================] - 2s 40ms/step - loss: 0.5348 - acc: 0.7407 - val_loss: 0.5219 - val_acc: 0.7391\n",
      "Epoch 13/50\n",
      "44/44 [==============================] - 2s 37ms/step - loss: 0.5263 - acc: 0.7357 - val_loss: 0.5443 - val_acc: 0.7217\n",
      "Epoch 14/50\n",
      "44/44 [==============================] - 2s 39ms/step - loss: 0.5190 - acc: 0.7422 - val_loss: 0.5106 - val_acc: 0.7188\n",
      "Epoch 15/50\n",
      "44/44 [==============================] - 2s 37ms/step - loss: 0.5253 - acc: 0.7313 - val_loss: 0.5581 - val_acc: 0.6957\n",
      "Epoch 16/50\n",
      "44/44 [==============================] - 2s 40ms/step - loss: 0.5151 - acc: 0.7466 - val_loss: 0.5077 - val_acc: 0.7594\n",
      "Epoch 17/50\n",
      "44/44 [==============================] - 2s 38ms/step - loss: 0.5091 - acc: 0.7473 - val_loss: 0.5303 - val_acc: 0.7362\n",
      "Epoch 18/50\n",
      "44/44 [==============================] - 2s 38ms/step - loss: 0.5097 - acc: 0.7458 - val_loss: 0.5113 - val_acc: 0.7565\n",
      "Epoch 19/50\n",
      "44/44 [==============================] - 2s 38ms/step - loss: 0.5064 - acc: 0.7502 - val_loss: 0.5004 - val_acc: 0.7710\n",
      "Epoch 20/50\n",
      "44/44 [==============================] - 2s 37ms/step - loss: 0.5055 - acc: 0.7538 - val_loss: 0.5206 - val_acc: 0.7391\n",
      "Epoch 21/50\n",
      "44/44 [==============================] - 2s 35ms/step - loss: 0.5144 - acc: 0.7436 - val_loss: 0.5206 - val_acc: 0.7420\n",
      "Epoch 22/50\n",
      "44/44 [==============================] - 1s 33ms/step - loss: 0.5032 - acc: 0.7487 - val_loss: 0.5048 - val_acc: 0.7565\n",
      "Epoch 23/50\n",
      "44/44 [==============================] - 2s 35ms/step - loss: 0.5000 - acc: 0.7495 - val_loss: 0.5282 - val_acc: 0.7333\n",
      "Epoch 24/50\n",
      "44/44 [==============================] - 2s 36ms/step - loss: 0.4976 - acc: 0.7560 - val_loss: 0.5076 - val_acc: 0.7652\n",
      "Epoch 25/50\n",
      "44/44 [==============================] - 2s 35ms/step - loss: 0.5004 - acc: 0.7625 - val_loss: 0.4967 - val_acc: 0.7797\n",
      "Epoch 26/50\n",
      "44/44 [==============================] - 2s 38ms/step - loss: 0.4904 - acc: 0.7589 - val_loss: 0.5220 - val_acc: 0.7391\n",
      "Epoch 27/50\n",
      "44/44 [==============================] - 2s 38ms/step - loss: 0.4923 - acc: 0.7705 - val_loss: 0.5109 - val_acc: 0.7565\n",
      "Epoch 28/50\n",
      "44/44 [==============================] - 2s 37ms/step - loss: 0.4937 - acc: 0.7625 - val_loss: 0.5083 - val_acc: 0.7565\n",
      "Epoch 29/50\n",
      "44/44 [==============================] - 2s 35ms/step - loss: 0.4878 - acc: 0.7669 - val_loss: 0.5071 - val_acc: 0.7681\n",
      "Epoch 30/50\n",
      "44/44 [==============================] - 2s 35ms/step - loss: 0.4820 - acc: 0.7727 - val_loss: 0.5048 - val_acc: 0.7449\n",
      "Epoch 31/50\n",
      "44/44 [==============================] - 2s 34ms/step - loss: 0.4847 - acc: 0.7647 - val_loss: 0.5058 - val_acc: 0.7739\n",
      "Epoch 32/50\n",
      "44/44 [==============================] - 2s 35ms/step - loss: 0.4807 - acc: 0.7734 - val_loss: 0.4969 - val_acc: 0.7768\n",
      "Epoch 33/50\n",
      "44/44 [==============================] - 2s 35ms/step - loss: 0.4765 - acc: 0.7843 - val_loss: 0.4963 - val_acc: 0.7623\n",
      "Epoch 34/50\n",
      "44/44 [==============================] - 2s 35ms/step - loss: 0.4802 - acc: 0.7756 - val_loss: 0.5085 - val_acc: 0.7507\n",
      "Epoch 35/50\n",
      "44/44 [==============================] - 2s 36ms/step - loss: 0.4781 - acc: 0.7771 - val_loss: 0.5283 - val_acc: 0.7536\n",
      "Epoch 36/50\n",
      "44/44 [==============================] - 2s 37ms/step - loss: 0.4872 - acc: 0.7582 - val_loss: 0.5078 - val_acc: 0.7623\n",
      "Epoch 37/50\n",
      "44/44 [==============================] - 2s 35ms/step - loss: 0.4822 - acc: 0.7800 - val_loss: 0.5103 - val_acc: 0.7565\n",
      "Epoch 38/50\n",
      "44/44 [==============================] - 2s 36ms/step - loss: 0.4724 - acc: 0.7778 - val_loss: 0.5398 - val_acc: 0.7420\n",
      "Epoch 39/50\n",
      "44/44 [==============================] - 2s 37ms/step - loss: 0.4761 - acc: 0.7749 - val_loss: 0.5197 - val_acc: 0.7478\n",
      "Epoch 40/50\n",
      "44/44 [==============================] - 2s 37ms/step - loss: 0.4765 - acc: 0.7749 - val_loss: 0.5037 - val_acc: 0.7710\n",
      "Epoch 41/50\n",
      "44/44 [==============================] - 2s 36ms/step - loss: 0.4767 - acc: 0.7807 - val_loss: 0.5145 - val_acc: 0.7507\n",
      "Epoch 42/50\n",
      "44/44 [==============================] - 2s 38ms/step - loss: 0.4704 - acc: 0.7771 - val_loss: 0.4971 - val_acc: 0.7826\n",
      "Epoch 43/50\n",
      "44/44 [==============================] - 2s 37ms/step - loss: 0.4679 - acc: 0.7843 - val_loss: 0.4974 - val_acc: 0.7652\n",
      "Epoch 44/50\n",
      "44/44 [==============================] - 2s 35ms/step - loss: 0.4685 - acc: 0.7872 - val_loss: 0.5074 - val_acc: 0.7710\n",
      "Epoch 45/50\n",
      "44/44 [==============================] - 2s 37ms/step - loss: 0.4583 - acc: 0.7829 - val_loss: 0.5123 - val_acc: 0.7565\n",
      "Epoch 46/50\n",
      "44/44 [==============================] - 2s 36ms/step - loss: 0.4664 - acc: 0.7800 - val_loss: 0.4955 - val_acc: 0.7681\n",
      "Epoch 47/50\n",
      "44/44 [==============================] - 2s 37ms/step - loss: 0.4635 - acc: 0.7836 - val_loss: 0.4967 - val_acc: 0.7710\n",
      "Epoch 48/50\n",
      "44/44 [==============================] - 2s 39ms/step - loss: 0.4644 - acc: 0.7858 - val_loss: 0.4942 - val_acc: 0.7710\n",
      "Epoch 49/50\n",
      "44/44 [==============================] - 2s 36ms/step - loss: 0.4559 - acc: 0.7829 - val_loss: 0.4942 - val_acc: 0.7681\n",
      "Epoch 50/50\n",
      "44/44 [==============================] - 2s 37ms/step - loss: 0.4629 - acc: 0.7901 - val_loss: 0.5014 - val_acc: 0.7623\n"
     ]
    }
   ]
  },
  {
   "metadata": {
    "id": "YNZfbHF7L8w4",
    "colab_type": "code",
    "colab": {},
    "pycharm": {
     "name": "#%%\n"
    }
   },
   "cell_type": "code",
   "source": [
    "import matplotlib.pyplot as plt\n",
    "\n",
    "acc = history.history['acc']\n",
    "val_acc = history.history['val_acc']\n",
    "loss = history.history['loss']\n",
    "val_loss = history.history['val_loss']\n",
    "\n",
    "epochs = range(1, len(acc) + 1)\n",
    "\n",
    "plt.plot(epochs, acc, 'bo', label='Training acc')\n",
    "plt.plot(epochs, val_acc, 'b', label='Validation acc')\n",
    "plt.title('Training and validation accuracy')\n",
    "plt.legend()\n",
    "\n",
    "plt.figure()\n",
    "\n",
    "plt.plot(epochs, loss, 'bo', label='Training loss')\n",
    "plt.plot(epochs, val_loss, 'b', label='Validation loss')\n",
    "plt.title('Training and validation loss')\n",
    "plt.legend()\n",
    "\n",
    "plt.show()"
   ],
   "execution_count": 44,
   "outputs": [
    {
     "data": {
      "text/plain": "<Figure size 432x288 with 1 Axes>",
      "image/png": "[encoded data removed]"
     },
     "metadata": {
      "needs_background": "light"
     },
     "output_type": "display_data"
    },
    {
     "data": {
      "text/plain": "<Figure size 432x288 with 1 Axes>",
      "image/png": "[encoded data removed]"
     },
     "metadata": {
      "needs_background": "light"
     },
     "output_type": "display_data"
    }
   ]
  }
 ]
}