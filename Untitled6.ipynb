{
 "cells": [
  {
   "cell_type": "code",
   "execution_count": 1,
   "id": "2d4d81c5",
   "metadata": {
    "pycharm": {
     "name": "#%%\n"
    }
   },
   "outputs": [],
   "source": [
    "import numpy as np\n",
    "import pandas as pd\n",
    "import matplotlib.pyplot as plt"
   ]
  },
  {
   "cell_type": "code",
   "execution_count": 2,
   "id": "ac786221",
   "metadata": {
    "pycharm": {
     "name": "#%%\n"
    }
   },
   "outputs": [],
   "source": [
    "data=pd.read_csv(r\"file.csv\")"
   ]
  },
  {
   "cell_type": "code",
   "execution_count": 3,
   "id": "b0896b43",
   "metadata": {
    "pycharm": {
     "name": "#%%\n"
    }
   },
   "outputs": [
    {
     "data": {
      "text/plain": "              User Name  User Age             User Email   User Mobile  \\\n0      Akshat Sanvaliya        21  asanvaliya1@gmail.com    8962318980   \n1          Selena Gomez        28    sselena22@gmail.com  555444333666   \n2                  Jade        29         asdf@gmail.com     567896543   \n3                 Tulsi        21        tulsi@gmail.com    8967245357   \n4          Harry Styles        34   adjaoidhoi@gmail.com   34455667878   \n5   Robert Downy Junior        55      robeert@gmail.com  233456457868   \n6             Spongebob        32     sdhsirhu@gmail.com   34556768687   \n7                  abcd        34  heuidiubicb@gmail.com       5667575   \n8                asfsfg        34               gdfgdbdb     656756668   \n9                Gaurav        21       gaurav@gmail.com   45465768799   \n10                Ayush        21  ajdiohcfuih@gmail.com    3445567678   \n11             rita ora        34     sdfnrfiu@gmail.com     234345546   \n12          Post Malone        38         post@gmail.com  345456756576   \n13            Lil Nas X        34          lil@gmail.com   45464675876   \n14          Jack harlow        30         jack@gmail.com    3456576789   \n15      Marcus Halloway        25    marcusXXX@gmail.com  886347523085   \n16         Aiden Pierce        29        aiden@gmail.com   45547567876   \n17               Justin        34          jus@gmail.com      34648679   \n18               Austin        34      austin 2GMAIL.COM    3443646578   \n19                Alley        21        alley@gmail.com   23446578789   \n20                  BOB        23          bob@gmail.com    3556890873   \n21                 Lisa        34          lis@gmail.com    8946476235   \n22          Mia Khalifa        34          mia@gmail.com   34566867634   \n23           Sasha grey        29      sasgirl@gmail.com     574743649   \n24                Ozuna        40           oz@gmail.com    5554443999   \n25  Megan Thee Stallion        38       megthe@gmail.com   99994494433   \n26             J balvin        30       balvin@gmail.com     777886543   \n27      Jesse Eisenberg        22       jesse1@gmail.com    2345677845   \n28            Sean paul        43          sea@gmail.com   23455665778   \n29            Aidra Fox        26         aidr@gmail.com     345678779   \n30          Ben Tenison        17        ben10@gmail.com     455678898   \n31           Niki Minaj        39       nikmin@gmail.com    5667788990   \n32                Adele        44     adlelele@gmail.com     233445567   \n33               Anshul        22         ansh@gmail.com    8944568553   \n34          Chris Evans        39        chrEv@gmail.com    2345657889   \n35    Scarlett Johanson        33      ScarJoh@gmail.com    3434978239   \n36            Aishwarya        21          ais@gmail.com    4354767898   \n37         Taylor Swift        28  taytayswift@gmail.com     344556789   \n38                Lizzo        34         lizz@gmail.com    3456677898   \n39             Shinchan         5         shin@gmail.com   56566778998   \n40         Mitsi Nohara        37       mitnoh@gmail.com      45566778   \n41         Harry Nohara        40       harnoh@gmail.com     346676798   \n42         Jason Derulo        34        jason@gmail.com    6474874683   \n43          Demi Lovato        36      demilov@gmail.com    4547585667   \n44            lil Dicky        37       lidDik@gmail.com    2343456678   \n45           Amanda Cox        23        amand@gmail.com      43546576   \n46              Ava Max        36          ava@gmail.com    3456577668   \n47       Pragya Dwivedi        21       pragdw@gmail.com    6854433445   \n48      Elizabeth Olsen        38        Eliol@gmail.com     344546789   \n49           Zayn Malik        29      zaynmal@gmail.com    2354567687   \n50           Tom Cruise        50         tomc@gmail.com     555444333   \n\n   User Gender User Type        Q2             Q3            Q4     Q5  \\\n0         Male      True  Question  generalize it   variability   True   \n1       Female      True  Question   randomize it   variability  False   \n2       Female       NaN  Question  generalize it  Verification   True   \n3       Female      True  Question  generalize it   variability    NaN   \n4         Male     False    Answer   randomize it   variability  False   \n5         Male      True    Answer   randomize it   variability  False   \n6         Male      True    Answer   randomize it   variability   True   \n7       Female     False    Answer   randomize it  Verification   True   \n8         Male     False    Answer   randomize it   variability  False   \n9         Male     False    Answer  generalize it   variability   True   \n10        Male      True  Question  generalize it  Verification  False   \n11      Female      True       NaN   randomize it  Verification   True   \n12        Male      True  Question  generalize it   variability  False   \n13        Male     False    Answer  generalize it           NaN    NaN   \n14        Male      True    Answer  generalize it  Verification  False   \n15        Male      True  Question   randomize it   variability   True   \n16        Male      True  Question  generalize it  Verification   True   \n17        Male      True    Answer   randomize it   variability   True   \n18        Male      True    Answer   randomize it   variability  False   \n19        Male      True    Answer   randomize it  Verification  False   \n20        Male      True    Answer   randomize it  Verification  False   \n21      Female      True  Question  generalize it  Verification  False   \n22      Female     False    Answer   randomize it   variability  False   \n23      Female      True  Question  generalize it  Verification  False   \n24        Male     False    Answer   randomize it   variability   True   \n25      Female     False    Answer   randomize it   variability   True   \n26        Male      True  Question  generalize it  Verification   True   \n27        Male     False    Answer   randomize it           NaN   True   \n28        Male      True  Question   randomize it   variability   True   \n29      Female      True       NaN  generalize it           NaN    NaN   \n30        Male     False       NaN   randomize it   variability   True   \n31      Female      True  Question  generalize it   variability  False   \n32      Female      True    Answer   randomize it   variability   True   \n33        Male      True  Question   randomize it   variability  False   \n34        Male     False    Answer   randomize it  Verification   True   \n35      Female      True  Question   randomize it   variability  False   \n36      Female       NaN  Question  generalize it  Verification   True   \n37      Female     False       NaN   randomize it   variability   True   \n38      Female     False    Answer   randomize it  Verification  False   \n39        Male     False    Answer  generalize it           NaN  False   \n40      Female      True  Question  generalize it  Verification  False   \n41        Male     False       NaN   randomize it           NaN   True   \n42        Male      True  Question  generalize it  Verification   True   \n43      Female      True    Answer  generalize it  Verification  False   \n44        Male      True    Answer   randomize it  Verification   True   \n45      Female      True    Answer   randomize it  Verification  False   \n46      Female      True  Question   randomize it   variability  False   \n47      Female      True  Question   randomize it   variability  False   \n48      Female      True  Question   randomize it   variability    NaN   \n49        Male      True  Question  generalize it   variability  False   \n50        Male     False  Question   randomize it  Verification  False   \n\n   Satisfy  Time  \n0      Yes   100  \n1      Yes    42  \n2      Yes    24  \n3      Yes    34  \n4       No    28  \n5      Yes    33  \n6      Yes    29  \n7      Yes    28  \n8      Yes    16  \n9      Yes    21  \n10     Yes    25  \n11     Yes    62  \n12      No    35  \n13     Yes    39  \n14     Yes    30  \n15     Yes   126  \n16     Yes    27  \n17      No    30  \n18      No    57  \n19     Yes    49  \n20     Yes    50  \n21     Yes    67  \n22      No    51  \n23     Yes    86  \n24     Yes   141  \n25     Yes   185  \n26     Yes   131  \n27      No    78  \n28      No   128  \n29     Yes    58  \n30     Yes    43  \n31      No    43  \n32     Yes    31  \n33     Yes    28  \n34     Yes    51  \n35      No    36  \n36     Yes    36  \n37     Yes    70  \n38     Yes    89  \n39     Yes    19  \n40     Yes    23  \n41     Yes    19  \n42     Yes    55  \n43      No    59  \n44     Yes    33  \n45     Yes    31  \n46     Yes    27  \n47     Yes    28  \n48     Yes    37  \n49      No    30  \n50      No  1003  ",
      "text/html": "<div>\n<style scoped>\n    .dataframe tbody tr th:only-of-type {\n        vertical-align: middle;\n    }\n\n    .dataframe tbody tr th {\n        vertical-align: top;\n    }\n\n    .dataframe thead th {\n        text-align: right;\n    }\n</style>\n<table border=\"1\" class=\"dataframe\">\n  <thead>\n    <tr style=\"text-align: right;\">\n      <th></th>\n      <th>User Name</th>\n      <th>User Age</th>\n      <th>User Email</th>\n      <th>User Mobile</th>\n      <th>User Gender</th>\n      <th>User Type</th>\n      <th>Q2</th>\n      <th>Q3</th>\n      <th>Q4</th>\n      <th>Q5</th>\n      <th>Satisfy</th>\n      <th>Time</th>\n    </tr>\n  </thead>\n  <tbody>\n    <tr>\n      <th>0</th>\n      <td>Akshat Sanvaliya</td>\n      <td>21</td>\n      <td>asanvaliya1@gmail.com</td>\n      <td>8962318980</td>\n      <td>Male</td>\n      <td>True</td>\n      <td>Question</td>\n      <td>generalize it</td>\n      <td>variability</td>\n      <td>True</td>\n      <td>Yes</td>\n      <td>100</td>\n    </tr>\n    <tr>\n      <th>1</th>\n      <td>Selena Gomez</td>\n      <td>28</td>\n      <td>sselena22@gmail.com</td>\n      <td>555444333666</td>\n      <td>Female</td>\n      <td>True</td>\n      <td>Question</td>\n      <td>randomize it</td>\n      <td>variability</td>\n      <td>False</td>\n      <td>Yes</td>\n      <td>42</td>\n    </tr>\n    <tr>\n      <th>2</th>\n      <td>Jade</td>\n      <td>29</td>\n      <td>asdf@gmail.com</td>\n      <td>567896543</td>\n      <td>Female</td>\n      <td>NaN</td>\n      <td>Question</td>\n      <td>generalize it</td>\n      <td>Verification</td>\n      <td>True</td>\n      <td>Yes</td>\n      <td>24</td>\n    </tr>\n    <tr>\n      <th>3</th>\n      <td>Tulsi</td>\n      <td>21</td>\n      <td>tulsi@gmail.com</td>\n      <td>8967245357</td>\n      <td>Female</td>\n      <td>True</td>\n      <td>Question</td>\n      <td>generalize it</td>\n      <td>variability</td>\n      <td>NaN</td>\n      <td>Yes</td>\n      <td>34</td>\n    </tr>\n    <tr>\n      <th>4</th>\n      <td>Harry Styles</td>\n      <td>34</td>\n      <td>adjaoidhoi@gmail.com</td>\n      <td>34455667878</td>\n      <td>Male</td>\n      <td>False</td>\n      <td>Answer</td>\n      <td>randomize it</td>\n      <td>variability</td>\n      <td>False</td>\n      <td>No</td>\n      <td>28</td>\n    </tr>\n    <tr>\n      <th>5</th>\n      <td>Robert Downy Junior</td>\n      <td>55</td>\n      <td>robeert@gmail.com</td>\n      <td>233456457868</td>\n      <td>Male</td>\n      <td>True</td>\n      <td>Answer</td>\n      <td>randomize it</td>\n      <td>variability</td>\n      <td>False</td>\n      <td>Yes</td>\n      <td>33</td>\n    </tr>\n    <tr>\n      <th>6</th>\n      <td>Spongebob</td>\n      <td>32</td>\n      <td>sdhsirhu@gmail.com</td>\n      <td>34556768687</td>\n      <td>Male</td>\n      <td>True</td>\n      <td>Answer</td>\n      <td>randomize it</td>\n      <td>variability</td>\n      <td>True</td>\n      <td>Yes</td>\n      <td>29</td>\n    </tr>\n    <tr>\n      <th>7</th>\n      <td>abcd</td>\n      <td>34</td>\n      <td>heuidiubicb@gmail.com</td>\n      <td>5667575</td>\n      <td>Female</td>\n      <td>False</td>\n      <td>Answer</td>\n      <td>randomize it</td>\n      <td>Verification</td>\n      <td>True</td>\n      <td>Yes</td>\n      <td>28</td>\n    </tr>\n    <tr>\n      <th>8</th>\n      <td>asfsfg</td>\n      <td>34</td>\n      <td>gdfgdbdb</td>\n      <td>656756668</td>\n      <td>Male</td>\n      <td>False</td>\n      <td>Answer</td>\n      <td>randomize it</td>\n      <td>variability</td>\n      <td>False</td>\n      <td>Yes</td>\n      <td>16</td>\n    </tr>\n    <tr>\n      <th>9</th>\n      <td>Gaurav</td>\n      <td>21</td>\n      <td>gaurav@gmail.com</td>\n      <td>45465768799</td>\n      <td>Male</td>\n      <td>False</td>\n      <td>Answer</td>\n      <td>generalize it</td>\n      <td>variability</td>\n      <td>True</td>\n      <td>Yes</td>\n      <td>21</td>\n    </tr>\n    <tr>\n      <th>10</th>\n      <td>Ayush</td>\n      <td>21</td>\n      <td>ajdiohcfuih@gmail.com</td>\n      <td>3445567678</td>\n      <td>Male</td>\n      <td>True</td>\n      <td>Question</td>\n      <td>generalize it</td>\n      <td>Verification</td>\n      <td>False</td>\n      <td>Yes</td>\n      <td>25</td>\n    </tr>\n    <tr>\n      <th>11</th>\n      <td>rita ora</td>\n      <td>34</td>\n      <td>sdfnrfiu@gmail.com</td>\n      <td>234345546</td>\n      <td>Female</td>\n      <td>True</td>\n      <td>NaN</td>\n      <td>randomize it</td>\n      <td>Verification</td>\n      <td>True</td>\n      <td>Yes</td>\n      <td>62</td>\n    </tr>\n    <tr>\n      <th>12</th>\n      <td>Post Malone</td>\n      <td>38</td>\n      <td>post@gmail.com</td>\n      <td>345456756576</td>\n      <td>Male</td>\n      <td>True</td>\n      <td>Question</td>\n      <td>generalize it</td>\n      <td>variability</td>\n      <td>False</td>\n      <td>No</td>\n      <td>35</td>\n    </tr>\n    <tr>\n      <th>13</th>\n      <td>Lil Nas X</td>\n      <td>34</td>\n      <td>lil@gmail.com</td>\n      <td>45464675876</td>\n      <td>Male</td>\n      <td>False</td>\n      <td>Answer</td>\n      <td>generalize it</td>\n      <td>NaN</td>\n      <td>NaN</td>\n      <td>Yes</td>\n      <td>39</td>\n    </tr>\n    <tr>\n      <th>14</th>\n      <td>Jack harlow</td>\n      <td>30</td>\n      <td>jack@gmail.com</td>\n      <td>3456576789</td>\n      <td>Male</td>\n      <td>True</td>\n      <td>Answer</td>\n      <td>generalize it</td>\n      <td>Verification</td>\n      <td>False</td>\n      <td>Yes</td>\n      <td>30</td>\n    </tr>\n    <tr>\n      <th>15</th>\n      <td>Marcus Halloway</td>\n      <td>25</td>\n      <td>marcusXXX@gmail.com</td>\n      <td>886347523085</td>\n      <td>Male</td>\n      <td>True</td>\n      <td>Question</td>\n      <td>randomize it</td>\n      <td>variability</td>\n      <td>True</td>\n      <td>Yes</td>\n      <td>126</td>\n    </tr>\n    <tr>\n      <th>16</th>\n      <td>Aiden Pierce</td>\n      <td>29</td>\n      <td>aiden@gmail.com</td>\n      <td>45547567876</td>\n      <td>Male</td>\n      <td>True</td>\n      <td>Question</td>\n      <td>generalize it</td>\n      <td>Verification</td>\n      <td>True</td>\n      <td>Yes</td>\n      <td>27</td>\n    </tr>\n    <tr>\n      <th>17</th>\n      <td>Justin</td>\n      <td>34</td>\n      <td>jus@gmail.com</td>\n      <td>34648679</td>\n      <td>Male</td>\n      <td>True</td>\n      <td>Answer</td>\n      <td>randomize it</td>\n      <td>variability</td>\n      <td>True</td>\n      <td>No</td>\n      <td>30</td>\n    </tr>\n    <tr>\n      <th>18</th>\n      <td>Austin</td>\n      <td>34</td>\n      <td>austin 2GMAIL.COM</td>\n      <td>3443646578</td>\n      <td>Male</td>\n      <td>True</td>\n      <td>Answer</td>\n      <td>randomize it</td>\n      <td>variability</td>\n      <td>False</td>\n      <td>No</td>\n      <td>57</td>\n    </tr>\n    <tr>\n      <th>19</th>\n      <td>Alley</td>\n      <td>21</td>\n      <td>alley@gmail.com</td>\n      <td>23446578789</td>\n      <td>Male</td>\n      <td>True</td>\n      <td>Answer</td>\n      <td>randomize it</td>\n      <td>Verification</td>\n      <td>False</td>\n      <td>Yes</td>\n      <td>49</td>\n    </tr>\n    <tr>\n      <th>20</th>\n      <td>BOB</td>\n      <td>23</td>\n      <td>bob@gmail.com</td>\n      <td>3556890873</td>\n      <td>Male</td>\n      <td>True</td>\n      <td>Answer</td>\n      <td>randomize it</td>\n      <td>Verification</td>\n      <td>False</td>\n      <td>Yes</td>\n      <td>50</td>\n    </tr>\n    <tr>\n      <th>21</th>\n      <td>Lisa</td>\n      <td>34</td>\n      <td>lis@gmail.com</td>\n      <td>8946476235</td>\n      <td>Female</td>\n      <td>True</td>\n      <td>Question</td>\n      <td>generalize it</td>\n      <td>Verification</td>\n      <td>False</td>\n      <td>Yes</td>\n      <td>67</td>\n    </tr>\n    <tr>\n      <th>22</th>\n      <td>Mia Khalifa</td>\n      <td>34</td>\n      <td>mia@gmail.com</td>\n      <td>34566867634</td>\n      <td>Female</td>\n      <td>False</td>\n      <td>Answer</td>\n      <td>randomize it</td>\n      <td>variability</td>\n      <td>False</td>\n      <td>No</td>\n      <td>51</td>\n    </tr>\n    <tr>\n      <th>23</th>\n      <td>Sasha grey</td>\n      <td>29</td>\n      <td>sasgirl@gmail.com</td>\n      <td>574743649</td>\n      <td>Female</td>\n      <td>True</td>\n      <td>Question</td>\n      <td>generalize it</td>\n      <td>Verification</td>\n      <td>False</td>\n      <td>Yes</td>\n      <td>86</td>\n    </tr>\n    <tr>\n      <th>24</th>\n      <td>Ozuna</td>\n      <td>40</td>\n      <td>oz@gmail.com</td>\n      <td>5554443999</td>\n      <td>Male</td>\n      <td>False</td>\n      <td>Answer</td>\n      <td>randomize it</td>\n      <td>variability</td>\n      <td>True</td>\n      <td>Yes</td>\n      <td>141</td>\n    </tr>\n    <tr>\n      <th>25</th>\n      <td>Megan Thee Stallion</td>\n      <td>38</td>\n      <td>megthe@gmail.com</td>\n      <td>99994494433</td>\n      <td>Female</td>\n      <td>False</td>\n      <td>Answer</td>\n      <td>randomize it</td>\n      <td>variability</td>\n      <td>True</td>\n      <td>Yes</td>\n      <td>185</td>\n    </tr>\n    <tr>\n      <th>26</th>\n      <td>J balvin</td>\n      <td>30</td>\n      <td>balvin@gmail.com</td>\n      <td>777886543</td>\n      <td>Male</td>\n      <td>True</td>\n      <td>Question</td>\n      <td>generalize it</td>\n      <td>Verification</td>\n      <td>True</td>\n      <td>Yes</td>\n      <td>131</td>\n    </tr>\n    <tr>\n      <th>27</th>\n      <td>Jesse Eisenberg</td>\n      <td>22</td>\n      <td>jesse1@gmail.com</td>\n      <td>2345677845</td>\n      <td>Male</td>\n      <td>False</td>\n      <td>Answer</td>\n      <td>randomize it</td>\n      <td>NaN</td>\n      <td>True</td>\n      <td>No</td>\n      <td>78</td>\n    </tr>\n    <tr>\n      <th>28</th>\n      <td>Sean paul</td>\n      <td>43</td>\n      <td>sea@gmail.com</td>\n      <td>23455665778</td>\n      <td>Male</td>\n      <td>True</td>\n      <td>Question</td>\n      <td>randomize it</td>\n      <td>variability</td>\n      <td>True</td>\n      <td>No</td>\n      <td>128</td>\n    </tr>\n    <tr>\n      <th>29</th>\n      <td>Aidra Fox</td>\n      <td>26</td>\n      <td>aidr@gmail.com</td>\n      <td>345678779</td>\n      <td>Female</td>\n      <td>True</td>\n      <td>NaN</td>\n      <td>generalize it</td>\n      <td>NaN</td>\n      <td>NaN</td>\n      <td>Yes</td>\n      <td>58</td>\n    </tr>\n    <tr>\n      <th>30</th>\n      <td>Ben Tenison</td>\n      <td>17</td>\n      <td>ben10@gmail.com</td>\n      <td>455678898</td>\n      <td>Male</td>\n      <td>False</td>\n      <td>NaN</td>\n      <td>randomize it</td>\n      <td>variability</td>\n      <td>True</td>\n      <td>Yes</td>\n      <td>43</td>\n    </tr>\n    <tr>\n      <th>31</th>\n      <td>Niki Minaj</td>\n      <td>39</td>\n      <td>nikmin@gmail.com</td>\n      <td>5667788990</td>\n      <td>Female</td>\n      <td>True</td>\n      <td>Question</td>\n      <td>generalize it</td>\n      <td>variability</td>\n      <td>False</td>\n      <td>No</td>\n      <td>43</td>\n    </tr>\n    <tr>\n      <th>32</th>\n      <td>Adele</td>\n      <td>44</td>\n      <td>adlelele@gmail.com</td>\n      <td>233445567</td>\n      <td>Female</td>\n      <td>True</td>\n      <td>Answer</td>\n      <td>randomize it</td>\n      <td>variability</td>\n      <td>True</td>\n      <td>Yes</td>\n      <td>31</td>\n    </tr>\n    <tr>\n      <th>33</th>\n      <td>Anshul</td>\n      <td>22</td>\n      <td>ansh@gmail.com</td>\n      <td>8944568553</td>\n      <td>Male</td>\n      <td>True</td>\n      <td>Question</td>\n      <td>randomize it</td>\n      <td>variability</td>\n      <td>False</td>\n      <td>Yes</td>\n      <td>28</td>\n    </tr>\n    <tr>\n      <th>34</th>\n      <td>Chris Evans</td>\n      <td>39</td>\n      <td>chrEv@gmail.com</td>\n      <td>2345657889</td>\n      <td>Male</td>\n      <td>False</td>\n      <td>Answer</td>\n      <td>randomize it</td>\n      <td>Verification</td>\n      <td>True</td>\n      <td>Yes</td>\n      <td>51</td>\n    </tr>\n    <tr>\n      <th>35</th>\n      <td>Scarlett Johanson</td>\n      <td>33</td>\n      <td>ScarJoh@gmail.com</td>\n      <td>3434978239</td>\n      <td>Female</td>\n      <td>True</td>\n      <td>Question</td>\n      <td>randomize it</td>\n      <td>variability</td>\n      <td>False</td>\n      <td>No</td>\n      <td>36</td>\n    </tr>\n    <tr>\n      <th>36</th>\n      <td>Aishwarya</td>\n      <td>21</td>\n      <td>ais@gmail.com</td>\n      <td>4354767898</td>\n      <td>Female</td>\n      <td>NaN</td>\n      <td>Question</td>\n      <td>generalize it</td>\n      <td>Verification</td>\n      <td>True</td>\n      <td>Yes</td>\n      <td>36</td>\n    </tr>\n    <tr>\n      <th>37</th>\n      <td>Taylor Swift</td>\n      <td>28</td>\n      <td>taytayswift@gmail.com</td>\n      <td>344556789</td>\n      <td>Female</td>\n      <td>False</td>\n      <td>NaN</td>\n      <td>randomize it</td>\n      <td>variability</td>\n      <td>True</td>\n      <td>Yes</td>\n      <td>70</td>\n    </tr>\n    <tr>\n      <th>38</th>\n      <td>Lizzo</td>\n      <td>34</td>\n      <td>lizz@gmail.com</td>\n      <td>3456677898</td>\n      <td>Female</td>\n      <td>False</td>\n      <td>Answer</td>\n      <td>randomize it</td>\n      <td>Verification</td>\n      <td>False</td>\n      <td>Yes</td>\n      <td>89</td>\n    </tr>\n    <tr>\n      <th>39</th>\n      <td>Shinchan</td>\n      <td>5</td>\n      <td>shin@gmail.com</td>\n      <td>56566778998</td>\n      <td>Male</td>\n      <td>False</td>\n      <td>Answer</td>\n      <td>generalize it</td>\n      <td>NaN</td>\n      <td>False</td>\n      <td>Yes</td>\n      <td>19</td>\n    </tr>\n    <tr>\n      <th>40</th>\n      <td>Mitsi Nohara</td>\n      <td>37</td>\n      <td>mitnoh@gmail.com</td>\n      <td>45566778</td>\n      <td>Female</td>\n      <td>True</td>\n      <td>Question</td>\n      <td>generalize it</td>\n      <td>Verification</td>\n      <td>False</td>\n      <td>Yes</td>\n      <td>23</td>\n    </tr>\n    <tr>\n      <th>41</th>\n      <td>Harry Nohara</td>\n      <td>40</td>\n      <td>harnoh@gmail.com</td>\n      <td>346676798</td>\n      <td>Male</td>\n      <td>False</td>\n      <td>NaN</td>\n      <td>randomize it</td>\n      <td>NaN</td>\n      <td>True</td>\n      <td>Yes</td>\n      <td>19</td>\n    </tr>\n    <tr>\n      <th>42</th>\n      <td>Jason Derulo</td>\n      <td>34</td>\n      <td>jason@gmail.com</td>\n      <td>6474874683</td>\n      <td>Male</td>\n      <td>True</td>\n      <td>Question</td>\n      <td>generalize it</td>\n      <td>Verification</td>\n      <td>True</td>\n      <td>Yes</td>\n      <td>55</td>\n    </tr>\n    <tr>\n      <th>43</th>\n      <td>Demi Lovato</td>\n      <td>36</td>\n      <td>demilov@gmail.com</td>\n      <td>4547585667</td>\n      <td>Female</td>\n      <td>True</td>\n      <td>Answer</td>\n      <td>generalize it</td>\n      <td>Verification</td>\n      <td>False</td>\n      <td>No</td>\n      <td>59</td>\n    </tr>\n    <tr>\n      <th>44</th>\n      <td>lil Dicky</td>\n      <td>37</td>\n      <td>lidDik@gmail.com</td>\n      <td>2343456678</td>\n      <td>Male</td>\n      <td>True</td>\n      <td>Answer</td>\n      <td>randomize it</td>\n      <td>Verification</td>\n      <td>True</td>\n      <td>Yes</td>\n      <td>33</td>\n    </tr>\n    <tr>\n      <th>45</th>\n      <td>Amanda Cox</td>\n      <td>23</td>\n      <td>amand@gmail.com</td>\n      <td>43546576</td>\n      <td>Female</td>\n      <td>True</td>\n      <td>Answer</td>\n      <td>randomize it</td>\n      <td>Verification</td>\n      <td>False</td>\n      <td>Yes</td>\n      <td>31</td>\n    </tr>\n    <tr>\n      <th>46</th>\n      <td>Ava Max</td>\n      <td>36</td>\n      <td>ava@gmail.com</td>\n      <td>3456577668</td>\n      <td>Female</td>\n      <td>True</td>\n      <td>Question</td>\n      <td>randomize it</td>\n      <td>variability</td>\n      <td>False</td>\n      <td>Yes</td>\n      <td>27</td>\n    </tr>\n    <tr>\n      <th>47</th>\n      <td>Pragya Dwivedi</td>\n      <td>21</td>\n      <td>pragdw@gmail.com</td>\n      <td>6854433445</td>\n      <td>Female</td>\n      <td>True</td>\n      <td>Question</td>\n      <td>randomize it</td>\n      <td>variability</td>\n      <td>False</td>\n      <td>Yes</td>\n      <td>28</td>\n    </tr>\n    <tr>\n      <th>48</th>\n      <td>Elizabeth Olsen</td>\n      <td>38</td>\n      <td>Eliol@gmail.com</td>\n      <td>344546789</td>\n      <td>Female</td>\n      <td>True</td>\n      <td>Question</td>\n      <td>randomize it</td>\n      <td>variability</td>\n      <td>NaN</td>\n      <td>Yes</td>\n      <td>37</td>\n    </tr>\n    <tr>\n      <th>49</th>\n      <td>Zayn Malik</td>\n      <td>29</td>\n      <td>zaynmal@gmail.com</td>\n      <td>2354567687</td>\n      <td>Male</td>\n      <td>True</td>\n      <td>Question</td>\n      <td>generalize it</td>\n      <td>variability</td>\n      <td>False</td>\n      <td>No</td>\n      <td>30</td>\n    </tr>\n    <tr>\n      <th>50</th>\n      <td>Tom Cruise</td>\n      <td>50</td>\n      <td>tomc@gmail.com</td>\n      <td>555444333</td>\n      <td>Male</td>\n      <td>False</td>\n      <td>Question</td>\n      <td>randomize it</td>\n      <td>Verification</td>\n      <td>False</td>\n      <td>No</td>\n      <td>1003</td>\n    </tr>\n  </tbody>\n</table>\n</div>"
     },
     "execution_count": 3,
     "metadata": {},
     "output_type": "execute_result"
    }
   ],
   "source": [
    "data"
   ]
  },
  {
   "cell_type": "code",
   "execution_count": 4,
   "id": "79709c49",
   "metadata": {
    "pycharm": {
     "name": "#%%\n"
    }
   },
   "outputs": [],
   "source": [
    "data=data.dropna()"
   ]
  },
  {
   "cell_type": "code",
   "execution_count": 5,
   "id": "56a64de4",
   "metadata": {
    "pycharm": {
     "name": "#%%\n"
    }
   },
   "outputs": [
    {
     "data": {
      "text/plain": "              User Name  User Age             User Email   User Mobile  \\\n0      Akshat Sanvaliya        21  asanvaliya1@gmail.com    8962318980   \n1          Selena Gomez        28    sselena22@gmail.com  555444333666   \n4          Harry Styles        34   adjaoidhoi@gmail.com   34455667878   \n5   Robert Downy Junior        55      robeert@gmail.com  233456457868   \n6             Spongebob        32     sdhsirhu@gmail.com   34556768687   \n7                  abcd        34  heuidiubicb@gmail.com       5667575   \n8                asfsfg        34               gdfgdbdb     656756668   \n9                Gaurav        21       gaurav@gmail.com   45465768799   \n10                Ayush        21  ajdiohcfuih@gmail.com    3445567678   \n12          Post Malone        38         post@gmail.com  345456756576   \n14          Jack harlow        30         jack@gmail.com    3456576789   \n15      Marcus Halloway        25    marcusXXX@gmail.com  886347523085   \n16         Aiden Pierce        29        aiden@gmail.com   45547567876   \n17               Justin        34          jus@gmail.com      34648679   \n18               Austin        34      austin 2GMAIL.COM    3443646578   \n19                Alley        21        alley@gmail.com   23446578789   \n20                  BOB        23          bob@gmail.com    3556890873   \n21                 Lisa        34          lis@gmail.com    8946476235   \n22          Mia Khalifa        34          mia@gmail.com   34566867634   \n23           Sasha grey        29      sasgirl@gmail.com     574743649   \n24                Ozuna        40           oz@gmail.com    5554443999   \n25  Megan Thee Stallion        38       megthe@gmail.com   99994494433   \n26             J balvin        30       balvin@gmail.com     777886543   \n28            Sean paul        43          sea@gmail.com   23455665778   \n31           Niki Minaj        39       nikmin@gmail.com    5667788990   \n32                Adele        44     adlelele@gmail.com     233445567   \n33               Anshul        22         ansh@gmail.com    8944568553   \n34          Chris Evans        39        chrEv@gmail.com    2345657889   \n35    Scarlett Johanson        33      ScarJoh@gmail.com    3434978239   \n38                Lizzo        34         lizz@gmail.com    3456677898   \n40         Mitsi Nohara        37       mitnoh@gmail.com      45566778   \n42         Jason Derulo        34        jason@gmail.com    6474874683   \n43          Demi Lovato        36      demilov@gmail.com    4547585667   \n44            lil Dicky        37       lidDik@gmail.com    2343456678   \n45           Amanda Cox        23        amand@gmail.com      43546576   \n46              Ava Max        36          ava@gmail.com    3456577668   \n47       Pragya Dwivedi        21       pragdw@gmail.com    6854433445   \n49           Zayn Malik        29      zaynmal@gmail.com    2354567687   \n50           Tom Cruise        50         tomc@gmail.com     555444333   \n\n   User Gender User Type        Q2             Q3            Q4     Q5  \\\n0         Male      True  Question  generalize it   variability   True   \n1       Female      True  Question   randomize it   variability  False   \n4         Male     False    Answer   randomize it   variability  False   \n5         Male      True    Answer   randomize it   variability  False   \n6         Male      True    Answer   randomize it   variability   True   \n7       Female     False    Answer   randomize it  Verification   True   \n8         Male     False    Answer   randomize it   variability  False   \n9         Male     False    Answer  generalize it   variability   True   \n10        Male      True  Question  generalize it  Verification  False   \n12        Male      True  Question  generalize it   variability  False   \n14        Male      True    Answer  generalize it  Verification  False   \n15        Male      True  Question   randomize it   variability   True   \n16        Male      True  Question  generalize it  Verification   True   \n17        Male      True    Answer   randomize it   variability   True   \n18        Male      True    Answer   randomize it   variability  False   \n19        Male      True    Answer   randomize it  Verification  False   \n20        Male      True    Answer   randomize it  Verification  False   \n21      Female      True  Question  generalize it  Verification  False   \n22      Female     False    Answer   randomize it   variability  False   \n23      Female      True  Question  generalize it  Verification  False   \n24        Male     False    Answer   randomize it   variability   True   \n25      Female     False    Answer   randomize it   variability   True   \n26        Male      True  Question  generalize it  Verification   True   \n28        Male      True  Question   randomize it   variability   True   \n31      Female      True  Question  generalize it   variability  False   \n32      Female      True    Answer   randomize it   variability   True   \n33        Male      True  Question   randomize it   variability  False   \n34        Male     False    Answer   randomize it  Verification   True   \n35      Female      True  Question   randomize it   variability  False   \n38      Female     False    Answer   randomize it  Verification  False   \n40      Female      True  Question  generalize it  Verification  False   \n42        Male      True  Question  generalize it  Verification   True   \n43      Female      True    Answer  generalize it  Verification  False   \n44        Male      True    Answer   randomize it  Verification   True   \n45      Female      True    Answer   randomize it  Verification  False   \n46      Female      True  Question   randomize it   variability  False   \n47      Female      True  Question   randomize it   variability  False   \n49        Male      True  Question  generalize it   variability  False   \n50        Male     False  Question   randomize it  Verification  False   \n\n   Satisfy  Time  \n0      Yes   100  \n1      Yes    42  \n4       No    28  \n5      Yes    33  \n6      Yes    29  \n7      Yes    28  \n8      Yes    16  \n9      Yes    21  \n10     Yes    25  \n12      No    35  \n14     Yes    30  \n15     Yes   126  \n16     Yes    27  \n17      No    30  \n18      No    57  \n19     Yes    49  \n20     Yes    50  \n21     Yes    67  \n22      No    51  \n23     Yes    86  \n24     Yes   141  \n25     Yes   185  \n26     Yes   131  \n28      No   128  \n31      No    43  \n32     Yes    31  \n33     Yes    28  \n34     Yes    51  \n35      No    36  \n38     Yes    89  \n40     Yes    23  \n42     Yes    55  \n43      No    59  \n44     Yes    33  \n45     Yes    31  \n46     Yes    27  \n47     Yes    28  \n49      No    30  \n50      No  1003  ",
      "text/html": "<div>\n<style scoped>\n    .dataframe tbody tr th:only-of-type {\n        vertical-align: middle;\n    }\n\n    .dataframe tbody tr th {\n        vertical-align: top;\n    }\n\n    .dataframe thead th {\n        text-align: right;\n    }\n</style>\n<table border=\"1\" class=\"dataframe\">\n  <thead>\n    <tr style=\"text-align: right;\">\n      <th></th>\n      <th>User Name</th>\n      <th>User Age</th>\n      <th>User Email</th>\n      <th>User Mobile</th>\n      <th>User Gender</th>\n      <th>User Type</th>\n      <th>Q2</th>\n      <th>Q3</th>\n      <th>Q4</th>\n      <th>Q5</th>\n      <th>Satisfy</th>\n      <th>Time</th>\n    </tr>\n  </thead>\n  <tbody>\n    <tr>\n      <th>0</th>\n      <td>Akshat Sanvaliya</td>\n      <td>21</td>\n      <td>asanvaliya1@gmail.com</td>\n      <td>8962318980</td>\n      <td>Male</td>\n      <td>True</td>\n      <td>Question</td>\n      <td>generalize it</td>\n      <td>variability</td>\n      <td>True</td>\n      <td>Yes</td>\n      <td>100</td>\n    </tr>\n    <tr>\n      <th>1</th>\n      <td>Selena Gomez</td>\n      <td>28</td>\n      <td>sselena22@gmail.com</td>\n      <td>555444333666</td>\n      <td>Female</td>\n      <td>True</td>\n      <td>Question</td>\n      <td>randomize it</td>\n      <td>variability</td>\n      <td>False</td>\n      <td>Yes</td>\n      <td>42</td>\n    </tr>\n    <tr>\n      <th>4</th>\n      <td>Harry Styles</td>\n      <td>34</td>\n      <td>adjaoidhoi@gmail.com</td>\n      <td>34455667878</td>\n      <td>Male</td>\n      <td>False</td>\n      <td>Answer</td>\n      <td>randomize it</td>\n      <td>variability</td>\n      <td>False</td>\n      <td>No</td>\n      <td>28</td>\n    </tr>\n    <tr>\n      <th>5</th>\n      <td>Robert Downy Junior</td>\n      <td>55</td>\n      <td>robeert@gmail.com</td>\n      <td>233456457868</td>\n      <td>Male</td>\n      <td>True</td>\n      <td>Answer</td>\n      <td>randomize it</td>\n      <td>variability</td>\n      <td>False</td>\n      <td>Yes</td>\n      <td>33</td>\n    </tr>\n    <tr>\n      <th>6</th>\n      <td>Spongebob</td>\n      <td>32</td>\n      <td>sdhsirhu@gmail.com</td>\n      <td>34556768687</td>\n      <td>Male</td>\n      <td>True</td>\n      <td>Answer</td>\n      <td>randomize it</td>\n      <td>variability</td>\n      <td>True</td>\n      <td>Yes</td>\n      <td>29</td>\n    </tr>\n    <tr>\n      <th>7</th>\n      <td>abcd</td>\n      <td>34</td>\n      <td>heuidiubicb@gmail.com</td>\n      <td>5667575</td>\n      <td>Female</td>\n      <td>False</td>\n      <td>Answer</td>\n      <td>randomize it</td>\n      <td>Verification</td>\n      <td>True</td>\n      <td>Yes</td>\n      <td>28</td>\n    </tr>\n    <tr>\n      <th>8</th>\n      <td>asfsfg</td>\n      <td>34</td>\n      <td>gdfgdbdb</td>\n      <td>656756668</td>\n      <td>Male</td>\n      <td>False</td>\n      <td>Answer</td>\n      <td>randomize it</td>\n      <td>variability</td>\n      <td>False</td>\n      <td>Yes</td>\n      <td>16</td>\n    </tr>\n    <tr>\n      <th>9</th>\n      <td>Gaurav</td>\n      <td>21</td>\n      <td>gaurav@gmail.com</td>\n      <td>45465768799</td>\n      <td>Male</td>\n      <td>False</td>\n      <td>Answer</td>\n      <td>generalize it</td>\n      <td>variability</td>\n      <td>True</td>\n      <td>Yes</td>\n      <td>21</td>\n    </tr>\n    <tr>\n      <th>10</th>\n      <td>Ayush</td>\n      <td>21</td>\n      <td>ajdiohcfuih@gmail.com</td>\n      <td>3445567678</td>\n      <td>Male</td>\n      <td>True</td>\n      <td>Question</td>\n      <td>generalize it</td>\n      <td>Verification</td>\n      <td>False</td>\n      <td>Yes</td>\n      <td>25</td>\n    </tr>\n    <tr>\n      <th>12</th>\n      <td>Post Malone</td>\n      <td>38</td>\n      <td>post@gmail.com</td>\n      <td>345456756576</td>\n      <td>Male</td>\n      <td>True</td>\n      <td>Question</td>\n      <td>generalize it</td>\n      <td>variability</td>\n      <td>False</td>\n      <td>No</td>\n      <td>35</td>\n    </tr>\n    <tr>\n      <th>14</th>\n      <td>Jack harlow</td>\n      <td>30</td>\n      <td>jack@gmail.com</td>\n      <td>3456576789</td>\n      <td>Male</td>\n      <td>True</td>\n      <td>Answer</td>\n      <td>generalize it</td>\n      <td>Verification</td>\n      <td>False</td>\n      <td>Yes</td>\n      <td>30</td>\n    </tr>\n    <tr>\n      <th>15</th>\n      <td>Marcus Halloway</td>\n      <td>25</td>\n      <td>marcusXXX@gmail.com</td>\n      <td>886347523085</td>\n      <td>Male</td>\n      <td>True</td>\n      <td>Question</td>\n      <td>randomize it</td>\n      <td>variability</td>\n      <td>True</td>\n      <td>Yes</td>\n      <td>126</td>\n    </tr>\n    <tr>\n      <th>16</th>\n      <td>Aiden Pierce</td>\n      <td>29</td>\n      <td>aiden@gmail.com</td>\n      <td>45547567876</td>\n      <td>Male</td>\n      <td>True</td>\n      <td>Question</td>\n      <td>generalize it</td>\n      <td>Verification</td>\n      <td>True</td>\n      <td>Yes</td>\n      <td>27</td>\n    </tr>\n    <tr>\n      <th>17</th>\n      <td>Justin</td>\n      <td>34</td>\n      <td>jus@gmail.com</td>\n      <td>34648679</td>\n      <td>Male</td>\n      <td>True</td>\n      <td>Answer</td>\n      <td>randomize it</td>\n      <td>variability</td>\n      <td>True</td>\n      <td>No</td>\n      <td>30</td>\n    </tr>\n    <tr>\n      <th>18</th>\n      <td>Austin</td>\n      <td>34</td>\n      <td>austin 2GMAIL.COM</td>\n      <td>3443646578</td>\n      <td>Male</td>\n      <td>True</td>\n      <td>Answer</td>\n      <td>randomize it</td>\n      <td>variability</td>\n      <td>False</td>\n      <td>No</td>\n      <td>57</td>\n    </tr>\n    <tr>\n      <th>19</th>\n      <td>Alley</td>\n      <td>21</td>\n      <td>alley@gmail.com</td>\n      <td>23446578789</td>\n      <td>Male</td>\n      <td>True</td>\n      <td>Answer</td>\n      <td>randomize it</td>\n      <td>Verification</td>\n      <td>False</td>\n      <td>Yes</td>\n      <td>49</td>\n    </tr>\n    <tr>\n      <th>20</th>\n      <td>BOB</td>\n      <td>23</td>\n      <td>bob@gmail.com</td>\n      <td>3556890873</td>\n      <td>Male</td>\n      <td>True</td>\n      <td>Answer</td>\n      <td>randomize it</td>\n      <td>Verification</td>\n      <td>False</td>\n      <td>Yes</td>\n      <td>50</td>\n    </tr>\n    <tr>\n      <th>21</th>\n      <td>Lisa</td>\n      <td>34</td>\n      <td>lis@gmail.com</td>\n      <td>8946476235</td>\n      <td>Female</td>\n      <td>True</td>\n      <td>Question</td>\n      <td>generalize it</td>\n      <td>Verification</td>\n      <td>False</td>\n      <td>Yes</td>\n      <td>67</td>\n    </tr>\n    <tr>\n      <th>22</th>\n      <td>Mia Khalifa</td>\n      <td>34</td>\n      <td>mia@gmail.com</td>\n      <td>34566867634</td>\n      <td>Female</td>\n      <td>False</td>\n      <td>Answer</td>\n      <td>randomize it</td>\n      <td>variability</td>\n      <td>False</td>\n      <td>No</td>\n      <td>51</td>\n    </tr>\n    <tr>\n      <th>23</th>\n      <td>Sasha grey</td>\n      <td>29</td>\n      <td>sasgirl@gmail.com</td>\n      <td>574743649</td>\n      <td>Female</td>\n      <td>True</td>\n      <td>Question</td>\n      <td>generalize it</td>\n      <td>Verification</td>\n      <td>False</td>\n      <td>Yes</td>\n      <td>86</td>\n    </tr>\n    <tr>\n      <th>24</th>\n      <td>Ozuna</td>\n      <td>40</td>\n      <td>oz@gmail.com</td>\n      <td>5554443999</td>\n      <td>Male</td>\n      <td>False</td>\n      <td>Answer</td>\n      <td>randomize it</td>\n      <td>variability</td>\n      <td>True</td>\n      <td>Yes</td>\n      <td>141</td>\n    </tr>\n    <tr>\n      <th>25</th>\n      <td>Megan Thee Stallion</td>\n      <td>38</td>\n      <td>megthe@gmail.com</td>\n      <td>99994494433</td>\n      <td>Female</td>\n      <td>False</td>\n      <td>Answer</td>\n      <td>randomize it</td>\n      <td>variability</td>\n      <td>True</td>\n      <td>Yes</td>\n      <td>185</td>\n    </tr>\n    <tr>\n      <th>26</th>\n      <td>J balvin</td>\n      <td>30</td>\n      <td>balvin@gmail.com</td>\n      <td>777886543</td>\n      <td>Male</td>\n      <td>True</td>\n      <td>Question</td>\n      <td>generalize it</td>\n      <td>Verification</td>\n      <td>True</td>\n      <td>Yes</td>\n      <td>131</td>\n    </tr>\n    <tr>\n      <th>28</th>\n      <td>Sean paul</td>\n      <td>43</td>\n      <td>sea@gmail.com</td>\n      <td>23455665778</td>\n      <td>Male</td>\n      <td>True</td>\n      <td>Question</td>\n      <td>randomize it</td>\n      <td>variability</td>\n      <td>True</td>\n      <td>No</td>\n      <td>128</td>\n    </tr>\n    <tr>\n      <th>31</th>\n      <td>Niki Minaj</td>\n      <td>39</td>\n      <td>nikmin@gmail.com</td>\n      <td>5667788990</td>\n      <td>Female</td>\n      <td>True</td>\n      <td>Question</td>\n      <td>generalize it</td>\n      <td>variability</td>\n      <td>False</td>\n      <td>No</td>\n      <td>43</td>\n    </tr>\n    <tr>\n      <th>32</th>\n      <td>Adele</td>\n      <td>44</td>\n      <td>adlelele@gmail.com</td>\n      <td>233445567</td>\n      <td>Female</td>\n      <td>True</td>\n      <td>Answer</td>\n      <td>randomize it</td>\n      <td>variability</td>\n      <td>True</td>\n      <td>Yes</td>\n      <td>31</td>\n    </tr>\n    <tr>\n      <th>33</th>\n      <td>Anshul</td>\n      <td>22</td>\n      <td>ansh@gmail.com</td>\n      <td>8944568553</td>\n      <td>Male</td>\n      <td>True</td>\n      <td>Question</td>\n      <td>randomize it</td>\n      <td>variability</td>\n      <td>False</td>\n      <td>Yes</td>\n      <td>28</td>\n    </tr>\n    <tr>\n      <th>34</th>\n      <td>Chris Evans</td>\n      <td>39</td>\n      <td>chrEv@gmail.com</td>\n      <td>2345657889</td>\n      <td>Male</td>\n      <td>False</td>\n      <td>Answer</td>\n      <td>randomize it</td>\n      <td>Verification</td>\n      <td>True</td>\n      <td>Yes</td>\n      <td>51</td>\n    </tr>\n    <tr>\n      <th>35</th>\n      <td>Scarlett Johanson</td>\n      <td>33</td>\n      <td>ScarJoh@gmail.com</td>\n      <td>3434978239</td>\n      <td>Female</td>\n      <td>True</td>\n      <td>Question</td>\n      <td>randomize it</td>\n      <td>variability</td>\n      <td>False</td>\n      <td>No</td>\n      <td>36</td>\n    </tr>\n    <tr>\n      <th>38</th>\n      <td>Lizzo</td>\n      <td>34</td>\n      <td>lizz@gmail.com</td>\n      <td>3456677898</td>\n      <td>Female</td>\n      <td>False</td>\n      <td>Answer</td>\n      <td>randomize it</td>\n      <td>Verification</td>\n      <td>False</td>\n      <td>Yes</td>\n      <td>89</td>\n    </tr>\n    <tr>\n      <th>40</th>\n      <td>Mitsi Nohara</td>\n      <td>37</td>\n      <td>mitnoh@gmail.com</td>\n      <td>45566778</td>\n      <td>Female</td>\n      <td>True</td>\n      <td>Question</td>\n      <td>generalize it</td>\n      <td>Verification</td>\n      <td>False</td>\n      <td>Yes</td>\n      <td>23</td>\n    </tr>\n    <tr>\n      <th>42</th>\n      <td>Jason Derulo</td>\n      <td>34</td>\n      <td>jason@gmail.com</td>\n      <td>6474874683</td>\n      <td>Male</td>\n      <td>True</td>\n      <td>Question</td>\n      <td>generalize it</td>\n      <td>Verification</td>\n      <td>True</td>\n      <td>Yes</td>\n      <td>55</td>\n    </tr>\n    <tr>\n      <th>43</th>\n      <td>Demi Lovato</td>\n      <td>36</td>\n      <td>demilov@gmail.com</td>\n      <td>4547585667</td>\n      <td>Female</td>\n      <td>True</td>\n      <td>Answer</td>\n      <td>generalize it</td>\n      <td>Verification</td>\n      <td>False</td>\n      <td>No</td>\n      <td>59</td>\n    </tr>\n    <tr>\n      <th>44</th>\n      <td>lil Dicky</td>\n      <td>37</td>\n      <td>lidDik@gmail.com</td>\n      <td>2343456678</td>\n      <td>Male</td>\n      <td>True</td>\n      <td>Answer</td>\n      <td>randomize it</td>\n      <td>Verification</td>\n      <td>True</td>\n      <td>Yes</td>\n      <td>33</td>\n    </tr>\n    <tr>\n      <th>45</th>\n      <td>Amanda Cox</td>\n      <td>23</td>\n      <td>amand@gmail.com</td>\n      <td>43546576</td>\n      <td>Female</td>\n      <td>True</td>\n      <td>Answer</td>\n      <td>randomize it</td>\n      <td>Verification</td>\n      <td>False</td>\n      <td>Yes</td>\n      <td>31</td>\n    </tr>\n    <tr>\n      <th>46</th>\n      <td>Ava Max</td>\n      <td>36</td>\n      <td>ava@gmail.com</td>\n      <td>3456577668</td>\n      <td>Female</td>\n      <td>True</td>\n      <td>Question</td>\n      <td>randomize it</td>\n      <td>variability</td>\n      <td>False</td>\n      <td>Yes</td>\n      <td>27</td>\n    </tr>\n    <tr>\n      <th>47</th>\n      <td>Pragya Dwivedi</td>\n      <td>21</td>\n      <td>pragdw@gmail.com</td>\n      <td>6854433445</td>\n      <td>Female</td>\n      <td>True</td>\n      <td>Question</td>\n      <td>randomize it</td>\n      <td>variability</td>\n      <td>False</td>\n      <td>Yes</td>\n      <td>28</td>\n    </tr>\n    <tr>\n      <th>49</th>\n      <td>Zayn Malik</td>\n      <td>29</td>\n      <td>zaynmal@gmail.com</td>\n      <td>2354567687</td>\n      <td>Male</td>\n      <td>True</td>\n      <td>Question</td>\n      <td>generalize it</td>\n      <td>variability</td>\n      <td>False</td>\n      <td>No</td>\n      <td>30</td>\n    </tr>\n    <tr>\n      <th>50</th>\n      <td>Tom Cruise</td>\n      <td>50</td>\n      <td>tomc@gmail.com</td>\n      <td>555444333</td>\n      <td>Male</td>\n      <td>False</td>\n      <td>Question</td>\n      <td>randomize it</td>\n      <td>Verification</td>\n      <td>False</td>\n      <td>No</td>\n      <td>1003</td>\n    </tr>\n  </tbody>\n</table>\n</div>"
     },
     "execution_count": 5,
     "metadata": {},
     "output_type": "execute_result"
    }
   ],
   "source": [
    "data"
   ]
  },
  {
   "cell_type": "code",
   "execution_count": 6,
   "id": "a23bcff8",
   "metadata": {
    "pycharm": {
     "name": "#%%\n"
    }
   },
   "outputs": [
    {
     "data": {
      "text/plain": "(39, 12)"
     },
     "execution_count": 6,
     "metadata": {},
     "output_type": "execute_result"
    }
   ],
   "source": [
    "data.shape"
   ]
  },
  {
   "cell_type": "code",
   "execution_count": 7,
   "id": "9a04c3db",
   "metadata": {
    "pycharm": {
     "name": "#%%\n"
    }
   },
   "outputs": [],
   "source": [
    "data=data.drop(['User Name','User Email','User Mobile'],axis=1)"
   ]
  },
  {
   "cell_type": "code",
   "execution_count": 8,
   "id": "3d200f89",
   "metadata": {
    "pycharm": {
     "name": "#%%\n"
    }
   },
   "outputs": [
    {
     "data": {
      "text/plain": "    User Age User Gender User Type        Q2             Q3            Q4  \\\n0         21        Male      True  Question  generalize it   variability   \n1         28      Female      True  Question   randomize it   variability   \n4         34        Male     False    Answer   randomize it   variability   \n5         55        Male      True    Answer   randomize it   variability   \n6         32        Male      True    Answer   randomize it   variability   \n7         34      Female     False    Answer   randomize it  Verification   \n8         34        Male     False    Answer   randomize it   variability   \n9         21        Male     False    Answer  generalize it   variability   \n10        21        Male      True  Question  generalize it  Verification   \n12        38        Male      True  Question  generalize it   variability   \n14        30        Male      True    Answer  generalize it  Verification   \n15        25        Male      True  Question   randomize it   variability   \n16        29        Male      True  Question  generalize it  Verification   \n17        34        Male      True    Answer   randomize it   variability   \n18        34        Male      True    Answer   randomize it   variability   \n19        21        Male      True    Answer   randomize it  Verification   \n20        23        Male      True    Answer   randomize it  Verification   \n21        34      Female      True  Question  generalize it  Verification   \n22        34      Female     False    Answer   randomize it   variability   \n23        29      Female      True  Question  generalize it  Verification   \n24        40        Male     False    Answer   randomize it   variability   \n25        38      Female     False    Answer   randomize it   variability   \n26        30        Male      True  Question  generalize it  Verification   \n28        43        Male      True  Question   randomize it   variability   \n31        39      Female      True  Question  generalize it   variability   \n32        44      Female      True    Answer   randomize it   variability   \n33        22        Male      True  Question   randomize it   variability   \n34        39        Male     False    Answer   randomize it  Verification   \n35        33      Female      True  Question   randomize it   variability   \n38        34      Female     False    Answer   randomize it  Verification   \n40        37      Female      True  Question  generalize it  Verification   \n42        34        Male      True  Question  generalize it  Verification   \n43        36      Female      True    Answer  generalize it  Verification   \n44        37        Male      True    Answer   randomize it  Verification   \n45        23      Female      True    Answer   randomize it  Verification   \n46        36      Female      True  Question   randomize it   variability   \n47        21      Female      True  Question   randomize it   variability   \n49        29        Male      True  Question  generalize it   variability   \n50        50        Male     False  Question   randomize it  Verification   \n\n       Q5 Satisfy  Time  \n0    True     Yes   100  \n1   False     Yes    42  \n4   False      No    28  \n5   False     Yes    33  \n6    True     Yes    29  \n7    True     Yes    28  \n8   False     Yes    16  \n9    True     Yes    21  \n10  False     Yes    25  \n12  False      No    35  \n14  False     Yes    30  \n15   True     Yes   126  \n16   True     Yes    27  \n17   True      No    30  \n18  False      No    57  \n19  False     Yes    49  \n20  False     Yes    50  \n21  False     Yes    67  \n22  False      No    51  \n23  False     Yes    86  \n24   True     Yes   141  \n25   True     Yes   185  \n26   True     Yes   131  \n28   True      No   128  \n31  False      No    43  \n32   True     Yes    31  \n33  False     Yes    28  \n34   True     Yes    51  \n35  False      No    36  \n38  False     Yes    89  \n40  False     Yes    23  \n42   True     Yes    55  \n43  False      No    59  \n44   True     Yes    33  \n45  False     Yes    31  \n46  False     Yes    27  \n47  False     Yes    28  \n49  False      No    30  \n50  False      No  1003  ",
      "text/html": "<div>\n<style scoped>\n    .dataframe tbody tr th:only-of-type {\n        vertical-align: middle;\n    }\n\n    .dataframe tbody tr th {\n        vertical-align: top;\n    }\n\n    .dataframe thead th {\n        text-align: right;\n    }\n</style>\n<table border=\"1\" class=\"dataframe\">\n  <thead>\n    <tr style=\"text-align: right;\">\n      <th></th>\n      <th>User Age</th>\n      <th>User Gender</th>\n      <th>User Type</th>\n      <th>Q2</th>\n      <th>Q3</th>\n      <th>Q4</th>\n      <th>Q5</th>\n      <th>Satisfy</th>\n      <th>Time</th>\n    </tr>\n  </thead>\n  <tbody>\n    <tr>\n      <th>0</th>\n      <td>21</td>\n      <td>Male</td>\n      <td>True</td>\n      <td>Question</td>\n      <td>generalize it</td>\n      <td>variability</td>\n      <td>True</td>\n      <td>Yes</td>\n      <td>100</td>\n    </tr>\n    <tr>\n      <th>1</th>\n      <td>28</td>\n      <td>Female</td>\n      <td>True</td>\n      <td>Question</td>\n      <td>randomize it</td>\n      <td>variability</td>\n      <td>False</td>\n      <td>Yes</td>\n      <td>42</td>\n    </tr>\n    <tr>\n      <th>4</th>\n      <td>34</td>\n      <td>Male</td>\n      <td>False</td>\n      <td>Answer</td>\n      <td>randomize it</td>\n      <td>variability</td>\n      <td>False</td>\n      <td>No</td>\n      <td>28</td>\n    </tr>\n    <tr>\n      <th>5</th>\n      <td>55</td>\n      <td>Male</td>\n      <td>True</td>\n      <td>Answer</td>\n      <td>randomize it</td>\n      <td>variability</td>\n      <td>False</td>\n      <td>Yes</td>\n      <td>33</td>\n    </tr>\n    <tr>\n      <th>6</th>\n      <td>32</td>\n      <td>Male</td>\n      <td>True</td>\n      <td>Answer</td>\n      <td>randomize it</td>\n      <td>variability</td>\n      <td>True</td>\n      <td>Yes</td>\n      <td>29</td>\n    </tr>\n    <tr>\n      <th>7</th>\n      <td>34</td>\n      <td>Female</td>\n      <td>False</td>\n      <td>Answer</td>\n      <td>randomize it</td>\n      <td>Verification</td>\n      <td>True</td>\n      <td>Yes</td>\n      <td>28</td>\n    </tr>\n    <tr>\n      <th>8</th>\n      <td>34</td>\n      <td>Male</td>\n      <td>False</td>\n      <td>Answer</td>\n      <td>randomize it</td>\n      <td>variability</td>\n      <td>False</td>\n      <td>Yes</td>\n      <td>16</td>\n    </tr>\n    <tr>\n      <th>9</th>\n      <td>21</td>\n      <td>Male</td>\n      <td>False</td>\n      <td>Answer</td>\n      <td>generalize it</td>\n      <td>variability</td>\n      <td>True</td>\n      <td>Yes</td>\n      <td>21</td>\n    </tr>\n    <tr>\n      <th>10</th>\n      <td>21</td>\n      <td>Male</td>\n      <td>True</td>\n      <td>Question</td>\n      <td>generalize it</td>\n      <td>Verification</td>\n      <td>False</td>\n      <td>Yes</td>\n      <td>25</td>\n    </tr>\n    <tr>\n      <th>12</th>\n      <td>38</td>\n      <td>Male</td>\n      <td>True</td>\n      <td>Question</td>\n      <td>generalize it</td>\n      <td>variability</td>\n      <td>False</td>\n      <td>No</td>\n      <td>35</td>\n    </tr>\n    <tr>\n      <th>14</th>\n      <td>30</td>\n      <td>Male</td>\n      <td>True</td>\n      <td>Answer</td>\n      <td>generalize it</td>\n      <td>Verification</td>\n      <td>False</td>\n      <td>Yes</td>\n      <td>30</td>\n    </tr>\n    <tr>\n      <th>15</th>\n      <td>25</td>\n      <td>Male</td>\n      <td>True</td>\n      <td>Question</td>\n      <td>randomize it</td>\n      <td>variability</td>\n      <td>True</td>\n      <td>Yes</td>\n      <td>126</td>\n    </tr>\n    <tr>\n      <th>16</th>\n      <td>29</td>\n      <td>Male</td>\n      <td>True</td>\n      <td>Question</td>\n      <td>generalize it</td>\n      <td>Verification</td>\n      <td>True</td>\n      <td>Yes</td>\n      <td>27</td>\n    </tr>\n    <tr>\n      <th>17</th>\n      <td>34</td>\n      <td>Male</td>\n      <td>True</td>\n      <td>Answer</td>\n      <td>randomize it</td>\n      <td>variability</td>\n      <td>True</td>\n      <td>No</td>\n      <td>30</td>\n    </tr>\n    <tr>\n      <th>18</th>\n      <td>34</td>\n      <td>Male</td>\n      <td>True</td>\n      <td>Answer</td>\n      <td>randomize it</td>\n      <td>variability</td>\n      <td>False</td>\n      <td>No</td>\n      <td>57</td>\n    </tr>\n    <tr>\n      <th>19</th>\n      <td>21</td>\n      <td>Male</td>\n      <td>True</td>\n      <td>Answer</td>\n      <td>randomize it</td>\n      <td>Verification</td>\n      <td>False</td>\n      <td>Yes</td>\n      <td>49</td>\n    </tr>\n    <tr>\n      <th>20</th>\n      <td>23</td>\n      <td>Male</td>\n      <td>True</td>\n      <td>Answer</td>\n      <td>randomize it</td>\n      <td>Verification</td>\n      <td>False</td>\n      <td>Yes</td>\n      <td>50</td>\n    </tr>\n    <tr>\n      <th>21</th>\n      <td>34</td>\n      <td>Female</td>\n      <td>True</td>\n      <td>Question</td>\n      <td>generalize it</td>\n      <td>Verification</td>\n      <td>False</td>\n      <td>Yes</td>\n      <td>67</td>\n    </tr>\n    <tr>\n      <th>22</th>\n      <td>34</td>\n      <td>Female</td>\n      <td>False</td>\n      <td>Answer</td>\n      <td>randomize it</td>\n      <td>variability</td>\n      <td>False</td>\n      <td>No</td>\n      <td>51</td>\n    </tr>\n    <tr>\n      <th>23</th>\n      <td>29</td>\n      <td>Female</td>\n      <td>True</td>\n      <td>Question</td>\n      <td>generalize it</td>\n      <td>Verification</td>\n      <td>False</td>\n      <td>Yes</td>\n      <td>86</td>\n    </tr>\n    <tr>\n      <th>24</th>\n      <td>40</td>\n      <td>Male</td>\n      <td>False</td>\n      <td>Answer</td>\n      <td>randomize it</td>\n      <td>variability</td>\n      <td>True</td>\n      <td>Yes</td>\n      <td>141</td>\n    </tr>\n    <tr>\n      <th>25</th>\n      <td>38</td>\n      <td>Female</td>\n      <td>False</td>\n      <td>Answer</td>\n      <td>randomize it</td>\n      <td>variability</td>\n      <td>True</td>\n      <td>Yes</td>\n      <td>185</td>\n    </tr>\n    <tr>\n      <th>26</th>\n      <td>30</td>\n      <td>Male</td>\n      <td>True</td>\n      <td>Question</td>\n      <td>generalize it</td>\n      <td>Verification</td>\n      <td>True</td>\n      <td>Yes</td>\n      <td>131</td>\n    </tr>\n    <tr>\n      <th>28</th>\n      <td>43</td>\n      <td>Male</td>\n      <td>True</td>\n      <td>Question</td>\n      <td>randomize it</td>\n      <td>variability</td>\n      <td>True</td>\n      <td>No</td>\n      <td>128</td>\n    </tr>\n    <tr>\n      <th>31</th>\n      <td>39</td>\n      <td>Female</td>\n      <td>True</td>\n      <td>Question</td>\n      <td>generalize it</td>\n      <td>variability</td>\n      <td>False</td>\n      <td>No</td>\n      <td>43</td>\n    </tr>\n    <tr>\n      <th>32</th>\n      <td>44</td>\n      <td>Female</td>\n      <td>True</td>\n      <td>Answer</td>\n      <td>randomize it</td>\n      <td>variability</td>\n      <td>True</td>\n      <td>Yes</td>\n      <td>31</td>\n    </tr>\n    <tr>\n      <th>33</th>\n      <td>22</td>\n      <td>Male</td>\n      <td>True</td>\n      <td>Question</td>\n      <td>randomize it</td>\n      <td>variability</td>\n      <td>False</td>\n      <td>Yes</td>\n      <td>28</td>\n    </tr>\n    <tr>\n      <th>34</th>\n      <td>39</td>\n      <td>Male</td>\n      <td>False</td>\n      <td>Answer</td>\n      <td>randomize it</td>\n      <td>Verification</td>\n      <td>True</td>\n      <td>Yes</td>\n      <td>51</td>\n    </tr>\n    <tr>\n      <th>35</th>\n      <td>33</td>\n      <td>Female</td>\n      <td>True</td>\n      <td>Question</td>\n      <td>randomize it</td>\n      <td>variability</td>\n      <td>False</td>\n      <td>No</td>\n      <td>36</td>\n    </tr>\n    <tr>\n      <th>38</th>\n      <td>34</td>\n      <td>Female</td>\n      <td>False</td>\n      <td>Answer</td>\n      <td>randomize it</td>\n      <td>Verification</td>\n      <td>False</td>\n      <td>Yes</td>\n      <td>89</td>\n    </tr>\n    <tr>\n      <th>40</th>\n      <td>37</td>\n      <td>Female</td>\n      <td>True</td>\n      <td>Question</td>\n      <td>generalize it</td>\n      <td>Verification</td>\n      <td>False</td>\n      <td>Yes</td>\n      <td>23</td>\n    </tr>\n    <tr>\n      <th>42</th>\n      <td>34</td>\n      <td>Male</td>\n      <td>True</td>\n      <td>Question</td>\n      <td>generalize it</td>\n      <td>Verification</td>\n      <td>True</td>\n      <td>Yes</td>\n      <td>55</td>\n    </tr>\n    <tr>\n      <th>43</th>\n      <td>36</td>\n      <td>Female</td>\n      <td>True</td>\n      <td>Answer</td>\n      <td>generalize it</td>\n      <td>Verification</td>\n      <td>False</td>\n      <td>No</td>\n      <td>59</td>\n    </tr>\n    <tr>\n      <th>44</th>\n      <td>37</td>\n      <td>Male</td>\n      <td>True</td>\n      <td>Answer</td>\n      <td>randomize it</td>\n      <td>Verification</td>\n      <td>True</td>\n      <td>Yes</td>\n      <td>33</td>\n    </tr>\n    <tr>\n      <th>45</th>\n      <td>23</td>\n      <td>Female</td>\n      <td>True</td>\n      <td>Answer</td>\n      <td>randomize it</td>\n      <td>Verification</td>\n      <td>False</td>\n      <td>Yes</td>\n      <td>31</td>\n    </tr>\n    <tr>\n      <th>46</th>\n      <td>36</td>\n      <td>Female</td>\n      <td>True</td>\n      <td>Question</td>\n      <td>randomize it</td>\n      <td>variability</td>\n      <td>False</td>\n      <td>Yes</td>\n      <td>27</td>\n    </tr>\n    <tr>\n      <th>47</th>\n      <td>21</td>\n      <td>Female</td>\n      <td>True</td>\n      <td>Question</td>\n      <td>randomize it</td>\n      <td>variability</td>\n      <td>False</td>\n      <td>Yes</td>\n      <td>28</td>\n    </tr>\n    <tr>\n      <th>49</th>\n      <td>29</td>\n      <td>Male</td>\n      <td>True</td>\n      <td>Question</td>\n      <td>generalize it</td>\n      <td>variability</td>\n      <td>False</td>\n      <td>No</td>\n      <td>30</td>\n    </tr>\n    <tr>\n      <th>50</th>\n      <td>50</td>\n      <td>Male</td>\n      <td>False</td>\n      <td>Question</td>\n      <td>randomize it</td>\n      <td>Verification</td>\n      <td>False</td>\n      <td>No</td>\n      <td>1003</td>\n    </tr>\n  </tbody>\n</table>\n</div>"
     },
     "execution_count": 8,
     "metadata": {},
     "output_type": "execute_result"
    }
   ],
   "source": [
    "data"
   ]
  },
  {
   "cell_type": "code",
   "execution_count": 9,
   "id": "27d8ec96",
   "metadata": {
    "pycharm": {
     "name": "#%%\n"
    }
   },
   "outputs": [
    {
     "data": {
      "text/plain": "(39, 9)"
     },
     "execution_count": 9,
     "metadata": {},
     "output_type": "execute_result"
    }
   ],
   "source": [
    "data.shape"
   ]
  },
  {
   "cell_type": "code",
   "execution_count": 10,
   "id": "4c485415",
   "metadata": {
    "pycharm": {
     "name": "#%%\n"
    }
   },
   "outputs": [],
   "source": [
    "x=data.drop(['Time'],axis=1)"
   ]
  },
  {
   "cell_type": "code",
   "execution_count": 11,
   "id": "7b4718bb",
   "metadata": {
    "pycharm": {
     "name": "#%%\n"
    }
   },
   "outputs": [
    {
     "data": {
      "text/plain": "    User Age User Gender User Type        Q2             Q3            Q4  \\\n0         21        Male      True  Question  generalize it   variability   \n1         28      Female      True  Question   randomize it   variability   \n4         34        Male     False    Answer   randomize it   variability   \n5         55        Male      True    Answer   randomize it   variability   \n6         32        Male      True    Answer   randomize it   variability   \n7         34      Female     False    Answer   randomize it  Verification   \n8         34        Male     False    Answer   randomize it   variability   \n9         21        Male     False    Answer  generalize it   variability   \n10        21        Male      True  Question  generalize it  Verification   \n12        38        Male      True  Question  generalize it   variability   \n14        30        Male      True    Answer  generalize it  Verification   \n15        25        Male      True  Question   randomize it   variability   \n16        29        Male      True  Question  generalize it  Verification   \n17        34        Male      True    Answer   randomize it   variability   \n18        34        Male      True    Answer   randomize it   variability   \n19        21        Male      True    Answer   randomize it  Verification   \n20        23        Male      True    Answer   randomize it  Verification   \n21        34      Female      True  Question  generalize it  Verification   \n22        34      Female     False    Answer   randomize it   variability   \n23        29      Female      True  Question  generalize it  Verification   \n24        40        Male     False    Answer   randomize it   variability   \n25        38      Female     False    Answer   randomize it   variability   \n26        30        Male      True  Question  generalize it  Verification   \n28        43        Male      True  Question   randomize it   variability   \n31        39      Female      True  Question  generalize it   variability   \n32        44      Female      True    Answer   randomize it   variability   \n33        22        Male      True  Question   randomize it   variability   \n34        39        Male     False    Answer   randomize it  Verification   \n35        33      Female      True  Question   randomize it   variability   \n38        34      Female     False    Answer   randomize it  Verification   \n40        37      Female      True  Question  generalize it  Verification   \n42        34        Male      True  Question  generalize it  Verification   \n43        36      Female      True    Answer  generalize it  Verification   \n44        37        Male      True    Answer   randomize it  Verification   \n45        23      Female      True    Answer   randomize it  Verification   \n46        36      Female      True  Question   randomize it   variability   \n47        21      Female      True  Question   randomize it   variability   \n49        29        Male      True  Question  generalize it   variability   \n50        50        Male     False  Question   randomize it  Verification   \n\n       Q5 Satisfy  \n0    True     Yes  \n1   False     Yes  \n4   False      No  \n5   False     Yes  \n6    True     Yes  \n7    True     Yes  \n8   False     Yes  \n9    True     Yes  \n10  False     Yes  \n12  False      No  \n14  False     Yes  \n15   True     Yes  \n16   True     Yes  \n17   True      No  \n18  False      No  \n19  False     Yes  \n20  False     Yes  \n21  False     Yes  \n22  False      No  \n23  False     Yes  \n24   True     Yes  \n25   True     Yes  \n26   True     Yes  \n28   True      No  \n31  False      No  \n32   True     Yes  \n33  False     Yes  \n34   True     Yes  \n35  False      No  \n38  False     Yes  \n40  False     Yes  \n42   True     Yes  \n43  False      No  \n44   True     Yes  \n45  False     Yes  \n46  False     Yes  \n47  False     Yes  \n49  False      No  \n50  False      No  ",
      "text/html": "<div>\n<style scoped>\n    .dataframe tbody tr th:only-of-type {\n        vertical-align: middle;\n    }\n\n    .dataframe tbody tr th {\n        vertical-align: top;\n    }\n\n    .dataframe thead th {\n        text-align: right;\n    }\n</style>\n<table border=\"1\" class=\"dataframe\">\n  <thead>\n    <tr style=\"text-align: right;\">\n      <th></th>\n      <th>User Age</th>\n      <th>User Gender</th>\n      <th>User Type</th>\n      <th>Q2</th>\n      <th>Q3</th>\n      <th>Q4</th>\n      <th>Q5</th>\n      <th>Satisfy</th>\n    </tr>\n  </thead>\n  <tbody>\n    <tr>\n      <th>0</th>\n      <td>21</td>\n      <td>Male</td>\n      <td>True</td>\n      <td>Question</td>\n      <td>generalize it</td>\n      <td>variability</td>\n      <td>True</td>\n      <td>Yes</td>\n    </tr>\n    <tr>\n      <th>1</th>\n      <td>28</td>\n      <td>Female</td>\n      <td>True</td>\n      <td>Question</td>\n      <td>randomize it</td>\n      <td>variability</td>\n      <td>False</td>\n      <td>Yes</td>\n    </tr>\n    <tr>\n      <th>4</th>\n      <td>34</td>\n      <td>Male</td>\n      <td>False</td>\n      <td>Answer</td>\n      <td>randomize it</td>\n      <td>variability</td>\n      <td>False</td>\n      <td>No</td>\n    </tr>\n    <tr>\n      <th>5</th>\n      <td>55</td>\n      <td>Male</td>\n      <td>True</td>\n      <td>Answer</td>\n      <td>randomize it</td>\n      <td>variability</td>\n      <td>False</td>\n      <td>Yes</td>\n    </tr>\n    <tr>\n      <th>6</th>\n      <td>32</td>\n      <td>Male</td>\n      <td>True</td>\n      <td>Answer</td>\n      <td>randomize it</td>\n      <td>variability</td>\n      <td>True</td>\n      <td>Yes</td>\n    </tr>\n    <tr>\n      <th>7</th>\n      <td>34</td>\n      <td>Female</td>\n      <td>False</td>\n      <td>Answer</td>\n      <td>randomize it</td>\n      <td>Verification</td>\n      <td>True</td>\n      <td>Yes</td>\n    </tr>\n    <tr>\n      <th>8</th>\n      <td>34</td>\n      <td>Male</td>\n      <td>False</td>\n      <td>Answer</td>\n      <td>randomize it</td>\n      <td>variability</td>\n      <td>False</td>\n      <td>Yes</td>\n    </tr>\n    <tr>\n      <th>9</th>\n      <td>21</td>\n      <td>Male</td>\n      <td>False</td>\n      <td>Answer</td>\n      <td>generalize it</td>\n      <td>variability</td>\n      <td>True</td>\n      <td>Yes</td>\n    </tr>\n    <tr>\n      <th>10</th>\n      <td>21</td>\n      <td>Male</td>\n      <td>True</td>\n      <td>Question</td>\n      <td>generalize it</td>\n      <td>Verification</td>\n      <td>False</td>\n      <td>Yes</td>\n    </tr>\n    <tr>\n      <th>12</th>\n      <td>38</td>\n      <td>Male</td>\n      <td>True</td>\n      <td>Question</td>\n      <td>generalize it</td>\n      <td>variability</td>\n      <td>False</td>\n      <td>No</td>\n    </tr>\n    <tr>\n      <th>14</th>\n      <td>30</td>\n      <td>Male</td>\n      <td>True</td>\n      <td>Answer</td>\n      <td>generalize it</td>\n      <td>Verification</td>\n      <td>False</td>\n      <td>Yes</td>\n    </tr>\n    <tr>\n      <th>15</th>\n      <td>25</td>\n      <td>Male</td>\n      <td>True</td>\n      <td>Question</td>\n      <td>randomize it</td>\n      <td>variability</td>\n      <td>True</td>\n      <td>Yes</td>\n    </tr>\n    <tr>\n      <th>16</th>\n      <td>29</td>\n      <td>Male</td>\n      <td>True</td>\n      <td>Question</td>\n      <td>generalize it</td>\n      <td>Verification</td>\n      <td>True</td>\n      <td>Yes</td>\n    </tr>\n    <tr>\n      <th>17</th>\n      <td>34</td>\n      <td>Male</td>\n      <td>True</td>\n      <td>Answer</td>\n      <td>randomize it</td>\n      <td>variability</td>\n      <td>True</td>\n      <td>No</td>\n    </tr>\n    <tr>\n      <th>18</th>\n      <td>34</td>\n      <td>Male</td>\n      <td>True</td>\n      <td>Answer</td>\n      <td>randomize it</td>\n      <td>variability</td>\n      <td>False</td>\n      <td>No</td>\n    </tr>\n    <tr>\n      <th>19</th>\n      <td>21</td>\n      <td>Male</td>\n      <td>True</td>\n      <td>Answer</td>\n      <td>randomize it</td>\n      <td>Verification</td>\n      <td>False</td>\n      <td>Yes</td>\n    </tr>\n    <tr>\n      <th>20</th>\n      <td>23</td>\n      <td>Male</td>\n      <td>True</td>\n      <td>Answer</td>\n      <td>randomize it</td>\n      <td>Verification</td>\n      <td>False</td>\n      <td>Yes</td>\n    </tr>\n    <tr>\n      <th>21</th>\n      <td>34</td>\n      <td>Female</td>\n      <td>True</td>\n      <td>Question</td>\n      <td>generalize it</td>\n      <td>Verification</td>\n      <td>False</td>\n      <td>Yes</td>\n    </tr>\n    <tr>\n      <th>22</th>\n      <td>34</td>\n      <td>Female</td>\n      <td>False</td>\n      <td>Answer</td>\n      <td>randomize it</td>\n      <td>variability</td>\n      <td>False</td>\n      <td>No</td>\n    </tr>\n    <tr>\n      <th>23</th>\n      <td>29</td>\n      <td>Female</td>\n      <td>True</td>\n      <td>Question</td>\n      <td>generalize it</td>\n      <td>Verification</td>\n      <td>False</td>\n      <td>Yes</td>\n    </tr>\n    <tr>\n      <th>24</th>\n      <td>40</td>\n      <td>Male</td>\n      <td>False</td>\n      <td>Answer</td>\n      <td>randomize it</td>\n      <td>variability</td>\n      <td>True</td>\n      <td>Yes</td>\n    </tr>\n    <tr>\n      <th>25</th>\n      <td>38</td>\n      <td>Female</td>\n      <td>False</td>\n      <td>Answer</td>\n      <td>randomize it</td>\n      <td>variability</td>\n      <td>True</td>\n      <td>Yes</td>\n    </tr>\n    <tr>\n      <th>26</th>\n      <td>30</td>\n      <td>Male</td>\n      <td>True</td>\n      <td>Question</td>\n      <td>generalize it</td>\n      <td>Verification</td>\n      <td>True</td>\n      <td>Yes</td>\n    </tr>\n    <tr>\n      <th>28</th>\n      <td>43</td>\n      <td>Male</td>\n      <td>True</td>\n      <td>Question</td>\n      <td>randomize it</td>\n      <td>variability</td>\n      <td>True</td>\n      <td>No</td>\n    </tr>\n    <tr>\n      <th>31</th>\n      <td>39</td>\n      <td>Female</td>\n      <td>True</td>\n      <td>Question</td>\n      <td>generalize it</td>\n      <td>variability</td>\n      <td>False</td>\n      <td>No</td>\n    </tr>\n    <tr>\n      <th>32</th>\n      <td>44</td>\n      <td>Female</td>\n      <td>True</td>\n      <td>Answer</td>\n      <td>randomize it</td>\n      <td>variability</td>\n      <td>True</td>\n      <td>Yes</td>\n    </tr>\n    <tr>\n      <th>33</th>\n      <td>22</td>\n      <td>Male</td>\n      <td>True</td>\n      <td>Question</td>\n      <td>randomize it</td>\n      <td>variability</td>\n      <td>False</td>\n      <td>Yes</td>\n    </tr>\n    <tr>\n      <th>34</th>\n      <td>39</td>\n      <td>Male</td>\n      <td>False</td>\n      <td>Answer</td>\n      <td>randomize it</td>\n      <td>Verification</td>\n      <td>True</td>\n      <td>Yes</td>\n    </tr>\n    <tr>\n      <th>35</th>\n      <td>33</td>\n      <td>Female</td>\n      <td>True</td>\n      <td>Question</td>\n      <td>randomize it</td>\n      <td>variability</td>\n      <td>False</td>\n      <td>No</td>\n    </tr>\n    <tr>\n      <th>38</th>\n      <td>34</td>\n      <td>Female</td>\n      <td>False</td>\n      <td>Answer</td>\n      <td>randomize it</td>\n      <td>Verification</td>\n      <td>False</td>\n      <td>Yes</td>\n    </tr>\n    <tr>\n      <th>40</th>\n      <td>37</td>\n      <td>Female</td>\n      <td>True</td>\n      <td>Question</td>\n      <td>generalize it</td>\n      <td>Verification</td>\n      <td>False</td>\n      <td>Yes</td>\n    </tr>\n    <tr>\n      <th>42</th>\n      <td>34</td>\n      <td>Male</td>\n      <td>True</td>\n      <td>Question</td>\n      <td>generalize it</td>\n      <td>Verification</td>\n      <td>True</td>\n      <td>Yes</td>\n    </tr>\n    <tr>\n      <th>43</th>\n      <td>36</td>\n      <td>Female</td>\n      <td>True</td>\n      <td>Answer</td>\n      <td>generalize it</td>\n      <td>Verification</td>\n      <td>False</td>\n      <td>No</td>\n    </tr>\n    <tr>\n      <th>44</th>\n      <td>37</td>\n      <td>Male</td>\n      <td>True</td>\n      <td>Answer</td>\n      <td>randomize it</td>\n      <td>Verification</td>\n      <td>True</td>\n      <td>Yes</td>\n    </tr>\n    <tr>\n      <th>45</th>\n      <td>23</td>\n      <td>Female</td>\n      <td>True</td>\n      <td>Answer</td>\n      <td>randomize it</td>\n      <td>Verification</td>\n      <td>False</td>\n      <td>Yes</td>\n    </tr>\n    <tr>\n      <th>46</th>\n      <td>36</td>\n      <td>Female</td>\n      <td>True</td>\n      <td>Question</td>\n      <td>randomize it</td>\n      <td>variability</td>\n      <td>False</td>\n      <td>Yes</td>\n    </tr>\n    <tr>\n      <th>47</th>\n      <td>21</td>\n      <td>Female</td>\n      <td>True</td>\n      <td>Question</td>\n      <td>randomize it</td>\n      <td>variability</td>\n      <td>False</td>\n      <td>Yes</td>\n    </tr>\n    <tr>\n      <th>49</th>\n      <td>29</td>\n      <td>Male</td>\n      <td>True</td>\n      <td>Question</td>\n      <td>generalize it</td>\n      <td>variability</td>\n      <td>False</td>\n      <td>No</td>\n    </tr>\n    <tr>\n      <th>50</th>\n      <td>50</td>\n      <td>Male</td>\n      <td>False</td>\n      <td>Question</td>\n      <td>randomize it</td>\n      <td>Verification</td>\n      <td>False</td>\n      <td>No</td>\n    </tr>\n  </tbody>\n</table>\n</div>"
     },
     "execution_count": 11,
     "metadata": {},
     "output_type": "execute_result"
    }
   ],
   "source": [
    "x"
   ]
  },
  {
   "cell_type": "code",
   "execution_count": 12,
   "id": "4fd4962b",
   "metadata": {
    "pycharm": {
     "name": "#%%\n"
    }
   },
   "outputs": [],
   "source": [
    "y=data.iloc[:,0]"
   ]
  },
  {
   "cell_type": "code",
   "execution_count": 13,
   "id": "0f5adad7",
   "metadata": {
    "pycharm": {
     "name": "#%%\n"
    }
   },
   "outputs": [
    {
     "data": {
      "text/plain": "0     21\n1     28\n4     34\n5     55\n6     32\n7     34\n8     34\n9     21\n10    21\n12    38\n14    30\n15    25\n16    29\n17    34\n18    34\n19    21\n20    23\n21    34\n22    34\n23    29\n24    40\n25    38\n26    30\n28    43\n31    39\n32    44\n33    22\n34    39\n35    33\n38    34\n40    37\n42    34\n43    36\n44    37\n45    23\n46    36\n47    21\n49    29\n50    50\nName: User Age, dtype: int64"
     },
     "execution_count": 13,
     "metadata": {},
     "output_type": "execute_result"
    }
   ],
   "source": [
    "y"
   ]
  },
  {
   "cell_type": "code",
   "execution_count": 14,
   "id": "d71ddf0b",
   "metadata": {
    "pycharm": {
     "name": "#%%\n"
    }
   },
   "outputs": [
    {
     "name": "stdout",
     "output_type": "stream",
     "text": [
      "    User Age  User Gender  User Type  Q2  Q3  Q4  Q5  Satisfy\n",
      "0         21            1          1   1   0   1   1        1\n",
      "1         28            0          1   1   1   1   0        1\n",
      "4         34            1          0   0   1   1   0        0\n",
      "5         55            1          1   0   1   1   0        1\n",
      "6         32            1          1   0   1   1   1        1\n",
      "7         34            0          0   0   1   0   1        1\n",
      "8         34            1          0   0   1   1   0        1\n",
      "9         21            1          0   0   0   1   1        1\n",
      "10        21            1          1   1   0   0   0        1\n",
      "12        38            1          1   1   0   1   0        0\n",
      "14        30            1          1   0   0   0   0        1\n",
      "15        25            1          1   1   1   1   1        1\n",
      "16        29            1          1   1   0   0   1        1\n",
      "17        34            1          1   0   1   1   1        0\n",
      "18        34            1          1   0   1   1   0        0\n",
      "19        21            1          1   0   1   0   0        1\n",
      "20        23            1          1   0   1   0   0        1\n",
      "21        34            0          1   1   0   0   0        1\n",
      "22        34            0          0   0   1   1   0        0\n",
      "23        29            0          1   1   0   0   0        1\n",
      "24        40            1          0   0   1   1   1        1\n",
      "25        38            0          0   0   1   1   1        1\n",
      "26        30            1          1   1   0   0   1        1\n",
      "28        43            1          1   1   1   1   1        0\n",
      "31        39            0          1   1   0   1   0        0\n",
      "32        44            0          1   0   1   1   1        1\n",
      "33        22            1          1   1   1   1   0        1\n",
      "34        39            1          0   0   1   0   1        1\n",
      "35        33            0          1   1   1   1   0        0\n",
      "38        34            0          0   0   1   0   0        1\n",
      "40        37            0          1   1   0   0   0        1\n",
      "42        34            1          1   1   0   0   1        1\n",
      "43        36            0          1   0   0   0   0        0\n",
      "44        37            1          1   0   1   0   1        1\n",
      "45        23            0          1   0   1   0   0        1\n",
      "46        36            0          1   1   1   1   0        1\n",
      "47        21            0          1   1   1   1   0        1\n",
      "49        29            1          1   1   0   1   0        0\n",
      "50        50            1          0   1   1   0   0        0\n"
     ]
    }
   ],
   "source": [
    "from sklearn import preprocessing\n",
    "# label_encoder object knows how to understand word labels. \n",
    "label_encoder = preprocessing.LabelEncoder()\n",
    "# Encode labels in column 'Country'. \n",
    "x['User Gender']= label_encoder.fit_transform(x['User Gender'])\n",
    "x['User Type']= label_encoder.fit_transform(x['User Type'])\n",
    "x['Q2']= label_encoder.fit_transform(x['Q2'])\n",
    "x['Q3']= label_encoder.fit_transform(x['Q3'])\n",
    "x['Q4']= label_encoder.fit_transform(x['Q4'])\n",
    "x['Q5']= label_encoder.fit_transform(x['Q5'])\n",
    "x['Satisfy']= label_encoder.fit_transform(x['Satisfy'])\n",
    "print(x)"
   ]
  },
  {
   "cell_type": "code",
   "execution_count": 14,
   "id": "676a0ecc",
   "metadata": {
    "pycharm": {
     "name": "#%%\n"
    }
   },
   "outputs": [],
   "source": []
  },
  {
   "cell_type": "code",
   "execution_count": 15,
   "id": "06e57b60",
   "metadata": {
    "pycharm": {
     "name": "#%%\n"
    }
   },
   "outputs": [],
   "source": [
    "import pandas as pd\n",
    "import numpy as np\n",
    "import matplotlib.pyplot as plt\n",
    "from sklearn import model_selection\n",
    "from sklearn.metrics import accuracy_score\n",
    "from sklearn.linear_model import LogisticRegression\n",
    "from sklearn.linear_model import LinearRegression\n",
    "from sklearn.ensemble import RandomForestClassifier\n",
    "from sklearn.neighbors import KNeighborsClassifier,KNeighborsRegressor\n",
    "from sklearn.svm import SVC\n",
    "from sklearn.tree import DecisionTreeClassifier, export_graphviz"
   ]
  },
  {
   "cell_type": "code",
   "execution_count": 16,
   "id": "f9e90db0",
   "metadata": {
    "pycharm": {
     "name": "#%%\n"
    }
   },
   "outputs": [
    {
     "name": "stdout",
     "output_type": "stream",
     "text": [
      "0.375\n"
     ]
    }
   ],
   "source": [
    "x_train, x_test, y_train, y_test = model_selection.train_test_split(x, y, test_size=0.2, random_state=7)\n",
    "#test 0.2 20%testing , random se koi 80 train koi 20 test\n",
    "model = LogisticRegression(solver='lbfgs', max_iter=8000)\n",
    "model.fit(x_train,y_train)\n",
    "predictions = model.predict(x_test)\n",
    "print(accuracy_score(y_test, predictions))"
   ]
  },
  {
   "cell_type": "code",
   "execution_count": 17,
   "id": "6e3fc95a",
   "metadata": {
    "pycharm": {
     "name": "#%%\n"
    }
   },
   "outputs": [
    {
     "data": {
      "text/plain": "KNeighborsRegressor(algorithm='brute', n_neighbors=3, weights='distance')"
     },
     "execution_count": 17,
     "metadata": {},
     "output_type": "execute_result"
    }
   ],
   "source": [
    "x_train, x_test, y_train, y_test = model_selection.train_test_split(x, y, test_size=0.2, random_state=7)\n",
    "knn_regressor = KNeighborsRegressor(n_neighbors=3,algorithm=\"brute\",weights=\"distance\")\n",
    "knn_regressor.fit(x_train,y_train)"
   ]
  },
  {
   "cell_type": "code",
   "execution_count": 18,
   "id": "b8d42275",
   "metadata": {
    "pycharm": {
     "name": "#%%\n"
    }
   },
   "outputs": [
    {
     "name": "stdout",
     "output_type": "stream",
     "text": [
      "(31, 8) (8, 8)\n"
     ]
    }
   ],
   "source": [
    "print(x_train.shape, x_test.shape)"
   ]
  },
  {
   "cell_type": "code",
   "execution_count": 19,
   "id": "66dabcd6",
   "metadata": {
    "pycharm": {
     "name": "#%%\n"
    }
   },
   "outputs": [
    {
     "data": {
      "text/plain": "MinMaxScaler()"
     },
     "execution_count": 19,
     "metadata": {},
     "output_type": "execute_result"
    }
   ],
   "source": [
    "from sklearn.preprocessing import MinMaxScaler\n",
    "scaler = MinMaxScaler(feature_range=(0,1))\n",
    "\n",
    "scaler.fit(x_train)"
   ]
  },
  {
   "cell_type": "code",
   "execution_count": 20,
   "id": "40ae8cc8",
   "metadata": {
    "pycharm": {
     "name": "#%%\n"
    }
   },
   "outputs": [],
   "source": [
    "scaled_train_x = pd.DataFrame(scaler.transform(x_train))\n",
    "scaled_test_x = pd.DataFrame(scaler.transform(x_test))"
   ]
  },
  {
   "cell_type": "code",
   "execution_count": 21,
   "id": "c635ed8a",
   "metadata": {
    "pycharm": {
     "name": "#%%\n"
    }
   },
   "outputs": [
    {
     "data": {
      "text/plain": "          0    1    2    3    4    5    6    7\n0  0.500000  0.0  0.0  0.0  1.0  1.0  1.0  1.0\n1  0.205882  0.0  1.0  1.0  1.0  1.0  0.0  1.0\n2  0.264706  1.0  1.0  1.0  0.0  0.0  1.0  1.0\n3  0.382353  1.0  0.0  0.0  1.0  1.0  0.0  0.0\n4  0.500000  1.0  1.0  1.0  0.0  1.0  0.0  0.0\n5  0.529412  1.0  0.0  0.0  1.0  0.0  1.0  1.0\n6  0.000000  1.0  1.0  0.0  1.0  0.0  0.0  1.0\n7  0.382353  0.0  0.0  0.0  1.0  1.0  0.0  0.0",
      "text/html": "<div>\n<style scoped>\n    .dataframe tbody tr th:only-of-type {\n        vertical-align: middle;\n    }\n\n    .dataframe tbody tr th {\n        vertical-align: top;\n    }\n\n    .dataframe thead th {\n        text-align: right;\n    }\n</style>\n<table border=\"1\" class=\"dataframe\">\n  <thead>\n    <tr style=\"text-align: right;\">\n      <th></th>\n      <th>0</th>\n      <th>1</th>\n      <th>2</th>\n      <th>3</th>\n      <th>4</th>\n      <th>5</th>\n      <th>6</th>\n      <th>7</th>\n    </tr>\n  </thead>\n  <tbody>\n    <tr>\n      <th>0</th>\n      <td>0.500000</td>\n      <td>0.0</td>\n      <td>0.0</td>\n      <td>0.0</td>\n      <td>1.0</td>\n      <td>1.0</td>\n      <td>1.0</td>\n      <td>1.0</td>\n    </tr>\n    <tr>\n      <th>1</th>\n      <td>0.205882</td>\n      <td>0.0</td>\n      <td>1.0</td>\n      <td>1.0</td>\n      <td>1.0</td>\n      <td>1.0</td>\n      <td>0.0</td>\n      <td>1.0</td>\n    </tr>\n    <tr>\n      <th>2</th>\n      <td>0.264706</td>\n      <td>1.0</td>\n      <td>1.0</td>\n      <td>1.0</td>\n      <td>0.0</td>\n      <td>0.0</td>\n      <td>1.0</td>\n      <td>1.0</td>\n    </tr>\n    <tr>\n      <th>3</th>\n      <td>0.382353</td>\n      <td>1.0</td>\n      <td>0.0</td>\n      <td>0.0</td>\n      <td>1.0</td>\n      <td>1.0</td>\n      <td>0.0</td>\n      <td>0.0</td>\n    </tr>\n    <tr>\n      <th>4</th>\n      <td>0.500000</td>\n      <td>1.0</td>\n      <td>1.0</td>\n      <td>1.0</td>\n      <td>0.0</td>\n      <td>1.0</td>\n      <td>0.0</td>\n      <td>0.0</td>\n    </tr>\n    <tr>\n      <th>5</th>\n      <td>0.529412</td>\n      <td>1.0</td>\n      <td>0.0</td>\n      <td>0.0</td>\n      <td>1.0</td>\n      <td>0.0</td>\n      <td>1.0</td>\n      <td>1.0</td>\n    </tr>\n    <tr>\n      <th>6</th>\n      <td>0.000000</td>\n      <td>1.0</td>\n      <td>1.0</td>\n      <td>0.0</td>\n      <td>1.0</td>\n      <td>0.0</td>\n      <td>0.0</td>\n      <td>1.0</td>\n    </tr>\n    <tr>\n      <th>7</th>\n      <td>0.382353</td>\n      <td>0.0</td>\n      <td>0.0</td>\n      <td>0.0</td>\n      <td>1.0</td>\n      <td>1.0</td>\n      <td>0.0</td>\n      <td>0.0</td>\n    </tr>\n  </tbody>\n</table>\n</div>"
     },
     "execution_count": 21,
     "metadata": {},
     "output_type": "execute_result"
    }
   ],
   "source": [
    "scaled_test_x"
   ]
  },
  {
   "cell_type": "code",
   "execution_count": 22,
   "id": "1c091615",
   "metadata": {
    "pycharm": {
     "name": "#%%\n"
    }
   },
   "outputs": [
    {
     "data": {
      "text/plain": "KNeighborsRegressor(algorithm='brute', n_neighbors=3, weights='distance')"
     },
     "execution_count": 22,
     "metadata": {},
     "output_type": "execute_result"
    }
   ],
   "source": [
    "knn_regressor = KNeighborsRegressor(n_neighbors=3,algorithm=\"brute\",weights=\"distance\")\n",
    "knn_regressor.fit(scaled_train_x, y_train)"
   ]
  },
  {
   "cell_type": "code",
   "execution_count": 23,
   "id": "1eafd8a0",
   "metadata": {
    "pycharm": {
     "name": "#%%\n"
    }
   },
   "outputs": [
    {
     "data": {
      "text/plain": "array([34., 40., 34., 34., 34., 37., 36., 21., 34., 25., 21., 29., 39.,\n       23., 50., 34., 21., 37., 22., 30., 36., 29., 21., 23., 34., 33.,\n       43., 29., 55., 44., 32.])"
     },
     "execution_count": 23,
     "metadata": {},
     "output_type": "execute_result"
    }
   ],
   "source": [
    "train_pred = knn_regressor.predict(scaled_train_x)\n",
    "test_pred = knn_regressor.predict(scaled_test_x)\n",
    "\n",
    "\n",
    "train_pred"
   ]
  },
  {
   "cell_type": "code",
   "execution_count": 24,
   "id": "90483e80",
   "metadata": {
    "pycharm": {
     "name": "#%%\n"
    }
   },
   "outputs": [
    {
     "name": "stdout",
     "output_type": "stream",
     "text": [
      "0.0\n",
      "6.779001693162699\n"
     ]
    }
   ],
   "source": [
    "from sklearn.metrics import mean_squared_error\n",
    "\n",
    "print(mean_squared_error(y_train,train_pred))\n",
    "print(mean_squared_error(y_test,test_pred))"
   ]
  },
  {
   "cell_type": "code",
   "execution_count": 25,
   "id": "cd0c3ee3",
   "metadata": {
    "pycharm": {
     "name": "#%%\n"
    }
   },
   "outputs": [],
   "source": [
    "import pickle"
   ]
  },
  {
   "cell_type": "code",
   "execution_count": 26,
   "id": "bc2e53cb",
   "metadata": {
    "pycharm": {
     "name": "#%%\n"
    }
   },
   "outputs": [],
   "source": [
    "saved_model = pickle.dumps(knn_regressor)"
   ]
  },
  {
   "cell_type": "code",
   "execution_count": 27,
   "id": "9d8c271a",
   "metadata": {
    "pycharm": {
     "name": "#%%\n"
    }
   },
   "outputs": [],
   "source": [
    "knn_from_pickle = pickle.loads(saved_model)"
   ]
  },
  {
   "cell_type": "code",
   "execution_count": 28,
   "id": "df83fb69",
   "metadata": {
    "pycharm": {
     "name": "#%%\n"
    }
   },
   "outputs": [],
   "source": [
    "with open('file.pkl', 'wb') as file:\n",
    "      \n",
    "    # A new file will be created\n",
    "    pickle.dump(knn_regressor, file)"
   ]
  },
  {
   "cell_type": "code",
   "execution_count": 30,
   "id": "cec2f86c",
   "metadata": {
    "pycharm": {
     "name": "#%%\n"
    }
   },
   "outputs": [],
   "source": [
    "file = open(\"file.pkl\",'rb')"
   ]
  },
  {
   "cell_type": "code",
   "execution_count": 31,
   "id": "a1d9d00a",
   "metadata": {
    "pycharm": {
     "name": "#%%\n"
    }
   },
   "outputs": [
    {
     "data": {
      "text/plain": "array([31.46607005])"
     },
     "execution_count": 31,
     "metadata": {},
     "output_type": "execute_result"
    }
   ],
   "source": [
    "import numpy as np\n",
    "pickled_model = pickle.load(open('file.pkl', 'rb'))\n",
    "pre= np.array([[0.5000,1.0,1.0,1.0,0.0,1.0,0.0,0.0]])\n",
    "pickled_model.predict(pre)"
   ]
  },
  {
   "cell_type": "code",
   "execution_count": null,
   "id": "f85a187c",
   "metadata": {
    "pycharm": {
     "name": "#%%\n"
    }
   },
   "outputs": [],
   "source": []
  }
 ],
 "metadata": {
  "kernelspec": {
   "display_name": "Python 3 (ipykernel)",
   "language": "python",
   "name": "python3"
  },
  "language_info": {
   "codemirror_mode": {
    "name": "ipython",
    "version": 3
   },
   "file_extension": ".py",
   "mimetype": "text/x-python",
   "name": "python",
   "nbconvert_exporter": "python",
   "pygments_lexer": "ipython3",
   "version": "3.9.5"
  }
 },
 "nbformat": 4,
 "nbformat_minor": 5
}