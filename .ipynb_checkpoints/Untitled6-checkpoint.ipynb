{
 "cells": [
  {
   "cell_type": "code",
   "execution_count": 1,
   "id": "2d4d81c5",
   "metadata": {
    "pycharm": {
     "name": "#%%\n"
    }
   },
   "outputs": [],
   "source": [
    "import numpy as np\n",
    "import pandas as pd\n",
    "import matplotlib.pyplot as plt"
   ]
  },
  {
   "cell_type": "code",
   "execution_count": 2,
   "id": "ac786221",
   "metadata": {
    "pycharm": {
     "name": "#%%\n"
    }
   },
   "outputs": [],
   "source": [
    "data=pd.read_csv(r\"C:/Users/asanv/PycharmProjects/Exa_Time_Predict/file.csv\")"
   ]
  },
  {
   "cell_type": "code",
   "execution_count": 3,
   "id": "b0896b43",
   "metadata": {
    "pycharm": {
     "name": "#%%\n"
    }
   },
   "outputs": [
    {
     "data": {
      "text/plain": "              User Name  User Age             User Email   User Mobile  \\\n0      Akshat Sanvaliya        21  asanvaliya1@gmail.com  8.962319e+09   \n1          Selena Gomez        28    sselena22@gmail.com  5.554443e+11   \n2                  Jade        29         asdf@gmail.com  5.678965e+08   \n3                 Tulsi        21        tulsi@gmail.com  8.967245e+09   \n4          Harry Styles        34   adjaoidhoi@gmail.com  3.445567e+10   \n5   Robert Downy Junior        55      robeert@gmail.com  2.334565e+11   \n6             Spongebob        32     sdhsirhu@gmail.com  3.455677e+10   \n7                  abcd        34  heuidiubicb@gmail.com  5.667575e+06   \n8                asfsfg        34               gdfgdbdb  6.567567e+08   \n9                Gaurav        21       gaurav@gmail.com  4.546577e+10   \n10                Ayush        21  ajdiohcfuih@gmail.com  3.445568e+09   \n11             rita ora        34     sdfnrfiu@gmail.com  2.343455e+08   \n12          Post Malone        38         post@gmail.com  3.454568e+11   \n13            Lil Nas X        34          lil@gmail.com  4.546468e+10   \n14          Jack harlow        30         jack@gmail.com  3.456577e+09   \n15      Marcus Halloway        25    marcusXXX@gmail.com  8.863475e+11   \n16         Aiden Pierce        29        aiden@gmail.com  4.554757e+10   \n17               Justin        34          jus@gmail.com  3.464868e+07   \n18               Austin        34      austin 2GMAIL.COM  3.443647e+09   \n19                Alley        21        alley@gmail.com  2.344658e+10   \n20                  BOB        23          bob@gmail.com  3.556891e+09   \n21                 Lisa        34          lis@gmail.com  8.946476e+09   \n22          Mia Khalifa        34          mia@gmail.com  3.456687e+10   \n23           Sasha grey        29      sasgirl@gmail.com  5.747436e+08   \n24                Ozuna        40           oz@gmail.com  5.554444e+09   \n25  Megan Thee Stallion        38       megthe@gmail.com  9.999449e+10   \n26             J balvin        30       balvin@gmail.com  7.778865e+08   \n27      Jesse Eisenberg        22       jesse1@gmail.com  2.345678e+09   \n28            Sean paul        43          sea@gmail.com  2.345567e+10   \n29            Aidra Fox        26         aidr@gmail.com  3.456788e+08   \n30          Ben Tenison        17        ben10@gmail.com  4.556789e+08   \n31           Niki Minaj        39       nikmin@gmail.com  5.667789e+09   \n32                Adele        44     adlelele@gmail.com  2.334456e+08   \n33               Anshul        22         ansh@gmail.com  8.944569e+09   \n34          Chris Evans        39        chrEv@gmail.com  2.345658e+09   \n35    Scarlett Johanson        33      ScarJoh@gmail.com  3.434978e+09   \n36            Aishwarya        21          ais@gmail.com  4.354768e+09   \n37         Taylor Swift        28  taytayswift@gmail.com  3.445568e+08   \n38                Lizzo        34         lizz@gmail.com  3.456678e+09   \n39             Shinchan         5         shin@gmail.com  5.656678e+10   \n40         Mitsi Nohara        37       mitnoh@gmail.com  4.556678e+07   \n41         Harry Nohara        40       harnoh@gmail.com  3.466768e+08   \n42         Jason Derulo        34        jason@gmail.com  6.474875e+09   \n43          Demi Lovato        36      demilov@gmail.com  4.547586e+09   \n44            lil Dicky        37       lidDik@gmail.com  2.343457e+09   \n45           Amanda Cox        23        amand@gmail.com  4.354658e+07   \n46              Ava Max        36          ava@gmail.com  3.456578e+09   \n47       Pragya Dwivedi        21       pragdw@gmail.com  6.854433e+09   \n48      Elizabeth Olsen        38        Eliol@gmail.com  3.445468e+08   \n49           Zayn Malik        29      zaynmal@gmail.com  2.354568e+09   \n50        XXX Tentacion        29        tenta@gmail.com           NaN   \n51           Tom Cruise        50         tomc@gmail.com  5.554443e+08   \n\n   User Gender User Type        Q2             Q3            Q4     Q5  \\\n0         Male      True  Question  generalize it   variability   True   \n1       Female      True  Question   randomize it   variability  False   \n2       Female       NaN  Question  generalize it  Verification   True   \n3       Female      True  Question  generalize it   variability    NaN   \n4         Male     False    Answer   randomize it   variability  False   \n5         Male      True    Answer   randomize it   variability  False   \n6         Male      True    Answer   randomize it   variability   True   \n7       Female     False    Answer   randomize it  Verification   True   \n8         Male     False    Answer   randomize it   variability  False   \n9         Male     False    Answer  generalize it   variability   True   \n10        Male      True  Question  generalize it  Verification  False   \n11      Female      True       NaN   randomize it  Verification   True   \n12        Male      True  Question  generalize it   variability  False   \n13        Male     False    Answer  generalize it           NaN    NaN   \n14        Male      True    Answer  generalize it  Verification  False   \n15        Male      True  Question   randomize it   variability   True   \n16        Male      True  Question  generalize it  Verification   True   \n17        Male      True    Answer   randomize it   variability   True   \n18        Male      True    Answer   randomize it   variability  False   \n19        Male      True    Answer   randomize it  Verification  False   \n20        Male      True    Answer   randomize it  Verification  False   \n21      Female      True  Question  generalize it  Verification  False   \n22      Female     False    Answer   randomize it   variability  False   \n23      Female      True  Question  generalize it  Verification  False   \n24        Male     False    Answer   randomize it   variability   True   \n25      Female     False    Answer   randomize it   variability   True   \n26        Male      True  Question  generalize it  Verification   True   \n27        Male     False    Answer   randomize it           NaN   True   \n28        Male      True  Question   randomize it   variability   True   \n29      Female      True       NaN  generalize it           NaN    NaN   \n30        Male     False       NaN   randomize it   variability   True   \n31      Female      True  Question  generalize it   variability  False   \n32      Female      True    Answer   randomize it   variability   True   \n33        Male      True  Question   randomize it   variability  False   \n34        Male     False    Answer   randomize it  Verification   True   \n35      Female      True  Question   randomize it   variability  False   \n36      Female       NaN  Question  generalize it  Verification   True   \n37      Female     False       NaN   randomize it   variability   True   \n38      Female     False    Answer   randomize it  Verification  False   \n39        Male     False    Answer  generalize it           NaN  False   \n40      Female      True  Question  generalize it  Verification  False   \n41        Male     False       NaN   randomize it           NaN   True   \n42        Male      True  Question  generalize it  Verification   True   \n43      Female      True    Answer  generalize it  Verification  False   \n44        Male      True    Answer   randomize it  Verification   True   \n45      Female      True    Answer   randomize it  Verification  False   \n46      Female      True  Question   randomize it   variability  False   \n47      Female      True  Question   randomize it   variability  False   \n48      Female      True  Question   randomize it   variability    NaN   \n49        Male      True  Question  generalize it   variability  False   \n50        Male     False    Answer  generalize it  Verification  False   \n51        Male     False  Question   randomize it  Verification  False   \n\n   Satisfy  Time  Unnamed: 12  \n0      Yes   100          NaN  \n1      Yes    42          NaN  \n2      Yes    24          NaN  \n3      Yes    34          NaN  \n4       No    28          NaN  \n5      Yes    33          NaN  \n6      Yes    29          NaN  \n7      Yes    28          NaN  \n8      Yes    16          NaN  \n9      Yes    21          NaN  \n10     Yes    25          NaN  \n11     Yes    62          NaN  \n12      No    35          NaN  \n13     Yes    39          NaN  \n14     Yes    30          NaN  \n15     Yes   126          NaN  \n16     Yes    27          NaN  \n17      No    30          NaN  \n18      No    57          NaN  \n19     Yes    49          NaN  \n20     Yes    50          NaN  \n21     Yes    67          NaN  \n22      No    51          NaN  \n23     Yes    86          NaN  \n24     Yes   141          NaN  \n25     Yes   185          NaN  \n26     Yes   131          NaN  \n27      No    78          NaN  \n28      No   128          NaN  \n29     Yes    58          NaN  \n30     Yes    43          NaN  \n31      No    43          NaN  \n32     Yes    31          NaN  \n33     Yes    28          NaN  \n34     Yes    51          NaN  \n35      No    36          NaN  \n36     Yes    36          NaN  \n37     Yes    70          NaN  \n38     Yes    89          NaN  \n39     Yes    19          NaN  \n40     Yes    23          NaN  \n41     Yes    19          NaN  \n42     Yes    55          NaN  \n43      No    59          NaN  \n44     Yes    33          NaN  \n45     Yes    31          NaN  \n46     Yes    27          NaN  \n47     Yes    28          NaN  \n48     Yes    37          NaN  \n49      No    30          NaN  \n50     Yes   356          NaN  \n51      No  1003          NaN  ",
      "text/html": "<div>\n<style scoped>\n    .dataframe tbody tr th:only-of-type {\n        vertical-align: middle;\n    }\n\n    .dataframe tbody tr th {\n        vertical-align: top;\n    }\n\n    .dataframe thead th {\n        text-align: right;\n    }\n</style>\n<table border=\"1\" class=\"dataframe\">\n  <thead>\n    <tr style=\"text-align: right;\">\n      <th></th>\n      <th>User Name</th>\n      <th>User Age</th>\n      <th>User Email</th>\n      <th>User Mobile</th>\n      <th>User Gender</th>\n      <th>User Type</th>\n      <th>Q2</th>\n      <th>Q3</th>\n      <th>Q4</th>\n      <th>Q5</th>\n      <th>Satisfy</th>\n      <th>Time</th>\n      <th>Unnamed: 12</th>\n    </tr>\n  </thead>\n  <tbody>\n    <tr>\n      <th>0</th>\n      <td>Akshat Sanvaliya</td>\n      <td>21</td>\n      <td>asanvaliya1@gmail.com</td>\n      <td>8.962319e+09</td>\n      <td>Male</td>\n      <td>True</td>\n      <td>Question</td>\n      <td>generalize it</td>\n      <td>variability</td>\n      <td>True</td>\n      <td>Yes</td>\n      <td>100</td>\n      <td>NaN</td>\n    </tr>\n    <tr>\n      <th>1</th>\n      <td>Selena Gomez</td>\n      <td>28</td>\n      <td>sselena22@gmail.com</td>\n      <td>5.554443e+11</td>\n      <td>Female</td>\n      <td>True</td>\n      <td>Question</td>\n      <td>randomize it</td>\n      <td>variability</td>\n      <td>False</td>\n      <td>Yes</td>\n      <td>42</td>\n      <td>NaN</td>\n    </tr>\n    <tr>\n      <th>2</th>\n      <td>Jade</td>\n      <td>29</td>\n      <td>asdf@gmail.com</td>\n      <td>5.678965e+08</td>\n      <td>Female</td>\n      <td>NaN</td>\n      <td>Question</td>\n      <td>generalize it</td>\n      <td>Verification</td>\n      <td>True</td>\n      <td>Yes</td>\n      <td>24</td>\n      <td>NaN</td>\n    </tr>\n    <tr>\n      <th>3</th>\n      <td>Tulsi</td>\n      <td>21</td>\n      <td>tulsi@gmail.com</td>\n      <td>8.967245e+09</td>\n      <td>Female</td>\n      <td>True</td>\n      <td>Question</td>\n      <td>generalize it</td>\n      <td>variability</td>\n      <td>NaN</td>\n      <td>Yes</td>\n      <td>34</td>\n      <td>NaN</td>\n    </tr>\n    <tr>\n      <th>4</th>\n      <td>Harry Styles</td>\n      <td>34</td>\n      <td>adjaoidhoi@gmail.com</td>\n      <td>3.445567e+10</td>\n      <td>Male</td>\n      <td>False</td>\n      <td>Answer</td>\n      <td>randomize it</td>\n      <td>variability</td>\n      <td>False</td>\n      <td>No</td>\n      <td>28</td>\n      <td>NaN</td>\n    </tr>\n    <tr>\n      <th>5</th>\n      <td>Robert Downy Junior</td>\n      <td>55</td>\n      <td>robeert@gmail.com</td>\n      <td>2.334565e+11</td>\n      <td>Male</td>\n      <td>True</td>\n      <td>Answer</td>\n      <td>randomize it</td>\n      <td>variability</td>\n      <td>False</td>\n      <td>Yes</td>\n      <td>33</td>\n      <td>NaN</td>\n    </tr>\n    <tr>\n      <th>6</th>\n      <td>Spongebob</td>\n      <td>32</td>\n      <td>sdhsirhu@gmail.com</td>\n      <td>3.455677e+10</td>\n      <td>Male</td>\n      <td>True</td>\n      <td>Answer</td>\n      <td>randomize it</td>\n      <td>variability</td>\n      <td>True</td>\n      <td>Yes</td>\n      <td>29</td>\n      <td>NaN</td>\n    </tr>\n    <tr>\n      <th>7</th>\n      <td>abcd</td>\n      <td>34</td>\n      <td>heuidiubicb@gmail.com</td>\n      <td>5.667575e+06</td>\n      <td>Female</td>\n      <td>False</td>\n      <td>Answer</td>\n      <td>randomize it</td>\n      <td>Verification</td>\n      <td>True</td>\n      <td>Yes</td>\n      <td>28</td>\n      <td>NaN</td>\n    </tr>\n    <tr>\n      <th>8</th>\n      <td>asfsfg</td>\n      <td>34</td>\n      <td>gdfgdbdb</td>\n      <td>6.567567e+08</td>\n      <td>Male</td>\n      <td>False</td>\n      <td>Answer</td>\n      <td>randomize it</td>\n      <td>variability</td>\n      <td>False</td>\n      <td>Yes</td>\n      <td>16</td>\n      <td>NaN</td>\n    </tr>\n    <tr>\n      <th>9</th>\n      <td>Gaurav</td>\n      <td>21</td>\n      <td>gaurav@gmail.com</td>\n      <td>4.546577e+10</td>\n      <td>Male</td>\n      <td>False</td>\n      <td>Answer</td>\n      <td>generalize it</td>\n      <td>variability</td>\n      <td>True</td>\n      <td>Yes</td>\n      <td>21</td>\n      <td>NaN</td>\n    </tr>\n    <tr>\n      <th>10</th>\n      <td>Ayush</td>\n      <td>21</td>\n      <td>ajdiohcfuih@gmail.com</td>\n      <td>3.445568e+09</td>\n      <td>Male</td>\n      <td>True</td>\n      <td>Question</td>\n      <td>generalize it</td>\n      <td>Verification</td>\n      <td>False</td>\n      <td>Yes</td>\n      <td>25</td>\n      <td>NaN</td>\n    </tr>\n    <tr>\n      <th>11</th>\n      <td>rita ora</td>\n      <td>34</td>\n      <td>sdfnrfiu@gmail.com</td>\n      <td>2.343455e+08</td>\n      <td>Female</td>\n      <td>True</td>\n      <td>NaN</td>\n      <td>randomize it</td>\n      <td>Verification</td>\n      <td>True</td>\n      <td>Yes</td>\n      <td>62</td>\n      <td>NaN</td>\n    </tr>\n    <tr>\n      <th>12</th>\n      <td>Post Malone</td>\n      <td>38</td>\n      <td>post@gmail.com</td>\n      <td>3.454568e+11</td>\n      <td>Male</td>\n      <td>True</td>\n      <td>Question</td>\n      <td>generalize it</td>\n      <td>variability</td>\n      <td>False</td>\n      <td>No</td>\n      <td>35</td>\n      <td>NaN</td>\n    </tr>\n    <tr>\n      <th>13</th>\n      <td>Lil Nas X</td>\n      <td>34</td>\n      <td>lil@gmail.com</td>\n      <td>4.546468e+10</td>\n      <td>Male</td>\n      <td>False</td>\n      <td>Answer</td>\n      <td>generalize it</td>\n      <td>NaN</td>\n      <td>NaN</td>\n      <td>Yes</td>\n      <td>39</td>\n      <td>NaN</td>\n    </tr>\n    <tr>\n      <th>14</th>\n      <td>Jack harlow</td>\n      <td>30</td>\n      <td>jack@gmail.com</td>\n      <td>3.456577e+09</td>\n      <td>Male</td>\n      <td>True</td>\n      <td>Answer</td>\n      <td>generalize it</td>\n      <td>Verification</td>\n      <td>False</td>\n      <td>Yes</td>\n      <td>30</td>\n      <td>NaN</td>\n    </tr>\n    <tr>\n      <th>15</th>\n      <td>Marcus Halloway</td>\n      <td>25</td>\n      <td>marcusXXX@gmail.com</td>\n      <td>8.863475e+11</td>\n      <td>Male</td>\n      <td>True</td>\n      <td>Question</td>\n      <td>randomize it</td>\n      <td>variability</td>\n      <td>True</td>\n      <td>Yes</td>\n      <td>126</td>\n      <td>NaN</td>\n    </tr>\n    <tr>\n      <th>16</th>\n      <td>Aiden Pierce</td>\n      <td>29</td>\n      <td>aiden@gmail.com</td>\n      <td>4.554757e+10</td>\n      <td>Male</td>\n      <td>True</td>\n      <td>Question</td>\n      <td>generalize it</td>\n      <td>Verification</td>\n      <td>True</td>\n      <td>Yes</td>\n      <td>27</td>\n      <td>NaN</td>\n    </tr>\n    <tr>\n      <th>17</th>\n      <td>Justin</td>\n      <td>34</td>\n      <td>jus@gmail.com</td>\n      <td>3.464868e+07</td>\n      <td>Male</td>\n      <td>True</td>\n      <td>Answer</td>\n      <td>randomize it</td>\n      <td>variability</td>\n      <td>True</td>\n      <td>No</td>\n      <td>30</td>\n      <td>NaN</td>\n    </tr>\n    <tr>\n      <th>18</th>\n      <td>Austin</td>\n      <td>34</td>\n      <td>austin 2GMAIL.COM</td>\n      <td>3.443647e+09</td>\n      <td>Male</td>\n      <td>True</td>\n      <td>Answer</td>\n      <td>randomize it</td>\n      <td>variability</td>\n      <td>False</td>\n      <td>No</td>\n      <td>57</td>\n      <td>NaN</td>\n    </tr>\n    <tr>\n      <th>19</th>\n      <td>Alley</td>\n      <td>21</td>\n      <td>alley@gmail.com</td>\n      <td>2.344658e+10</td>\n      <td>Male</td>\n      <td>True</td>\n      <td>Answer</td>\n      <td>randomize it</td>\n      <td>Verification</td>\n      <td>False</td>\n      <td>Yes</td>\n      <td>49</td>\n      <td>NaN</td>\n    </tr>\n    <tr>\n      <th>20</th>\n      <td>BOB</td>\n      <td>23</td>\n      <td>bob@gmail.com</td>\n      <td>3.556891e+09</td>\n      <td>Male</td>\n      <td>True</td>\n      <td>Answer</td>\n      <td>randomize it</td>\n      <td>Verification</td>\n      <td>False</td>\n      <td>Yes</td>\n      <td>50</td>\n      <td>NaN</td>\n    </tr>\n    <tr>\n      <th>21</th>\n      <td>Lisa</td>\n      <td>34</td>\n      <td>lis@gmail.com</td>\n      <td>8.946476e+09</td>\n      <td>Female</td>\n      <td>True</td>\n      <td>Question</td>\n      <td>generalize it</td>\n      <td>Verification</td>\n      <td>False</td>\n      <td>Yes</td>\n      <td>67</td>\n      <td>NaN</td>\n    </tr>\n    <tr>\n      <th>22</th>\n      <td>Mia Khalifa</td>\n      <td>34</td>\n      <td>mia@gmail.com</td>\n      <td>3.456687e+10</td>\n      <td>Female</td>\n      <td>False</td>\n      <td>Answer</td>\n      <td>randomize it</td>\n      <td>variability</td>\n      <td>False</td>\n      <td>No</td>\n      <td>51</td>\n      <td>NaN</td>\n    </tr>\n    <tr>\n      <th>23</th>\n      <td>Sasha grey</td>\n      <td>29</td>\n      <td>sasgirl@gmail.com</td>\n      <td>5.747436e+08</td>\n      <td>Female</td>\n      <td>True</td>\n      <td>Question</td>\n      <td>generalize it</td>\n      <td>Verification</td>\n      <td>False</td>\n      <td>Yes</td>\n      <td>86</td>\n      <td>NaN</td>\n    </tr>\n    <tr>\n      <th>24</th>\n      <td>Ozuna</td>\n      <td>40</td>\n      <td>oz@gmail.com</td>\n      <td>5.554444e+09</td>\n      <td>Male</td>\n      <td>False</td>\n      <td>Answer</td>\n      <td>randomize it</td>\n      <td>variability</td>\n      <td>True</td>\n      <td>Yes</td>\n      <td>141</td>\n      <td>NaN</td>\n    </tr>\n    <tr>\n      <th>25</th>\n      <td>Megan Thee Stallion</td>\n      <td>38</td>\n      <td>megthe@gmail.com</td>\n      <td>9.999449e+10</td>\n      <td>Female</td>\n      <td>False</td>\n      <td>Answer</td>\n      <td>randomize it</td>\n      <td>variability</td>\n      <td>True</td>\n      <td>Yes</td>\n      <td>185</td>\n      <td>NaN</td>\n    </tr>\n    <tr>\n      <th>26</th>\n      <td>J balvin</td>\n      <td>30</td>\n      <td>balvin@gmail.com</td>\n      <td>7.778865e+08</td>\n      <td>Male</td>\n      <td>True</td>\n      <td>Question</td>\n      <td>generalize it</td>\n      <td>Verification</td>\n      <td>True</td>\n      <td>Yes</td>\n      <td>131</td>\n      <td>NaN</td>\n    </tr>\n    <tr>\n      <th>27</th>\n      <td>Jesse Eisenberg</td>\n      <td>22</td>\n      <td>jesse1@gmail.com</td>\n      <td>2.345678e+09</td>\n      <td>Male</td>\n      <td>False</td>\n      <td>Answer</td>\n      <td>randomize it</td>\n      <td>NaN</td>\n      <td>True</td>\n      <td>No</td>\n      <td>78</td>\n      <td>NaN</td>\n    </tr>\n    <tr>\n      <th>28</th>\n      <td>Sean paul</td>\n      <td>43</td>\n      <td>sea@gmail.com</td>\n      <td>2.345567e+10</td>\n      <td>Male</td>\n      <td>True</td>\n      <td>Question</td>\n      <td>randomize it</td>\n      <td>variability</td>\n      <td>True</td>\n      <td>No</td>\n      <td>128</td>\n      <td>NaN</td>\n    </tr>\n    <tr>\n      <th>29</th>\n      <td>Aidra Fox</td>\n      <td>26</td>\n      <td>aidr@gmail.com</td>\n      <td>3.456788e+08</td>\n      <td>Female</td>\n      <td>True</td>\n      <td>NaN</td>\n      <td>generalize it</td>\n      <td>NaN</td>\n      <td>NaN</td>\n      <td>Yes</td>\n      <td>58</td>\n      <td>NaN</td>\n    </tr>\n    <tr>\n      <th>30</th>\n      <td>Ben Tenison</td>\n      <td>17</td>\n      <td>ben10@gmail.com</td>\n      <td>4.556789e+08</td>\n      <td>Male</td>\n      <td>False</td>\n      <td>NaN</td>\n      <td>randomize it</td>\n      <td>variability</td>\n      <td>True</td>\n      <td>Yes</td>\n      <td>43</td>\n      <td>NaN</td>\n    </tr>\n    <tr>\n      <th>31</th>\n      <td>Niki Minaj</td>\n      <td>39</td>\n      <td>nikmin@gmail.com</td>\n      <td>5.667789e+09</td>\n      <td>Female</td>\n      <td>True</td>\n      <td>Question</td>\n      <td>generalize it</td>\n      <td>variability</td>\n      <td>False</td>\n      <td>No</td>\n      <td>43</td>\n      <td>NaN</td>\n    </tr>\n    <tr>\n      <th>32</th>\n      <td>Adele</td>\n      <td>44</td>\n      <td>adlelele@gmail.com</td>\n      <td>2.334456e+08</td>\n      <td>Female</td>\n      <td>True</td>\n      <td>Answer</td>\n      <td>randomize it</td>\n      <td>variability</td>\n      <td>True</td>\n      <td>Yes</td>\n      <td>31</td>\n      <td>NaN</td>\n    </tr>\n    <tr>\n      <th>33</th>\n      <td>Anshul</td>\n      <td>22</td>\n      <td>ansh@gmail.com</td>\n      <td>8.944569e+09</td>\n      <td>Male</td>\n      <td>True</td>\n      <td>Question</td>\n      <td>randomize it</td>\n      <td>variability</td>\n      <td>False</td>\n      <td>Yes</td>\n      <td>28</td>\n      <td>NaN</td>\n    </tr>\n    <tr>\n      <th>34</th>\n      <td>Chris Evans</td>\n      <td>39</td>\n      <td>chrEv@gmail.com</td>\n      <td>2.345658e+09</td>\n      <td>Male</td>\n      <td>False</td>\n      <td>Answer</td>\n      <td>randomize it</td>\n      <td>Verification</td>\n      <td>True</td>\n      <td>Yes</td>\n      <td>51</td>\n      <td>NaN</td>\n    </tr>\n    <tr>\n      <th>35</th>\n      <td>Scarlett Johanson</td>\n      <td>33</td>\n      <td>ScarJoh@gmail.com</td>\n      <td>3.434978e+09</td>\n      <td>Female</td>\n      <td>True</td>\n      <td>Question</td>\n      <td>randomize it</td>\n      <td>variability</td>\n      <td>False</td>\n      <td>No</td>\n      <td>36</td>\n      <td>NaN</td>\n    </tr>\n    <tr>\n      <th>36</th>\n      <td>Aishwarya</td>\n      <td>21</td>\n      <td>ais@gmail.com</td>\n      <td>4.354768e+09</td>\n      <td>Female</td>\n      <td>NaN</td>\n      <td>Question</td>\n      <td>generalize it</td>\n      <td>Verification</td>\n      <td>True</td>\n      <td>Yes</td>\n      <td>36</td>\n      <td>NaN</td>\n    </tr>\n    <tr>\n      <th>37</th>\n      <td>Taylor Swift</td>\n      <td>28</td>\n      <td>taytayswift@gmail.com</td>\n      <td>3.445568e+08</td>\n      <td>Female</td>\n      <td>False</td>\n      <td>NaN</td>\n      <td>randomize it</td>\n      <td>variability</td>\n      <td>True</td>\n      <td>Yes</td>\n      <td>70</td>\n      <td>NaN</td>\n    </tr>\n    <tr>\n      <th>38</th>\n      <td>Lizzo</td>\n      <td>34</td>\n      <td>lizz@gmail.com</td>\n      <td>3.456678e+09</td>\n      <td>Female</td>\n      <td>False</td>\n      <td>Answer</td>\n      <td>randomize it</td>\n      <td>Verification</td>\n      <td>False</td>\n      <td>Yes</td>\n      <td>89</td>\n      <td>NaN</td>\n    </tr>\n    <tr>\n      <th>39</th>\n      <td>Shinchan</td>\n      <td>5</td>\n      <td>shin@gmail.com</td>\n      <td>5.656678e+10</td>\n      <td>Male</td>\n      <td>False</td>\n      <td>Answer</td>\n      <td>generalize it</td>\n      <td>NaN</td>\n      <td>False</td>\n      <td>Yes</td>\n      <td>19</td>\n      <td>NaN</td>\n    </tr>\n    <tr>\n      <th>40</th>\n      <td>Mitsi Nohara</td>\n      <td>37</td>\n      <td>mitnoh@gmail.com</td>\n      <td>4.556678e+07</td>\n      <td>Female</td>\n      <td>True</td>\n      <td>Question</td>\n      <td>generalize it</td>\n      <td>Verification</td>\n      <td>False</td>\n      <td>Yes</td>\n      <td>23</td>\n      <td>NaN</td>\n    </tr>\n    <tr>\n      <th>41</th>\n      <td>Harry Nohara</td>\n      <td>40</td>\n      <td>harnoh@gmail.com</td>\n      <td>3.466768e+08</td>\n      <td>Male</td>\n      <td>False</td>\n      <td>NaN</td>\n      <td>randomize it</td>\n      <td>NaN</td>\n      <td>True</td>\n      <td>Yes</td>\n      <td>19</td>\n      <td>NaN</td>\n    </tr>\n    <tr>\n      <th>42</th>\n      <td>Jason Derulo</td>\n      <td>34</td>\n      <td>jason@gmail.com</td>\n      <td>6.474875e+09</td>\n      <td>Male</td>\n      <td>True</td>\n      <td>Question</td>\n      <td>generalize it</td>\n      <td>Verification</td>\n      <td>True</td>\n      <td>Yes</td>\n      <td>55</td>\n      <td>NaN</td>\n    </tr>\n    <tr>\n      <th>43</th>\n      <td>Demi Lovato</td>\n      <td>36</td>\n      <td>demilov@gmail.com</td>\n      <td>4.547586e+09</td>\n      <td>Female</td>\n      <td>True</td>\n      <td>Answer</td>\n      <td>generalize it</td>\n      <td>Verification</td>\n      <td>False</td>\n      <td>No</td>\n      <td>59</td>\n      <td>NaN</td>\n    </tr>\n    <tr>\n      <th>44</th>\n      <td>lil Dicky</td>\n      <td>37</td>\n      <td>lidDik@gmail.com</td>\n      <td>2.343457e+09</td>\n      <td>Male</td>\n      <td>True</td>\n      <td>Answer</td>\n      <td>randomize it</td>\n      <td>Verification</td>\n      <td>True</td>\n      <td>Yes</td>\n      <td>33</td>\n      <td>NaN</td>\n    </tr>\n    <tr>\n      <th>45</th>\n      <td>Amanda Cox</td>\n      <td>23</td>\n      <td>amand@gmail.com</td>\n      <td>4.354658e+07</td>\n      <td>Female</td>\n      <td>True</td>\n      <td>Answer</td>\n      <td>randomize it</td>\n      <td>Verification</td>\n      <td>False</td>\n      <td>Yes</td>\n      <td>31</td>\n      <td>NaN</td>\n    </tr>\n    <tr>\n      <th>46</th>\n      <td>Ava Max</td>\n      <td>36</td>\n      <td>ava@gmail.com</td>\n      <td>3.456578e+09</td>\n      <td>Female</td>\n      <td>True</td>\n      <td>Question</td>\n      <td>randomize it</td>\n      <td>variability</td>\n      <td>False</td>\n      <td>Yes</td>\n      <td>27</td>\n      <td>NaN</td>\n    </tr>\n    <tr>\n      <th>47</th>\n      <td>Pragya Dwivedi</td>\n      <td>21</td>\n      <td>pragdw@gmail.com</td>\n      <td>6.854433e+09</td>\n      <td>Female</td>\n      <td>True</td>\n      <td>Question</td>\n      <td>randomize it</td>\n      <td>variability</td>\n      <td>False</td>\n      <td>Yes</td>\n      <td>28</td>\n      <td>NaN</td>\n    </tr>\n    <tr>\n      <th>48</th>\n      <td>Elizabeth Olsen</td>\n      <td>38</td>\n      <td>Eliol@gmail.com</td>\n      <td>3.445468e+08</td>\n      <td>Female</td>\n      <td>True</td>\n      <td>Question</td>\n      <td>randomize it</td>\n      <td>variability</td>\n      <td>NaN</td>\n      <td>Yes</td>\n      <td>37</td>\n      <td>NaN</td>\n    </tr>\n    <tr>\n      <th>49</th>\n      <td>Zayn Malik</td>\n      <td>29</td>\n      <td>zaynmal@gmail.com</td>\n      <td>2.354568e+09</td>\n      <td>Male</td>\n      <td>True</td>\n      <td>Question</td>\n      <td>generalize it</td>\n      <td>variability</td>\n      <td>False</td>\n      <td>No</td>\n      <td>30</td>\n      <td>NaN</td>\n    </tr>\n    <tr>\n      <th>50</th>\n      <td>XXX Tentacion</td>\n      <td>29</td>\n      <td>tenta@gmail.com</td>\n      <td>NaN</td>\n      <td>Male</td>\n      <td>False</td>\n      <td>Answer</td>\n      <td>generalize it</td>\n      <td>Verification</td>\n      <td>False</td>\n      <td>Yes</td>\n      <td>356</td>\n      <td>NaN</td>\n    </tr>\n    <tr>\n      <th>51</th>\n      <td>Tom Cruise</td>\n      <td>50</td>\n      <td>tomc@gmail.com</td>\n      <td>5.554443e+08</td>\n      <td>Male</td>\n      <td>False</td>\n      <td>Question</td>\n      <td>randomize it</td>\n      <td>Verification</td>\n      <td>False</td>\n      <td>No</td>\n      <td>1003</td>\n      <td>NaN</td>\n    </tr>\n  </tbody>\n</table>\n</div>"
     },
     "execution_count": 3,
     "metadata": {},
     "output_type": "execute_result"
    }
   ],
   "source": [
    "data"
   ]
  },
  {
   "cell_type": "code",
   "execution_count": 4,
   "id": "79709c49",
   "metadata": {
    "pycharm": {
     "name": "#%%\n"
    }
   },
   "outputs": [],
   "source": [
    "data=data.dropna()"
   ]
  },
  {
   "cell_type": "code",
   "execution_count": 5,
   "id": "56a64de4",
   "metadata": {
    "pycharm": {
     "name": "#%%\n"
    }
   },
   "outputs": [
    {
     "data": {
      "text/plain": "Empty DataFrame\nColumns: [User Name, User Age, User Email, User Mobile, User Gender, User Type, Q2, Q3, Q4, Q5, Satisfy, Time, Unnamed: 12]\nIndex: []",
      "text/html": "<div>\n<style scoped>\n    .dataframe tbody tr th:only-of-type {\n        vertical-align: middle;\n    }\n\n    .dataframe tbody tr th {\n        vertical-align: top;\n    }\n\n    .dataframe thead th {\n        text-align: right;\n    }\n</style>\n<table border=\"1\" class=\"dataframe\">\n  <thead>\n    <tr style=\"text-align: right;\">\n      <th></th>\n      <th>User Name</th>\n      <th>User Age</th>\n      <th>User Email</th>\n      <th>User Mobile</th>\n      <th>User Gender</th>\n      <th>User Type</th>\n      <th>Q2</th>\n      <th>Q3</th>\n      <th>Q4</th>\n      <th>Q5</th>\n      <th>Satisfy</th>\n      <th>Time</th>\n      <th>Unnamed: 12</th>\n    </tr>\n  </thead>\n  <tbody>\n  </tbody>\n</table>\n</div>"
     },
     "execution_count": 5,
     "metadata": {},
     "output_type": "execute_result"
    }
   ],
   "source": [
    "data"
   ]
  },
  {
   "cell_type": "code",
   "execution_count": 6,
   "id": "a23bcff8",
   "metadata": {
    "pycharm": {
     "name": "#%%\n"
    }
   },
   "outputs": [
    {
     "data": {
      "text/plain": "(0, 13)"
     },
     "execution_count": 6,
     "metadata": {},
     "output_type": "execute_result"
    }
   ],
   "source": [
    "data.shape"
   ]
  },
  {
   "cell_type": "code",
   "execution_count": 7,
   "id": "9a04c3db",
   "metadata": {
    "pycharm": {
     "name": "#%%\n"
    }
   },
   "outputs": [],
   "source": [
    "data=data.drop(['User Name','User Email','User Mobile'],axis=1)"
   ]
  },
  {
   "cell_type": "code",
   "execution_count": 8,
   "id": "3d200f89",
   "metadata": {
    "pycharm": {
     "name": "#%%\n"
    }
   },
   "outputs": [
    {
     "data": {
      "text/plain": "Empty DataFrame\nColumns: [User Age, User Gender, User Type, Q2, Q3, Q4, Q5, Satisfy, Time, Unnamed: 12]\nIndex: []",
      "text/html": "<div>\n<style scoped>\n    .dataframe tbody tr th:only-of-type {\n        vertical-align: middle;\n    }\n\n    .dataframe tbody tr th {\n        vertical-align: top;\n    }\n\n    .dataframe thead th {\n        text-align: right;\n    }\n</style>\n<table border=\"1\" class=\"dataframe\">\n  <thead>\n    <tr style=\"text-align: right;\">\n      <th></th>\n      <th>User Age</th>\n      <th>User Gender</th>\n      <th>User Type</th>\n      <th>Q2</th>\n      <th>Q3</th>\n      <th>Q4</th>\n      <th>Q5</th>\n      <th>Satisfy</th>\n      <th>Time</th>\n      <th>Unnamed: 12</th>\n    </tr>\n  </thead>\n  <tbody>\n  </tbody>\n</table>\n</div>"
     },
     "execution_count": 8,
     "metadata": {},
     "output_type": "execute_result"
    }
   ],
   "source": [
    "data"
   ]
  },
  {
   "cell_type": "code",
   "execution_count": 9,
   "id": "27d8ec96",
   "metadata": {
    "pycharm": {
     "name": "#%%\n"
    }
   },
   "outputs": [
    {
     "data": {
      "text/plain": "(0, 10)"
     },
     "execution_count": 9,
     "metadata": {},
     "output_type": "execute_result"
    }
   ],
   "source": [
    "data.shape"
   ]
  },
  {
   "cell_type": "code",
   "execution_count": 10,
   "id": "4c485415",
   "metadata": {
    "pycharm": {
     "name": "#%%\n"
    }
   },
   "outputs": [],
   "source": [
    "x=data.drop(['Time'],axis=1)"
   ]
  },
  {
   "cell_type": "code",
   "execution_count": 11,
   "id": "7b4718bb",
   "metadata": {
    "pycharm": {
     "name": "#%%\n"
    }
   },
   "outputs": [
    {
     "data": {
      "text/plain": "Empty DataFrame\nColumns: [User Age, User Gender, User Type, Q2, Q3, Q4, Q5, Satisfy, Unnamed: 12]\nIndex: []",
      "text/html": "<div>\n<style scoped>\n    .dataframe tbody tr th:only-of-type {\n        vertical-align: middle;\n    }\n\n    .dataframe tbody tr th {\n        vertical-align: top;\n    }\n\n    .dataframe thead th {\n        text-align: right;\n    }\n</style>\n<table border=\"1\" class=\"dataframe\">\n  <thead>\n    <tr style=\"text-align: right;\">\n      <th></th>\n      <th>User Age</th>\n      <th>User Gender</th>\n      <th>User Type</th>\n      <th>Q2</th>\n      <th>Q3</th>\n      <th>Q4</th>\n      <th>Q5</th>\n      <th>Satisfy</th>\n      <th>Unnamed: 12</th>\n    </tr>\n  </thead>\n  <tbody>\n  </tbody>\n</table>\n</div>"
     },
     "execution_count": 11,
     "metadata": {},
     "output_type": "execute_result"
    }
   ],
   "source": [
    "x"
   ]
  },
  {
   "cell_type": "code",
   "execution_count": 12,
   "id": "4fd4962b",
   "metadata": {
    "pycharm": {
     "name": "#%%\n"
    }
   },
   "outputs": [],
   "source": [
    "y=data.iloc[:,0]"
   ]
  },
  {
   "cell_type": "code",
   "execution_count": 13,
   "id": "0f5adad7",
   "metadata": {
    "pycharm": {
     "name": "#%%\n"
    }
   },
   "outputs": [
    {
     "data": {
      "text/plain": "Series([], Name: User Age, dtype: int64)"
     },
     "execution_count": 13,
     "metadata": {},
     "output_type": "execute_result"
    }
   ],
   "source": [
    "y"
   ]
  },
  {
   "cell_type": "code",
   "execution_count": 14,
   "id": "d71ddf0b",
   "metadata": {
    "pycharm": {
     "name": "#%%\n"
    }
   },
   "outputs": [
    {
     "name": "stdout",
     "output_type": "stream",
     "text": [
      "Empty DataFrame\n",
      "Columns: [User Age, User Gender, User Type, Q2, Q3, Q4, Q5, Satisfy, Unnamed: 12]\n",
      "Index: []\n"
     ]
    }
   ],
   "source": [
    "from sklearn import preprocessing\n",
    "# label_encoder object knows how to understand word labels. \n",
    "label_encoder = preprocessing.LabelEncoder()\n",
    "# Encode labels in column 'Country'. \n",
    "x['User Gender']= label_encoder.fit_transform(x['User Gender'])\n",
    "x['User Type']= label_encoder.fit_transform(x['User Type'])\n",
    "x['Q2']= label_encoder.fit_transform(x['Q2'])\n",
    "x['Q3']= label_encoder.fit_transform(x['Q3'])\n",
    "x['Q4']= label_encoder.fit_transform(x['Q4'])\n",
    "x['Q5']= label_encoder.fit_transform(x['Q5'])\n",
    "x['Satisfy']= label_encoder.fit_transform(x['Satisfy'])\n",
    "print(x)"
   ]
  },
  {
   "cell_type": "code",
   "execution_count": 14,
   "id": "676a0ecc",
   "metadata": {
    "pycharm": {
     "name": "#%%\n"
    }
   },
   "outputs": [],
   "source": []
  },
  {
   "cell_type": "code",
   "execution_count": 15,
   "id": "06e57b60",
   "metadata": {
    "pycharm": {
     "name": "#%%\n"
    }
   },
   "outputs": [],
   "source": [
    "import pandas as pd\n",
    "import numpy as np\n",
    "import matplotlib.pyplot as plt\n",
    "from sklearn import model_selection\n",
    "from sklearn.metrics import accuracy_score\n",
    "from sklearn.linear_model import LogisticRegression\n",
    "from sklearn.linear_model import LinearRegression\n",
    "from sklearn.ensemble import RandomForestClassifier\n",
    "from sklearn.neighbors import KNeighborsClassifier,KNeighborsRegressor\n",
    "from sklearn.svm import SVC\n",
    "from sklearn.tree import DecisionTreeClassifier, export_graphviz"
   ]
  },
  {
   "cell_type": "code",
   "execution_count": 16,
   "id": "f9e90db0",
   "metadata": {
    "pycharm": {
     "name": "#%%\n"
    }
   },
   "outputs": [
    {
     "ename": "ValueError",
     "evalue": "With n_samples=0, test_size=0.2 and train_size=None, the resulting train set will be empty. Adjust any of the aforementioned parameters.",
     "output_type": "error",
     "traceback": [
      "\u001B[1;31m---------------------------------------------------------------------------\u001B[0m",
      "\u001B[1;31mValueError\u001B[0m                                Traceback (most recent call last)",
      "Input \u001B[1;32mIn [16]\u001B[0m, in \u001B[0;36m<cell line: 1>\u001B[1;34m()\u001B[0m\n\u001B[1;32m----> 1\u001B[0m x_train, x_test, y_train, y_test \u001B[38;5;241m=\u001B[39m \u001B[43mmodel_selection\u001B[49m\u001B[38;5;241;43m.\u001B[39;49m\u001B[43mtrain_test_split\u001B[49m\u001B[43m(\u001B[49m\u001B[43mx\u001B[49m\u001B[43m,\u001B[49m\u001B[43m \u001B[49m\u001B[43my\u001B[49m\u001B[43m,\u001B[49m\u001B[43m \u001B[49m\u001B[43mtest_size\u001B[49m\u001B[38;5;241;43m=\u001B[39;49m\u001B[38;5;241;43m0.2\u001B[39;49m\u001B[43m,\u001B[49m\u001B[43m \u001B[49m\u001B[43mrandom_state\u001B[49m\u001B[38;5;241;43m=\u001B[39;49m\u001B[38;5;241;43m7\u001B[39;49m\u001B[43m)\u001B[49m\n\u001B[0;32m      2\u001B[0m \u001B[38;5;66;03m#test 0.2 20%testing , random se koi 80 train koi 20 test\u001B[39;00m\n\u001B[0;32m      3\u001B[0m model \u001B[38;5;241m=\u001B[39m LogisticRegression()\n",
      "File \u001B[1;32m~\\PycharmProjects\\VolumeGesture\\venv\\lib\\site-packages\\sklearn\\model_selection\\_split.py:2420\u001B[0m, in \u001B[0;36mtrain_test_split\u001B[1;34m(test_size, train_size, random_state, shuffle, stratify, *arrays)\u001B[0m\n\u001B[0;32m   2417\u001B[0m arrays \u001B[38;5;241m=\u001B[39m indexable(\u001B[38;5;241m*\u001B[39marrays)\n\u001B[0;32m   2419\u001B[0m n_samples \u001B[38;5;241m=\u001B[39m _num_samples(arrays[\u001B[38;5;241m0\u001B[39m])\n\u001B[1;32m-> 2420\u001B[0m n_train, n_test \u001B[38;5;241m=\u001B[39m \u001B[43m_validate_shuffle_split\u001B[49m\u001B[43m(\u001B[49m\n\u001B[0;32m   2421\u001B[0m \u001B[43m    \u001B[49m\u001B[43mn_samples\u001B[49m\u001B[43m,\u001B[49m\u001B[43m \u001B[49m\u001B[43mtest_size\u001B[49m\u001B[43m,\u001B[49m\u001B[43m \u001B[49m\u001B[43mtrain_size\u001B[49m\u001B[43m,\u001B[49m\u001B[43m \u001B[49m\u001B[43mdefault_test_size\u001B[49m\u001B[38;5;241;43m=\u001B[39;49m\u001B[38;5;241;43m0.25\u001B[39;49m\n\u001B[0;32m   2422\u001B[0m \u001B[43m\u001B[49m\u001B[43m)\u001B[49m\n\u001B[0;32m   2424\u001B[0m \u001B[38;5;28;01mif\u001B[39;00m shuffle \u001B[38;5;129;01mis\u001B[39;00m \u001B[38;5;28;01mFalse\u001B[39;00m:\n\u001B[0;32m   2425\u001B[0m     \u001B[38;5;28;01mif\u001B[39;00m stratify \u001B[38;5;129;01mis\u001B[39;00m \u001B[38;5;129;01mnot\u001B[39;00m \u001B[38;5;28;01mNone\u001B[39;00m:\n",
      "File \u001B[1;32m~\\PycharmProjects\\VolumeGesture\\venv\\lib\\site-packages\\sklearn\\model_selection\\_split.py:2098\u001B[0m, in \u001B[0;36m_validate_shuffle_split\u001B[1;34m(n_samples, test_size, train_size, default_test_size)\u001B[0m\n\u001B[0;32m   2095\u001B[0m n_train, n_test \u001B[38;5;241m=\u001B[39m \u001B[38;5;28mint\u001B[39m(n_train), \u001B[38;5;28mint\u001B[39m(n_test)\n\u001B[0;32m   2097\u001B[0m \u001B[38;5;28;01mif\u001B[39;00m n_train \u001B[38;5;241m==\u001B[39m \u001B[38;5;241m0\u001B[39m:\n\u001B[1;32m-> 2098\u001B[0m     \u001B[38;5;28;01mraise\u001B[39;00m \u001B[38;5;167;01mValueError\u001B[39;00m(\n\u001B[0;32m   2099\u001B[0m         \u001B[38;5;124m\"\u001B[39m\u001B[38;5;124mWith n_samples=\u001B[39m\u001B[38;5;132;01m{}\u001B[39;00m\u001B[38;5;124m, test_size=\u001B[39m\u001B[38;5;132;01m{}\u001B[39;00m\u001B[38;5;124m and train_size=\u001B[39m\u001B[38;5;132;01m{}\u001B[39;00m\u001B[38;5;124m, the \u001B[39m\u001B[38;5;124m\"\u001B[39m\n\u001B[0;32m   2100\u001B[0m         \u001B[38;5;124m\"\u001B[39m\u001B[38;5;124mresulting train set will be empty. Adjust any of the \u001B[39m\u001B[38;5;124m\"\u001B[39m\n\u001B[0;32m   2101\u001B[0m         \u001B[38;5;124m\"\u001B[39m\u001B[38;5;124maforementioned parameters.\u001B[39m\u001B[38;5;124m\"\u001B[39m\u001B[38;5;241m.\u001B[39mformat(n_samples, test_size, train_size)\n\u001B[0;32m   2102\u001B[0m     )\n\u001B[0;32m   2104\u001B[0m \u001B[38;5;28;01mreturn\u001B[39;00m n_train, n_test\n",
      "\u001B[1;31mValueError\u001B[0m: With n_samples=0, test_size=0.2 and train_size=None, the resulting train set will be empty. Adjust any of the aforementioned parameters."
     ]
    }
   ],
   "source": [
    "x_train, x_test, y_train, y_test = model_selection.train_test_split(x, y, test_size=0.2, random_state=7)\n",
    "#test 0.2 20%testing , random se koi 80 train koi 20 test\n",
    "model = LogisticRegression()\n",
    "model.fit(x_train,y_train)\n",
    "predictions = model.predict(x_test)\n",
    "print(accuracy_score(y_test, predictions))"
   ]
  },
  {
   "cell_type": "code",
   "execution_count": null,
   "id": "6e3fc95a",
   "metadata": {
    "pycharm": {
     "name": "#%%\n"
    }
   },
   "outputs": [],
   "source": [
    "x_train, x_test, y_train, y_test = model_selection.train_test_split(x, y, test_size=0.2, random_state=7)\n",
    "knn_regressor = KNeighborsRegressor(n_neighbors=3,algorithm=\"brute\",weights=\"distance\")\n",
    "knn_regressor.fit(x_train,y_train)"
   ]
  },
  {
   "cell_type": "code",
   "execution_count": null,
   "id": "b8d42275",
   "metadata": {
    "pycharm": {
     "name": "#%%\n"
    }
   },
   "outputs": [],
   "source": [
    "print(x_train.shape, x_test.shape)"
   ]
  },
  {
   "cell_type": "code",
   "execution_count": null,
   "id": "66dabcd6",
   "metadata": {
    "pycharm": {
     "name": "#%%\n"
    }
   },
   "outputs": [],
   "source": [
    "from sklearn.preprocessing import MinMaxScaler\n",
    "scaler = MinMaxScaler(feature_range=(0,1))\n",
    "\n",
    "scaler.fit(x_train)"
   ]
  },
  {
   "cell_type": "code",
   "execution_count": null,
   "id": "40ae8cc8",
   "metadata": {
    "pycharm": {
     "name": "#%%\n"
    }
   },
   "outputs": [],
   "source": [
    "scaled_train_x = pd.DataFrame(scaler.transform(x_train))\n",
    "scaled_test_x = pd.DataFrame(scaler.transform(x_test))"
   ]
  },
  {
   "cell_type": "code",
   "execution_count": null,
   "id": "c635ed8a",
   "metadata": {
    "pycharm": {
     "name": "#%%\n"
    }
   },
   "outputs": [],
   "source": [
    "scaled_test_x"
   ]
  },
  {
   "cell_type": "code",
   "execution_count": null,
   "id": "1c091615",
   "metadata": {
    "pycharm": {
     "name": "#%%\n"
    }
   },
   "outputs": [],
   "source": [
    "knn_regressor = KNeighborsRegressor(n_neighbors=3,algorithm=\"brute\",weights=\"distance\")\n",
    "knn_regressor.fit(scaled_train_x, y_train)"
   ]
  },
  {
   "cell_type": "code",
   "execution_count": null,
   "id": "1eafd8a0",
   "metadata": {
    "pycharm": {
     "name": "#%%\n"
    }
   },
   "outputs": [],
   "source": [
    "train_pred = knn_regressor.predict(scaled_train_x)\n",
    "test_pred = knn_regressor.predict(scaled_test_x)\n",
    "\n",
    "\n",
    "train_pred"
   ]
  },
  {
   "cell_type": "code",
   "execution_count": null,
   "id": "90483e80",
   "metadata": {
    "pycharm": {
     "name": "#%%\n"
    }
   },
   "outputs": [],
   "source": [
    "from sklearn.metrics import mean_squared_error\n",
    "\n",
    "print(mean_squared_error(y_train,train_pred))\n",
    "print(mean_squared_error(y_test,test_pred))"
   ]
  },
  {
   "cell_type": "code",
   "execution_count": null,
   "id": "cd0c3ee3",
   "metadata": {
    "pycharm": {
     "name": "#%%\n"
    }
   },
   "outputs": [],
   "source": [
    "import pickle"
   ]
  },
  {
   "cell_type": "code",
   "execution_count": null,
   "id": "bc2e53cb",
   "metadata": {
    "pycharm": {
     "name": "#%%\n"
    }
   },
   "outputs": [],
   "source": [
    "saved_model = pickle.dumps(knn_regressor)"
   ]
  },
  {
   "cell_type": "code",
   "execution_count": null,
   "id": "9d8c271a",
   "metadata": {
    "pycharm": {
     "name": "#%%\n"
    }
   },
   "outputs": [],
   "source": [
    "knn_from_pickle = pickle.loads(saved_model)"
   ]
  },
  {
   "cell_type": "code",
   "execution_count": null,
   "id": "df83fb69",
   "metadata": {
    "pycharm": {
     "name": "#%%\n"
    }
   },
   "outputs": [],
   "source": [
    "with open('file.pkl', 'wb') as file:\n",
    "      \n",
    "    # A new file will be created\n",
    "    pickle.dump(knn_regressor, file)"
   ]
  },
  {
   "cell_type": "code",
   "execution_count": null,
   "id": "cec2f86c",
   "metadata": {
    "pycharm": {
     "name": "#%%\n"
    }
   },
   "outputs": [],
   "source": [
    "file = open(\"file.pkl\",'rb')"
   ]
  },
  {
   "cell_type": "code",
   "execution_count": null,
   "id": "fd57e32f",
   "metadata": {
    "pycharm": {
     "name": "#%%\n"
    }
   },
   "outputs": [],
   "source": [
    "pickled_model = pickle.load(open('file.pkl', 'rb'))\n",
    "pickled_model.predict([[0.500000,1.0,1.0,1.0,0.0,1.0,0.0,0.0]])\n"
   ]
  },
  {
   "cell_type": "code",
   "execution_count": null,
   "id": "ba4bae31",
   "metadata": {
    "pycharm": {
     "name": "#%%\n"
    }
   },
   "outputs": [],
   "source": []
  }
 ],
 "metadata": {
  "kernelspec": {
   "display_name": "Python 3 (ipykernel)",
   "language": "python",
   "name": "python3"
  },
  "language_info": {
   "codemirror_mode": {
    "name": "ipython",
    "version": 3
   },
   "file_extension": ".py",
   "mimetype": "text/x-python",
   "name": "python",
   "nbconvert_exporter": "python",
   "pygments_lexer": "ipython3",
   "version": "3.9.5"
  }
 },
 "nbformat": 4,
 "nbformat_minor": 5
}